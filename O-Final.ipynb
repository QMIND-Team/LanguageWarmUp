{
 "cells": [
  {
   "cell_type": "markdown",
   "metadata": {},
   "source": [
    "# Language Warmup Final Model"
   ]
  },
  {
   "cell_type": "markdown",
   "metadata": {},
   "source": [
    "## Data Cleaning"
   ]
  },
  {
   "cell_type": "code",
   "execution_count": 1,
   "metadata": {},
   "outputs": [
    {
     "name": "stdout",
     "output_type": "stream",
     "text": [
      "                                              review  sentiment\n",
      "0                           Wow... Loved this place.          1\n",
      "1                                 Crust is not good.          0\n",
      "2          Not tasty and the texture was just nasty.          0\n",
      "3  Stopped by during the late May bank holiday of...          1\n",
      "4  The selection on the menu was great and so wer...          1\n"
     ]
    }
   ],
   "source": [
    "import pandas as pd\n",
    "import numpy as np\n",
    "import string\n",
    "\n",
    "\n",
    "yelpDataset = pd.read_csv('Yelp.txt', sep='\\t', header=None, encoding='latin-1')\n",
    "yelpDataset.columns = ['review', 'sentiment']\n",
    "\n",
    "print(yelpDataset[:5])\n",
    "\n",
    "def removePunct(text):\n",
    "    noPunct = ''.join([char for char in text if char not in string.punctuation])\n",
    "    return noPunct\n",
    "\n",
    "yelpDataset['review_clean'] = yelpDataset['review'].apply(lambda x: removePunct(x.lower()))\n",
    "\n",
    "df1 = pd.DataFrame(data = yelpDataset['review_clean'])\n",
    "#numpy array for review \n",
    "df1 = df1.values\n",
    "df2 = pd.DataFrame(data = yelpDataset['sentiment'])\n",
    "#numpy array for sentiment \n",
    "df2 = df2.values"
   ]
  },
  {
   "cell_type": "code",
   "execution_count": 2,
   "metadata": {},
   "outputs": [
    {
     "name": "stdout",
     "output_type": "stream",
     "text": [
      "['wow loved this place', 'crust is not good', 'not tasty and the texture was just nasty', 'stopped by during the late may bank holiday off rick steve recommendation and loved it', 'the selection on the menu was great and so were the prices']\n",
      "[1, 0, 0, 1, 1]\n"
     ]
    }
   ],
   "source": [
    "# Right now df1 is a 2D array.  (Each phrase is itself a single element, 1D array (Print it out and see the two sets of brackets))\n",
    "# Need to collapse that\n",
    "\n",
    "# Quick and dirty\n",
    "phrases = []\n",
    "for phrase in df1:\n",
    "    phrases.append(phrase[0])\n",
    "    \n",
    "# And same for df1\n",
    "y_dat = []\n",
    "for dat in df2:\n",
    "    y_dat.append(dat[0])\n",
    "    \n",
    "print(phrases[:5])\n",
    "print(y_dat[:5])"
   ]
  },
  {
   "cell_type": "markdown",
   "metadata": {},
   "source": [
    "## Feature Engineering"
   ]
  },
  {
   "cell_type": "code",
   "execution_count": 3,
   "metadata": {},
   "outputs": [],
   "source": [
    "## This uses fake data\n",
    "'''\n",
    "import random\n",
    "\n",
    "with open(\"FeatureCreate\\words.txt\") as f:\n",
    "    words = f.readlines()\n",
    "words = [x.strip() for x in words]\n",
    "\n",
    "phrases = []\n",
    "for i in range (0,10):\n",
    "    phraselength = random.randint(5,15)\n",
    "    phrase = []\n",
    "    for j in range(0,phraselength):\n",
    "        choice = random.randint(0,len(words))\n",
    "        phrase.append(words[choice])\n",
    "        sentence = ' '.join(phrase)\n",
    "    phrases.append(sentence)\n",
    "'''\n",
    "# REMOVE ABOVE\n",
    "\n",
    "from sklearn.feature_extraction.text import CountVectorizer\n",
    "vectorizer = CountVectorizer(binary=True, lowercase=False, ngram_range=(2, 2))\n",
    "vector = vectorizer.fit_transform(phrases)"
   ]
  },
  {
   "cell_type": "code",
   "execution_count": 4,
   "metadata": {},
   "outputs": [
    {
     "name": "stdout",
     "output_type": "stream",
     "text": [
      "<class 'numpy.ndarray'>\n"
     ]
    }
   ],
   "source": [
    "# Change to a numpy array\n",
    "\n",
    "data = vector.todense()\n",
    "data = np.asarray(data)\n",
    "print(type(data))\n"
   ]
  },
  {
   "cell_type": "code",
   "execution_count": 5,
   "metadata": {},
   "outputs": [
    {
     "name": "stdout",
     "output_type": "stream",
     "text": [
      "(600, 6687)\n",
      "(200, 6687)\n",
      "(200, 6687)\n"
     ]
    }
   ],
   "source": [
    "# Split into train, test, and validate sets\n",
    "\n",
    "x_train = np.concatenate([data[:300], data[-300:]])\n",
    "y_train = np.concatenate([y_dat[:300], y_dat[-300:]])\n",
    "x_val = np.concatenate([data[300:400], data[600:700]])\n",
    "y_val = np.concatenate([y_dat[300:400], y_dat[600:700]])\n",
    "x_test = np.concatenate([data[400:600]])\n",
    "y_test = np.concatenate([y_dat[400:600]])\n",
    "print(x_train.shape)\n",
    "print(x_val.shape)\n",
    "print(x_test.shape)"
   ]
  },
  {
   "cell_type": "markdown",
   "metadata": {},
   "source": [
    "# Model Architecture"
   ]
  },
  {
   "cell_type": "code",
   "execution_count": 6,
   "metadata": {},
   "outputs": [
    {
     "name": "stderr",
     "output_type": "stream",
     "text": [
      "Using TensorFlow backend.\n"
     ]
    }
   ],
   "source": [
    "# Lay out the model\n",
    "\n",
    "from keras import models\n",
    "from keras import layers\n",
    "\n",
    "model = models.Sequential()\n",
    "model.add(layers.Dense(16, activation = 'relu', input_shape = (x_train.shape[1],)))\n",
    "model.add(layers.Dense(16, activation = 'relu'))\n",
    "model.add(layers.Dense(1,  activation = 'sigmoid'))"
   ]
  },
  {
   "cell_type": "code",
   "execution_count": 7,
   "metadata": {},
   "outputs": [],
   "source": [
    "# Compile\n",
    "\n",
    "model.compile(optimizer = 'rmsprop', \n",
    "              loss = 'binary_crossentropy',\n",
    "              metrics = ['accuracy'])"
   ]
  },
  {
   "cell_type": "code",
   "execution_count": 8,
   "metadata": {},
   "outputs": [
    {
     "name": "stdout",
     "output_type": "stream",
     "text": [
      "Train on 600 samples, validate on 200 samples\n",
      "Epoch 1/20\n",
      "600/600 [==============================] - 1s 1ms/step - loss: 0.6926 - acc: 0.5100 - val_loss: 0.6938 - val_acc: 0.4450\n",
      "Epoch 2/20\n",
      "600/600 [==============================] - 0s 203us/step - loss: 0.6783 - acc: 0.6517 - val_loss: 0.6942 - val_acc: 0.4500\n",
      "Epoch 3/20\n",
      "600/600 [==============================] - 0s 193us/step - loss: 0.6612 - acc: 0.6983 - val_loss: 0.6923 - val_acc: 0.4500\n",
      "Epoch 4/20\n",
      "600/600 [==============================] - 0s 195us/step - loss: 0.6384 - acc: 0.7733 - val_loss: 0.6890 - val_acc: 0.4900\n",
      "Epoch 5/20\n",
      "600/600 [==============================] - 0s 193us/step - loss: 0.6097 - acc: 0.8583 - val_loss: 0.6852 - val_acc: 0.4950\n",
      "Epoch 6/20\n",
      "600/600 [==============================] - 0s 207us/step - loss: 0.5749 - acc: 0.9100 - val_loss: 0.6816 - val_acc: 0.5100\n",
      "Epoch 7/20\n",
      "600/600 [==============================] - 0s 183us/step - loss: 0.5350 - acc: 0.9300 - val_loss: 0.6717 - val_acc: 0.5700\n",
      "Epoch 8/20\n",
      "600/600 [==============================] - 0s 200us/step - loss: 0.4915 - acc: 0.9617 - val_loss: 0.6647 - val_acc: 0.5850\n",
      "Epoch 9/20\n",
      "600/600 [==============================] - 0s 197us/step - loss: 0.4451 - acc: 0.9717 - val_loss: 0.6550 - val_acc: 0.5950\n",
      "Epoch 10/20\n",
      "600/600 [==============================] - 0s 197us/step - loss: 0.3973 - acc: 0.9817 - val_loss: 0.6403 - val_acc: 0.6550\n",
      "Epoch 11/20\n",
      "600/600 [==============================] - 0s 199us/step - loss: 0.3495 - acc: 0.9933 - val_loss: 0.6297 - val_acc: 0.6600\n",
      "Epoch 12/20\n",
      "600/600 [==============================] - 0s 171us/step - loss: 0.3030 - acc: 0.9967 - val_loss: 0.6162 - val_acc: 0.6700\n",
      "Epoch 13/20\n",
      "600/600 [==============================] - 0s 150us/step - loss: 0.2590 - acc: 0.9983 - val_loss: 0.6009 - val_acc: 0.7000\n",
      "Epoch 14/20\n",
      "600/600 [==============================] - 0s 151us/step - loss: 0.2188 - acc: 0.9983 - val_loss: 0.5886 - val_acc: 0.7000\n",
      "Epoch 15/20\n",
      "600/600 [==============================] - 0s 169us/step - loss: 0.1835 - acc: 0.9983 - val_loss: 0.5803 - val_acc: 0.7000\n",
      "Epoch 16/20\n",
      "600/600 [==============================] - 0s 167us/step - loss: 0.1526 - acc: 0.9983 - val_loss: 0.5649 - val_acc: 0.7350\n",
      "Epoch 17/20\n",
      "600/600 [==============================] - 0s 168us/step - loss: 0.1260 - acc: 0.9983 - val_loss: 0.5543 - val_acc: 0.7250\n",
      "Epoch 18/20\n",
      "600/600 [==============================] - 0s 155us/step - loss: 0.1039 - acc: 0.9983 - val_loss: 0.5451 - val_acc: 0.7150\n",
      "Epoch 19/20\n",
      "600/600 [==============================] - 0s 156us/step - loss: 0.0853 - acc: 0.9983 - val_loss: 0.5386 - val_acc: 0.7100\n",
      "Epoch 20/20\n",
      "600/600 [==============================] - 0s 134us/step - loss: 0.0702 - acc: 0.9983 - val_loss: 0.5361 - val_acc: 0.7000\n"
     ]
    }
   ],
   "source": [
    "\n",
    "# Training time!\n",
    "\n",
    "history = model.fit(x_train,\n",
    "                       y_train, \n",
    "                       epochs=20,\n",
    "                       batch_size=64,\n",
    "                       validation_data=(x_val, y_val))"
   ]
  },
  {
   "cell_type": "code",
   "execution_count": 9,
   "metadata": {},
   "outputs": [
    {
     "name": "stdout",
     "output_type": "stream",
     "text": [
      "200/200 [==============================] - 0s 99us/step\n",
      "Accuracy: 0.71\n"
     ]
    }
   ],
   "source": [
    "\n",
    "# How did it do?\n",
    "\n",
    "results = model.evaluate(x_test, y_test)\n",
    "print (\"Accuracy:\", results[1])"
   ]
  },
  {
   "cell_type": "code",
   "execution_count": null,
   "metadata": {},
   "outputs": [],
   "source": []
  }
 ],
 "metadata": {
  "kernelspec": {
   "display_name": "Python 3",
   "language": "python",
   "name": "python3"
  },
  "language_info": {
   "codemirror_mode": {
    "name": "ipython",
    "version": 3
   },
   "file_extension": ".py",
   "mimetype": "text/x-python",
   "name": "python",
   "nbconvert_exporter": "python",
   "pygments_lexer": "ipython3",
   "version": "3.6.6"
  }
 },
 "nbformat": 4,
 "nbformat_minor": 2
}
