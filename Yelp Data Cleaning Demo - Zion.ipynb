{
 "cells": [
  {
   "cell_type": "markdown",
   "metadata": {},
   "source": [
    "# Yelp Data Cleaning Demo - Zion\n",
    "\n",
    "## This is a demo of the data cleaning pipeline and the visual checks I go through"
   ]
  },
  {
   "cell_type": "markdown",
   "metadata": {},
   "source": [
    "## Read in text data"
   ]
  },
  {
   "cell_type": "code",
   "execution_count": 70,
   "metadata": {},
   "outputs": [
    {
     "data": {
      "text/html": [
       "<div>\n",
       "<style scoped>\n",
       "    .dataframe tbody tr th:only-of-type {\n",
       "        vertical-align: middle;\n",
       "    }\n",
       "\n",
       "    .dataframe tbody tr th {\n",
       "        vertical-align: top;\n",
       "    }\n",
       "\n",
       "    .dataframe thead th {\n",
       "        text-align: right;\n",
       "    }\n",
       "</style>\n",
       "<table border=\"1\" class=\"dataframe\">\n",
       "  <thead>\n",
       "    <tr style=\"text-align: right;\">\n",
       "      <th></th>\n",
       "      <th>review</th>\n",
       "      <th>sentiment</th>\n",
       "    </tr>\n",
       "  </thead>\n",
       "  <tbody>\n",
       "    <tr>\n",
       "      <th>0</th>\n",
       "      <td>Wow... Loved this place.</td>\n",
       "      <td>1</td>\n",
       "    </tr>\n",
       "    <tr>\n",
       "      <th>1</th>\n",
       "      <td>Crust is not good.</td>\n",
       "      <td>0</td>\n",
       "    </tr>\n",
       "    <tr>\n",
       "      <th>2</th>\n",
       "      <td>Not tasty and the texture was just nasty.</td>\n",
       "      <td>0</td>\n",
       "    </tr>\n",
       "    <tr>\n",
       "      <th>3</th>\n",
       "      <td>Stopped by during the late May bank holiday of...</td>\n",
       "      <td>1</td>\n",
       "    </tr>\n",
       "    <tr>\n",
       "      <th>4</th>\n",
       "      <td>The selection on the menu was great and so wer...</td>\n",
       "      <td>1</td>\n",
       "    </tr>\n",
       "  </tbody>\n",
       "</table>\n",
       "</div>"
      ],
      "text/plain": [
       "                                              review  sentiment\n",
       "0                           Wow... Loved this place.          1\n",
       "1                                 Crust is not good.          0\n",
       "2          Not tasty and the texture was just nasty.          0\n",
       "3  Stopped by during the late May bank holiday of...          1\n",
       "4  The selection on the menu was great and so wer...          1"
      ]
     },
     "execution_count": 70,
     "metadata": {},
     "output_type": "execute_result"
    }
   ],
   "source": [
    "import pandas as pd\n",
    "import numpy as np\n",
    "\n",
    "yelpDataset = pd.read_csv('Yelp.txt', sep='\\t', header=None, encoding='latin-1')\n",
    "yelpDataset.columns = ['review', 'sentiment']\n",
    "\n",
    "yelpDataset.head()"
   ]
  },
  {
   "cell_type": "markdown",
   "metadata": {},
   "source": [
    "## Exploring the dataset"
   ]
  },
  {
   "cell_type": "markdown",
   "metadata": {},
   "source": [
    "### What is the shape of the dataset?"
   ]
  },
  {
   "cell_type": "code",
   "execution_count": 71,
   "metadata": {},
   "outputs": [
    {
     "name": "stdout",
     "output_type": "stream",
     "text": [
      "Input data has 1000 rows and 2 columns.\n"
     ]
    }
   ],
   "source": [
    "print ('Input data has {} rows and {} columns.'.format(len(yelpDataset), len(yelpDataset.columns)))"
   ]
  },
  {
   "cell_type": "markdown",
   "metadata": {},
   "source": [
    "### How many reviews are positive/negative?"
   ]
  },
  {
   "cell_type": "code",
   "execution_count": 72,
   "metadata": {},
   "outputs": [
    {
     "name": "stdout",
     "output_type": "stream",
     "text": [
      "Out of 1000 rows, 500 are positive (1) and 500 negative (0).\n"
     ]
    }
   ],
   "source": [
    "print('Out of {} rows, {} are positive (1) and {} negative (0).'.format(len(yelpDataset),\n",
    "                                                                       len(yelpDataset[yelpDataset['sentiment'] == 1]),\n",
    "                                                                       len(yelpDataset[yelpDataset['sentiment'] == 0])))\n",
    "\n"
   ]
  },
  {
   "cell_type": "markdown",
   "metadata": {},
   "source": [
    "### Any missing data?"
   ]
  },
  {
   "cell_type": "code",
   "execution_count": 73,
   "metadata": {},
   "outputs": [
    {
     "name": "stdout",
     "output_type": "stream",
     "text": [
      "Number of null in label: 0\n",
      "Number of null in label: 0\n"
     ]
    }
   ],
   "source": [
    "print(\"Number of null in label: {}\".format(yelpDataset['sentiment'].isnull().sum()))\n",
    "print(\"Number of null in label: {}\".format(yelpDataset['review'].isnull().sum()))"
   ]
  },
  {
   "cell_type": "code",
   "execution_count": 74,
   "metadata": {},
   "outputs": [
    {
     "name": "stdout",
     "output_type": "stream",
     "text": [
      "                                                review  sentiment\n",
      "0                             Wow... Loved this place.          1\n",
      "1                                   Crust is not good.          0\n",
      "2            Not tasty and the texture was just nasty.          0\n",
      "3    Stopped by during the late May bank holiday of...          1\n",
      "4    The selection on the menu was great and so wer...          1\n",
      "5       Now I am getting angry and I want my damn pho.          0\n",
      "6                Honeslty it didn't taste THAT fresh.)          0\n",
      "7    The potatoes were like rubber and you could te...          0\n",
      "8                            The fries were great too.          1\n",
      "9                                       A great touch.          1\n",
      "10                            Service was very prompt.          1\n",
      "11                                  Would not go back.          0\n",
      "12   The cashier had no care what so ever on what I...          0\n",
      "13   I tried the Cape Cod ravoli, chicken,with cran...          1\n",
      "14   I was disgusted because I was pretty sure that...          0\n",
      "15   I was shocked because no signs indicate cash o...          0\n",
      "16                                 Highly recommended.          1\n",
      "17              Waitress was a little slow in service.          0\n",
      "18   This place is not worth your time, let alone V...          0\n",
      "19                                did not like at all.          0\n",
      "20                                 The Burrittos Blah!          0\n",
      "21                                  The food, amazing.          1\n",
      "22                               Service is also cute.          1\n",
      "23   I could care less... The interior is just beau...          1\n",
      "24                                  So they performed.          1\n",
      "25   That's right....the red velvet cake.....ohhh t...          1\n",
      "26          - They never brought a salad we asked for.          0\n",
      "27   This hole in the wall has great Mexican street...          1\n",
      "28   Took an hour to get our food only 4 tables in ...          0\n",
      "29                   The worst was the salmon sashimi.          0\n",
      "..                                                 ...        ...\n",
      "970  I immediately said I wanted to talk to the man...          0\n",
      "971                    The ambiance isn't much better.          0\n",
      "972  Unfortunately, it only set us up for disapppoi...          0\n",
      "973                              The food wasn't good.          0\n",
      "974  Your servers suck, wait, correction, our serve...          0\n",
      "975      What happened next was pretty....off putting.          0\n",
      "976  too bad cause I know it's family owned, I real...          0\n",
      "977               Overpriced for what you are getting.          0\n",
      "978               I vomited in the bathroom mid lunch.          0\n",
      "979  I kept looking at the time and it had soon bec...          0\n",
      "980  I have been to very few places to eat that und...          0\n",
      "981  We started with the tuna sashimi which was bro...          0\n",
      "982                            Food was below average.          0\n",
      "983  It sure does beat the nachos at the movies but...          0\n",
      "984       All in all, Ha Long Bay was a bit of a flop.          0\n",
      "985  The problem I have is that they charge $11.99 ...          0\n",
      "986  Shrimp- When I unwrapped it (I live only 1/2 a...          0\n",
      "987     It lacked flavor, seemed undercooked, and dry.          0\n",
      "988  It really is impressive that the place hasn't ...          0\n",
      "989  I would avoid this place if you are staying in...          0\n",
      "990  The refried beans that came with my meal were ...          0\n",
      "991         Spend your money and time some place else.          0\n",
      "992  A lady at the table next to us found a live gr...          0\n",
      "993            the presentation of the food was awful.          0\n",
      "994           I can't tell you how disappointed I was.          0\n",
      "995  I think food should have flavor and texture an...          0\n",
      "996                           Appetite instantly gone.          0\n",
      "997  Overall I was not impressed and would not go b...          0\n",
      "998  The whole experience was underwhelming, and I ...          0\n",
      "999  Then, as if I hadn't wasted enough of my life ...          0\n",
      "\n",
      "[1000 rows x 2 columns]\n"
     ]
    }
   ],
   "source": [
    "print(yelpDataset[:])"
   ]
  },
  {
   "cell_type": "markdown",
   "metadata": {},
   "source": [
    "### Remove punctuation and uppercases"
   ]
  },
  {
   "cell_type": "code",
   "execution_count": 75,
   "metadata": {},
   "outputs": [
    {
     "data": {
      "text/plain": [
       "'!\"#$%&\\'()*+,-./:;<=>?@[\\\\]^_`{|}~'"
      ]
     },
     "execution_count": 75,
     "metadata": {},
     "output_type": "execute_result"
    }
   ],
   "source": [
    "import string\n",
    "string.punctuation"
   ]
  },
  {
   "cell_type": "code",
   "execution_count": 76,
   "metadata": {
    "scrolled": false
   },
   "outputs": [
    {
     "data": {
      "text/html": [
       "<div>\n",
       "<style scoped>\n",
       "    .dataframe tbody tr th:only-of-type {\n",
       "        vertical-align: middle;\n",
       "    }\n",
       "\n",
       "    .dataframe tbody tr th {\n",
       "        vertical-align: top;\n",
       "    }\n",
       "\n",
       "    .dataframe thead th {\n",
       "        text-align: right;\n",
       "    }\n",
       "</style>\n",
       "<table border=\"1\" class=\"dataframe\">\n",
       "  <thead>\n",
       "    <tr style=\"text-align: right;\">\n",
       "      <th></th>\n",
       "      <th>review</th>\n",
       "      <th>sentiment</th>\n",
       "      <th>review_clean</th>\n",
       "    </tr>\n",
       "  </thead>\n",
       "  <tbody>\n",
       "    <tr>\n",
       "      <th>0</th>\n",
       "      <td>Wow... Loved this place.</td>\n",
       "      <td>1</td>\n",
       "      <td>wow loved this place</td>\n",
       "    </tr>\n",
       "    <tr>\n",
       "      <th>1</th>\n",
       "      <td>Crust is not good.</td>\n",
       "      <td>0</td>\n",
       "      <td>crust is not good</td>\n",
       "    </tr>\n",
       "    <tr>\n",
       "      <th>2</th>\n",
       "      <td>Not tasty and the texture was just nasty.</td>\n",
       "      <td>0</td>\n",
       "      <td>not tasty and the texture was just nasty</td>\n",
       "    </tr>\n",
       "    <tr>\n",
       "      <th>3</th>\n",
       "      <td>Stopped by during the late May bank holiday of...</td>\n",
       "      <td>1</td>\n",
       "      <td>stopped by during the late may bank holiday of...</td>\n",
       "    </tr>\n",
       "    <tr>\n",
       "      <th>4</th>\n",
       "      <td>The selection on the menu was great and so wer...</td>\n",
       "      <td>1</td>\n",
       "      <td>the selection on the menu was great and so wer...</td>\n",
       "    </tr>\n",
       "  </tbody>\n",
       "</table>\n",
       "</div>"
      ],
      "text/plain": [
       "                                              review  sentiment  \\\n",
       "0                           Wow... Loved this place.          1   \n",
       "1                                 Crust is not good.          0   \n",
       "2          Not tasty and the texture was just nasty.          0   \n",
       "3  Stopped by during the late May bank holiday of...          1   \n",
       "4  The selection on the menu was great and so wer...          1   \n",
       "\n",
       "                                        review_clean  \n",
       "0                               wow loved this place  \n",
       "1                                  crust is not good  \n",
       "2           not tasty and the texture was just nasty  \n",
       "3  stopped by during the late may bank holiday of...  \n",
       "4  the selection on the menu was great and so wer...  "
      ]
     },
     "execution_count": 76,
     "metadata": {},
     "output_type": "execute_result"
    }
   ],
   "source": [
    "import string\n",
    "\n",
    "def removePunct(text):\n",
    "    noPunct = ''.join([char for char in text if char not in string.punctuation])\n",
    "    return noPunct\n",
    "\n",
    "# .apply() is a pandas method that applies a function across an index/column in a dataframe\n",
    "yelpDataset['review_clean'] = yelpDataset['review'].apply(lambda x: removePunct(x.lower()))\n",
    "\n",
    "yelpDataset.head()"
   ]
  },
  {
   "cell_type": "code",
   "execution_count": 77,
   "metadata": {},
   "outputs": [
    {
     "name": "stdout",
     "output_type": "stream",
     "text": [
      "['wow loved this place', 'crust is not good', 'not tasty and the texture was just nasty', 'stopped by during the late may bank holiday off rick steve recommendation and loved it', 'the selection on the menu was great and so were the prices']\n",
      "[1, 0, 0, 1, 1]\n"
     ]
    }
   ],
   "source": [
    "df1 = pd.DataFrame(data = yelpDataset['review_clean'])\n",
    "#numpy array for review \n",
    "df1 = df1['review_clean'].tolist()\n",
    "df2 = pd.DataFrame(data = yelpDataset['sentiment'])\n",
    "#numpy array for sentiment \n",
    "df2 = df2['sentiment'].tolist()\n",
    "\n",
    "print (df1[:5])\n",
    "print (df2[:5])"
   ]
  },
  {
   "cell_type": "code",
   "execution_count": null,
   "metadata": {
    "scrolled": true
   },
   "outputs": [],
   "source": []
  },
  {
   "cell_type": "code",
   "execution_count": null,
   "metadata": {},
   "outputs": [],
   "source": []
  },
  {
   "cell_type": "code",
   "execution_count": null,
   "metadata": {},
   "outputs": [],
   "source": []
  }
 ],
 "metadata": {
  "kernelspec": {
   "display_name": "Python 3",
   "language": "python",
   "name": "python3"
  },
  "language_info": {
   "codemirror_mode": {
    "name": "ipython",
    "version": 3
   },
   "file_extension": ".py",
   "mimetype": "text/x-python",
   "name": "python",
   "nbconvert_exporter": "python",
   "pygments_lexer": "ipython3",
   "version": "3.6.6"
  }
 },
 "nbformat": 4,
 "nbformat_minor": 2
}
