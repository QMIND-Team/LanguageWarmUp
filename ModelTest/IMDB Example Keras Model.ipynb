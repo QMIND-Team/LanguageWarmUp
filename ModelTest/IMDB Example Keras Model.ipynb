{
 "cells": [
  {
   "cell_type": "code",
   "execution_count": 1,
   "metadata": {},
   "outputs": [
    {
     "name": "stderr",
     "output_type": "stream",
     "text": [
      "Using TensorFlow backend.\n"
     ]
    }
   ],
   "source": [
    "from keras.datasets import imdb\n",
    "\n",
    "(train_data, train_labels), (test_data, test_labels) = imdb.load_data(num_words = 10000)"
   ]
  },
  {
   "cell_type": "code",
   "execution_count": 2,
   "metadata": {},
   "outputs": [
    {
     "name": "stdout",
     "output_type": "stream",
     "text": [
      "1\n"
     ]
    }
   ],
   "source": [
    "print(train_data.ndim)"
   ]
  },
  {
   "cell_type": "code",
   "execution_count": 3,
   "metadata": {},
   "outputs": [],
   "source": [
    "word_index = imdb.get_word_index()\n",
    "reverse_word_index = dict(\n",
    "        [(value, key) for (key, value) in word_index.items()])\n",
    "decoded_review = ' '.join(\n",
    "        [reverse_word_index.get(i - 3, '?') for i in train_data[0]])"
   ]
  },
  {
   "cell_type": "code",
   "execution_count": 4,
   "metadata": {},
   "outputs": [],
   "source": [
    "import numpy as np \n",
    "def vectorize_sequence(sequences, dimension = 10000):\n",
    "    results = np.zeros((len(sequences), dimension))\n",
    "    for i, sequence in enumerate(sequences):\n",
    "        results[i, sequence] = 1.\n",
    "        return results\n",
    "    \n",
    "x_train = vectorize_sequence(train_data)\n",
    "x_test = vectorize_sequence(test_data)\n"
   ]
  },
  {
   "cell_type": "code",
   "execution_count": 5,
   "metadata": {},
   "outputs": [
    {
     "name": "stdout",
     "output_type": "stream",
     "text": [
      "[[0. 1. 1. ... 0. 0. 0.]\n",
      " [0. 0. 0. ... 0. 0. 0.]\n",
      " [0. 0. 0. ... 0. 0. 0.]\n",
      " ...\n",
      " [0. 0. 0. ... 0. 0. 0.]\n",
      " [0. 0. 0. ... 0. 0. 0.]\n",
      " [0. 0. 0. ... 0. 0. 0.]]\n"
     ]
    }
   ],
   "source": [
    "print(x_train)"
   ]
  },
  {
   "cell_type": "code",
   "execution_count": 6,
   "metadata": {},
   "outputs": [],
   "source": [
    "y_train = np.asarray(train_labels).astype('float32')\n",
    "y_test = np.asarray(test_labels).astype('float32')"
   ]
  },
  {
   "cell_type": "code",
   "execution_count": 7,
   "metadata": {},
   "outputs": [],
   "source": [
    "from keras import models\n",
    "from keras import layers\n",
    "\n",
    "model = models.Sequential()\n",
    "model.add(layers.Dense(16, activation = 'relu', input_shape = (10000,)))\n",
    "model.add(layers.Dense(16, activation = 'relu'))\n",
    "model.add(layers.Dense(1,  activation = 'sigmoid'))"
   ]
  },
  {
   "cell_type": "code",
   "execution_count": 8,
   "metadata": {},
   "outputs": [],
   "source": [
    "model.compile(optimizer = 'rmsprop', \n",
    "              loss = 'binary_crossentropy',\n",
    "              metrics = ['accuracy'])"
   ]
  },
  {
   "cell_type": "code",
   "execution_count": 9,
   "metadata": {},
   "outputs": [],
   "source": [
    "from keras import optimizers\n",
    "model.compile(optimizer = optimizers.RMSprop(lr=0.001),\n",
    "              loss = 'binary_crossentropy',\n",
    "              metrics = ['accuracy'])"
   ]
  },
  {
   "cell_type": "code",
   "execution_count": 10,
   "metadata": {},
   "outputs": [],
   "source": [
    "from keras import losses\n",
    "from keras import metrics\n",
    "\n",
    "model.compile(optimizer = optimizers.RMSprop(lr = 0.001),\n",
    "              loss = losses.binary_crossentropy,\n",
    "              metrics = [metrics.binary_accuracy])"
   ]
  },
  {
   "cell_type": "code",
   "execution_count": 11,
   "metadata": {},
   "outputs": [],
   "source": [
    "#Setting aside the first 10000 data entries to use for training validation\n",
    "\n",
    "x_val = x_train[:10000]\n",
    "partial_x_train = x_train[10000:]\n",
    "y_val = y_train[:10000]\n",
    "partial_y_train = y_train[10000:]"
   ]
  },
  {
   "cell_type": "code",
   "execution_count": 12,
   "metadata": {},
   "outputs": [
    {
     "name": "stdout",
     "output_type": "stream",
     "text": [
      "Train on 15000 samples, validate on 10000 samples\n",
      "Epoch 1/20\n",
      "15000/15000 [==============================] - 5s 366us/step - loss: 0.6932 - acc: 0.4982 - val_loss: 0.6932 - val_acc: 0.4947\n",
      "Epoch 2/20\n",
      "15000/15000 [==============================] - 2s 131us/step - loss: 0.6931 - acc: 0.5035 - val_loss: 0.6932 - val_acc: 0.4947\n",
      "Epoch 3/20\n",
      "15000/15000 [==============================] - 2s 129us/step - loss: 0.6931 - acc: 0.5035 - val_loss: 0.6932 - val_acc: 0.4947\n",
      "Epoch 4/20\n",
      "15000/15000 [==============================] - 2s 129us/step - loss: 0.6931 - acc: 0.5035 - val_loss: 0.6932 - val_acc: 0.4947\n",
      "Epoch 5/20\n",
      "15000/15000 [==============================] - 2s 128us/step - loss: 0.6931 - acc: 0.5035 - val_loss: 0.6932 - val_acc: 0.4947\n",
      "Epoch 6/20\n",
      "15000/15000 [==============================] - 3s 202us/step - loss: 0.6931 - acc: 0.5035 - val_loss: 0.6933 - val_acc: 0.4947\n",
      "Epoch 7/20\n",
      "15000/15000 [==============================] - 2s 143us/step - loss: 0.6931 - acc: 0.5035 - val_loss: 0.6932 - val_acc: 0.4947\n",
      "Epoch 8/20\n",
      "15000/15000 [==============================] - 10s 673us/step - loss: 0.6931 - acc: 0.5035 - val_loss: 0.6932 - val_acc: 0.4947\n",
      "Epoch 9/20\n",
      "15000/15000 [==============================] - 5s 326us/step - loss: 0.6931 - acc: 0.5035 - val_loss: 0.6933 - val_acc: 0.4947\n",
      "Epoch 10/20\n",
      "15000/15000 [==============================] - 4s 249us/step - loss: 0.6931 - acc: 0.5035 - val_loss: 0.6933 - val_acc: 0.4947\n",
      "Epoch 11/20\n",
      "15000/15000 [==============================] - 2s 165us/step - loss: 0.6931 - acc: 0.5035 - val_loss: 0.6933 - val_acc: 0.4947\n",
      "Epoch 12/20\n",
      "15000/15000 [==============================] - 2s 158us/step - loss: 0.6931 - acc: 0.5035 - val_loss: 0.6933 - val_acc: 0.4947\n",
      "Epoch 13/20\n",
      "15000/15000 [==============================] - 2s 166us/step - loss: 0.6931 - acc: 0.5035 - val_loss: 0.6933 - val_acc: 0.4947\n",
      "Epoch 14/20\n",
      "15000/15000 [==============================] - 2s 162us/step - loss: 0.6931 - acc: 0.5035 - val_loss: 0.6932 - val_acc: 0.4947\n",
      "Epoch 15/20\n",
      "15000/15000 [==============================] - 2s 150us/step - loss: 0.6931 - acc: 0.5035 - val_loss: 0.6932 - val_acc: 0.4947\n",
      "Epoch 16/20\n",
      "15000/15000 [==============================] - 2s 153us/step - loss: 0.6931 - acc: 0.5035 - val_loss: 0.6932 - val_acc: 0.4947\n",
      "Epoch 17/20\n",
      "15000/15000 [==============================] - 2s 150us/step - loss: 0.6931 - acc: 0.5035 - val_loss: 0.6932 - val_acc: 0.4947\n",
      "Epoch 18/20\n",
      "15000/15000 [==============================] - 2s 152us/step - loss: 0.6931 - acc: 0.5035 - val_loss: 0.6932 - val_acc: 0.4947\n",
      "Epoch 19/20\n",
      "15000/15000 [==============================] - 2s 150us/step - loss: 0.6931 - acc: 0.5035 - val_loss: 0.6932 - val_acc: 0.4947\n",
      "Epoch 20/20\n",
      "15000/15000 [==============================] - 2s 149us/step - loss: 0.6931 - acc: 0.5035 - val_loss: 0.6932 - val_acc: 0.4947\n"
     ]
    }
   ],
   "source": [
    "#Now to finally train the model\n",
    "\n",
    "model.compile(optimizer = 'rmsprop',\n",
    "              loss = 'binary_crossentropy',\n",
    "              metrics = ['acc'])\n",
    "\n",
    "history = model.fit(partial_x_train,\n",
    "                    partial_y_train,\n",
    "                    epochs = 20,\n",
    "                    batch_size = 512,\n",
    "                    validation_data = (x_val, y_val))"
   ]
  },
  {
   "cell_type": "code",
   "execution_count": 13,
   "metadata": {},
   "outputs": [
    {
     "name": "stdout",
     "output_type": "stream",
     "text": [
      "Epoch 1/20\n",
      "25000/25000 [==============================] - 4s 171us/step - loss: 0.6932 - acc: 0.4964 4 - ETA: 0s - loss: 0.6932 - acc:\n",
      "Epoch 2/20\n",
      "25000/25000 [==============================] - 5s 197us/step - loss: 0.6932 - acc: 0.4941\n",
      "Epoch 3/20\n",
      "25000/25000 [==============================] - 4s 161us/step - loss: 0.6932 - acc: 0.4950\n",
      "Epoch 4/20\n",
      "25000/25000 [==============================] - 3s 104us/step - loss: 0.6932 - acc: 0.5015\n",
      "Epoch 5/20\n",
      "25000/25000 [==============================] - 3s 106us/step - loss: 0.6932 - acc: 0.4989\n",
      "Epoch 6/20\n",
      "25000/25000 [==============================] - 6s 254us/step - loss: 0.6932 - acc: 0.4996\n",
      "Epoch 7/20\n",
      "25000/25000 [==============================] - 3s 125us/step - loss: 0.6932 - acc: 0.4979\n",
      "Epoch 8/20\n",
      "25000/25000 [==============================] - 3s 103us/step - loss: 0.6932 - acc: 0.4987 2s - \n",
      "Epoch 9/20\n",
      "25000/25000 [==============================] - 2s 78us/step - loss: 0.6932 - acc: 0.4996\n",
      "Epoch 10/20\n",
      "25000/25000 [==============================] - 2s 76us/step - loss: 0.6932 - acc: 0.4945\n",
      "Epoch 11/20\n",
      "25000/25000 [==============================] - 2s 77us/step - loss: 0.6932 - acc: 0.4957\n",
      "Epoch 12/20\n",
      "25000/25000 [==============================] - 2s 77us/step - loss: 0.6932 - acc: 0.4958\n",
      "Epoch 13/20\n",
      "25000/25000 [==============================] - 2s 75us/step - loss: 0.6932 - acc: 0.4972\n",
      "Epoch 14/20\n",
      "25000/25000 [==============================] - 2s 74us/step - loss: 0.6931 - acc: 0.4995\n",
      "Epoch 15/20\n",
      "25000/25000 [==============================] - 2s 76us/step - loss: 0.6932 - acc: 0.4972\n",
      "Epoch 16/20\n",
      "25000/25000 [==============================] - 2s 81us/step - loss: 0.6931 - acc: 0.4979\n",
      "Epoch 17/20\n",
      "25000/25000 [==============================] - 2s 75us/step - loss: 0.6931 - acc: 0.4984\n",
      "Epoch 18/20\n",
      "25000/25000 [==============================] - 2s 74us/step - loss: 0.6932 - acc: 0.5000\n",
      "Epoch 19/20\n",
      "25000/25000 [==============================] - 2s 74us/step - loss: 0.6931 - acc: 0.5000\n",
      "Epoch 20/20\n",
      "25000/25000 [==============================] - 2s 75us/step - loss: 0.6931 - acc: 0.4970\n",
      "25000/25000 [==============================] - 4s 151us/step\n",
      "[0.6931595072937011, 0.5]\n"
     ]
    }
   ],
   "source": [
    "model = models.Sequential()\n",
    "model.add(layers.Dense(16, activation = 'relu', input_shape = (10000,)))\n",
    "model.add(layers.Dense(16, activation = 'relu'))\n",
    "model.add(layers.Dense(16, activation = 'relu'))\n",
    "model.add(layers.Dense(16, activation = 'relu'))\n",
    "model.add(layers.Dense(1,  activation = 'sigmoid'))\n",
    "\n",
    "model.compile(optimizer = 'rmsprop',\n",
    "              loss = 'binary_crossentropy',\n",
    "              metrics = ['accuracy'])\n",
    "\n",
    "model.fit(x_train, y_train, epochs = 20, batch_size = 512)\n",
    "results = model.evaluate(x_test, y_test)\n",
    "print (results)"
   ]
  },
  {
   "cell_type": "code",
   "execution_count": 14,
   "metadata": {},
   "outputs": [
    {
     "data": {
      "text/plain": [
       "array([[0.58491015],\n",
       "       [0.5015781 ],\n",
       "       [0.5015781 ],\n",
       "       ...,\n",
       "       [0.5015781 ],\n",
       "       [0.5015781 ],\n",
       "       [0.5015781 ]], dtype=float32)"
      ]
     },
     "execution_count": 14,
     "metadata": {},
     "output_type": "execute_result"
    }
   ],
   "source": [
    "model.predict(x_test)"
   ]
  },
  {
   "cell_type": "code",
   "execution_count": null,
   "metadata": {},
   "outputs": [],
   "source": []
  },
  {
   "cell_type": "code",
   "execution_count": null,
   "metadata": {},
   "outputs": [],
   "source": []
  }
 ],
 "metadata": {
  "kernelspec": {
   "display_name": "Python 3",
   "language": "python",
   "name": "python3"
  },
  "language_info": {
   "codemirror_mode": {
    "name": "ipython",
    "version": 3
   },
   "file_extension": ".py",
   "mimetype": "text/x-python",
   "name": "python",
   "nbconvert_exporter": "python",
   "pygments_lexer": "ipython3",
   "version": "3.6.7"
  }
 },
 "nbformat": 4,
 "nbformat_minor": 2
}
