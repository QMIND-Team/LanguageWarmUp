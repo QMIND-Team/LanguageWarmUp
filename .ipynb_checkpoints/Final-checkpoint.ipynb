{
 "cells": [
  {
   "cell_type": "markdown",
   "metadata": {},
   "source": [
    "# Language Warmup Full Model\n",
    "\n",
    "## Data Cleaning"
   ]
  },
  {
   "cell_type": "markdown",
   "metadata": {},
   "source": [
    "### Getting the Cleaning Tools Ready"
   ]
  },
  {
   "cell_type": "markdown",
   "metadata": {},
   "source": [
    "To clean the dataset, we will be using Pandas, NumPy, RegEx, NLTK and an autocorrect library. There are some custom solutions here that will be explained further via inline comments. Here, we are just importing the libraries and even selecting specific modules from some of them."
   ]
  },
  {
   "cell_type": "code",
   "execution_count": 1,
   "metadata": {},
   "outputs": [
    {
     "name": "stderr",
     "output_type": "stream",
     "text": [
      "[nltk_data] Downloading package stopwords to\n",
      "[nltk_data]     C:\\Users\\Troy\\AppData\\Roaming\\nltk_data...\n",
      "[nltk_data]   Package stopwords is already up-to-date!\n",
      "[nltk_data] Downloading package wordnet to\n",
      "[nltk_data]     C:\\Users\\Troy\\AppData\\Roaming\\nltk_data...\n",
      "[nltk_data]   Package wordnet is already up-to-date!\n"
     ]
    }
   ],
   "source": [
    "import pandas as pd\n",
    "import numpy as np\n",
    "import string\n",
    "import re\n",
    "import nltk\n",
    "\n",
    "# 'spell' will be our spell checker and corrector for cleaning purposes\n",
    "from autocorrect import spell\n",
    "\n",
    "# A stopword for our purposes is a word that doesn't add a lot of insight to the sentiment of a sentence\n",
    "nltk.download('stopwords')\n",
    "nltk.download('wordnet')\n",
    "\n",
    "# A lemmatizer is a way for us to find the root of a word. \n",
    "# Using this, 'grows', 'grew', and 'grown' all evaluate to 'grow'.\n",
    "lm = nltk.WordNetLemmatizer()\n",
    "\n",
    "stopword = nltk.corpus.stopwords.words('english')\n",
    "\n",
    "# We are removing the word 'not' to avoid a situation where for example 'not good' == 'good' \n",
    "stopword = [word for word in stopword if word != 'not']"
   ]
  },
  {
   "cell_type": "markdown",
   "metadata": {},
   "source": [
    "### Reading in the Data"
   ]
  },
  {
   "cell_type": "markdown",
   "metadata": {},
   "source": [
    "These two lines of code make it really easy to manipulate the dataset by organizing it into labelled columns and rows, called a dataframe. We can create functions to manipulate specific columns, and for our purposes, we'd like to play around with the reviews only. To do that, first we must read in the data. We can use Pandas' **pd.read_csv** as seen below to read a specific file, **Yelp.txt**. We just have to indicate that each colummn is separated by a tab, or **\\t** which we have done. **Header** is set to None because we want to read the file from its first line. Finally, encoding has been set to **Latin1**. This is because of a decoding error that was thrown at us. Encoding in another character set seemed to fix the problem and create no new ones, so we didn't look back. \n",
    "\n",
    "Now that the dataset is read in, we can name our columns as they appear from left to right by using the **.columns** method in Pandas."
   ]
  },
  {
   "cell_type": "code",
   "execution_count": 2,
   "metadata": {},
   "outputs": [],
   "source": [
    "yelpDataset = pd.read_csv('Yelp.txt', sep='\\t', header=None, encoding='latin-1')\n",
    "yelpDataset.columns = ['review', 'sentiment']"
   ]
  },
  {
   "cell_type": "markdown",
   "metadata": {},
   "source": [
    "### Creating the Cleaning Functions"
   ]
  },
  {
   "cell_type": "markdown",
   "metadata": {},
   "source": [
    "With our data set up the way it is, our cleaning is made fairly simple. Each of these functions 'reads' each review and then executes its function on each of them. The purpose of each function will be explained with inline comments."
   ]
  },
  {
   "cell_type": "code",
   "execution_count": 3,
   "metadata": {
    "scrolled": true
   },
   "outputs": [],
   "source": [
    "# This function takes each review and breaks it up into its individual words\n",
    "def tokenize(text):\n",
    "    tokens = re.split('\\W+', text) # '\\W' will split on any non-word characters such as a whitespace, comma or period\n",
    "    return tokens\n",
    "\n",
    "# This function removes all characters from 'review' that are NOT alaphabetical (special characters, punctuation etc)\n",
    "def onlyAlpha(tokenizedList):\n",
    "    text = [word for word in tokenizedList if word.isalpha()]\n",
    "    return text\n",
    "\n",
    "# This function removes any instance of a stopword in each review\n",
    "def noStop(tokenizedList):\n",
    "    text = [word for word in tokenizedList if word not in stopword]\n",
    "    return text\n",
    "\n",
    "# This function checks for and corrects spelling errors in each word of each review\n",
    "def spellCheck(tokenizedList):\n",
    "    text = [spell(word) for word in tokenizedList]\n",
    "    return text\n",
    "\n",
    "# This function uses the lemmatizer mentioned earlier on each word of each review\n",
    "def lemmatize(tokenizedList):\n",
    "    text = ' '.join([lm.lemmatize(word) for word in tokenizedList]) # .join is used at the end to return the tokenized\n",
    "    return text                                                     # reviews and returning them to full sentences\n",
    "\n",
    "\n"
   ]
  },
  {
   "cell_type": "markdown",
   "metadata": {},
   "source": [
    "### Applying the Cleaning Functions"
   ]
  },
  {
   "cell_type": "markdown",
   "metadata": {},
   "source": [
    "To apply each function, we decided to use lambda functions. Using lambda functions is beneficial here because we are performing a fairly specific sequence of tasks. On the left of each expression we are naming a new column (usually to reflect a change), and on the right, we are applying a function to each row of our specified column. This leaves us with a new column of data with the function applied. "
   ]
  },
  {
   "cell_type": "code",
   "execution_count": 4,
   "metadata": {},
   "outputs": [],
   "source": [
    "# .apply() is a pandas method that applies a function across an index/column in a dataframe\n",
    "yelpDataset['review_tokens'] = yelpDataset['review'].apply(lambda x: tokenize(x.lower()))\n",
    "\n",
    "yelpDataset['review_alpha'] = yelpDataset['review_tokens'].apply(lambda x: onlyAlpha(x))\n",
    "yelpDataset['review_nostops'] = yelpDataset['review_alpha'].apply(lambda x: noStop(x))\n",
    "yelpDataset['review_spellCheck'] = yelpDataset['review_nostops'].apply(lambda x: spellCheck(x))\n",
    "yelpDataset['review_lemmatized'] = yelpDataset['review_spellCheck'].apply(lambda x: lemmatize(x))"
   ]
  },
  {
   "cell_type": "markdown",
   "metadata": {},
   "source": [
    "### From DataFrame to Separate Lists\n",
    "\n",
    "Now that the data is clean, in order for our Feature Engineering and Vectorization to proceed we must turn our 2-dimensional DataFrame into two separate lists."
   ]
  },
  {
   "cell_type": "code",
   "execution_count": 5,
   "metadata": {},
   "outputs": [],
   "source": [
    "# First, we can turn our DataFrame column into a 1-dimensional DataFrame \n",
    "review = pd.DataFrame(data = yelpDataset['review_lemmatized'])\n",
    "\n",
    "# Now, we can turn our 1-dimensional DataFrame into a list using Pandas' .tolist method\n",
    "review = review['review_lemmatized'].tolist()\n",
    "\n",
    "#The same is done to our sentiment column\n",
    "sentiment = pd.DataFrame(data = yelpDataset['sentiment'])\n",
    "sentiment = sentiment['sentiment'].tolist()"
   ]
  },
  {
   "cell_type": "code",
   "execution_count": 6,
   "metadata": {},
   "outputs": [
    {
     "name": "stdout",
     "output_type": "stream",
     "text": [
      "['wow loved place', 'crust not good', 'not tasty texture nasty', 'stopped late may bank holiday rick steve recommendation loved', 'selection menu great price', 'getting angry want damn pho', 'honestly taste fresh', 'potato like rubber could tell made ahead time kept warmer', 'fry great', 'great touch', 'service prompt', 'would not go back', 'cashier care ever say still ended way overpriced', 'tried cape cod ravioli chicken cranberry mmmm', 'disgusted pretty sure human hair', 'shocked sign indicate cash', 'highly recommended', 'waitress little slow service', 'place not worth time let alone vega', 'not like', 'burrito blah', 'food amazing', 'service also cute', 'could care le interior beautiful', 'performed', 'right red velvet cake oath stuff good', 'never brought salad asked', 'hole wall great mexican street taco friendly staff', 'took hour get food table restaurant food luke warm sever running around like totally overwhelmed', 'worst salmon sashimi', 'also combo like burger fry beer decent deal', 'like final blow', 'found place accident could not happier', 'seems like good quick place grab bite familiar pub food favor look elsewhere', 'overall like place lot', 'redeeming quality restaurant inexpensive', 'ample portion good price', 'poor service waiter made feel like stupid every time came table', 'first visit hiro delight', 'service suck', 'shrimp tender moist', 'not deal good enough would drag establishment', 'hard judge whether side good grossed melted styrofoam want eat fear getting sick', 'positive note server attentive provided great service', 'frozen puck disgust worst people behind register', 'thing like prime rib dessert section', 'bad food damn generic', 'burger good beef cooked right', 'want sandwich go firehouse', 'side greek salad greek dressing tasty pita hummus refreshing', 'ordered duck rare pink tender inside nice char outside', 'came running u realized husband left sunglass table', 'chow mein good', 'horrible attitude towards customer talk one customer enjoy food', 'portion huge', 'loved friendly server great food wonderful imaginative menu', 'heart attack grill downtown vega absolutely flat lined excuse restaurant', 'not much seafood like string pasta bottom', 'salad right amount sauce not power scallop perfectly cooked', 'ripped banana not ripped petrified tasteless', 'least think refill water struggle wave minute', 'place receives star appetizer', 'cocktail handmade delicious', 'definitely go back', 'glad found place', 'great food service huge portion give military discount', 'always great time do gringo', 'update went back second time still amazing', 'got food apparently never heard salt batter fish chewy', 'great way finish great', 'deal included tasting drink jeff went beyond expected', 'really really good rice time', 'service me', 'took min get milkshake nothing chocolate milk', 'guess known place would suck inside excalibur use common sense', 'scallop dish quite appalling value well', 'time bad customer service', 'sweet potato fry good seasoned well', 'today second time lunch buffet pretty good', 'much good food vega feel cheated wasting eating opportunity going rice company', 'coming like experiencing underwhelming relationship party wait person ask break', 'walked place smelled like old grease trap others eating', 'turkey roast beef bland', 'place', 'pan cake everyone raving taste like sugary disaster tailored palate six year old', 'love pho spring roll oh yummy try', 'poor batter meat ratio made chicken tender unsatisfying', 'say food amazing', 'omelet die', 'everything fresh delicious', 'summary largely disappointing dining experience', 'like really sexy party mouth outrageously flirting hottest person party', 'never hard rock casino never ever step forward', 'best breakfast buffet', 'say bye bye tip lady', 'never go', 'back', 'food arrived quickly', 'not good', 'side cafe serf really good food', 'server fantastic found wife love roasted garlic bone marrow added extra meal another marrow go', 'good thing waiter helpful kept bloody mary coming', 'best buffet town price cannot beat', 'loved mussel cooked wine reduction duck tender potato dish delicious', 'one better buffet', 'went tigerlilly fantastic afternoon', 'food delicious bartender attentive personable got great deal', 'ambience wonderful music playing', 'go back next trip', 'soosoo good', 'real sushi lover let honest yama not good', 'least passed u ordering food arriving busy', 'really fantastic thai restaurant definitely worth visit', 'nice spicy tender', 'good price', 'check', 'pretty gross', 'better atmosphere', 'kind hard mess steak', 'although much liked look sound place actual experience bit disappointing', 'know place managed served blandest food ever eaten preparing indian cuisine', 'worst service boot least worry', 'service fine waitress friendly', 'guy steak steak loving son steak best worst place said best steak ever eaten', 'thought venture away get good sushi place really hit spot night', 'host staff lack better word bitch', 'bland not liking place number reason want waste time bad reviewing leave', 'phenomenal food service ambiance', 'return', 'definitely worth venturing strip pork belly return next time vega', 'place way overpriced mediocre food', 'penne vodka excellent', 'good selection food including massive meatloaf sandwich crispy chicken wrap delish tuna melt tasty burger', 'management rude', 'delicious NYC bagel good selection cream cheese real lox caper even', 'great subway fact good come every subway not meet expectation', 'seriously solid breakfast', 'one best bar food vega', 'extremely rude really many restaurant would love dine weekend vega', 'drink never empty made really great menu suggestion', '', 'waiter helpful friendly rarely checked u', 'husband ate lunch disappointed food service', 'red curry much bamboo shoot tasty', 'nice blanket moz top feel like done cover subpar food', 'bathroom clean place well decorated', 'menu always changing food quality going service extremely slow', 'service little slow considering served people server food coming slow pace', 'give thumb', 'watched waiter pay lot attention table ignore u', 'fiance came middle day greeted seated right away', 'great restaurant mandalay bay', 'waited forty five minute vain', 'crostini came salad stale', 'highlight great quality nigori', 'staff friendly joint always clean', 'different cut piece day still wonderful tender well well flavored', 'ordered voodoo pasta first time really excellent pasta since going gluten free several year ago', 'place good', 'unfortunately must hit bakery leftover day everything ordered stale', 'came back today since relocated still not impressed', 'seated immediately', 'menu diverse reasonably priced', 'avoid cost', 'restaurant always full never wait', 'delicious', 'place hand one best place eat phoenix metro area', 'go looking good food', 'never treated bad', 'bacon hell salty', 'also ordered spinach avocado salad ingredient sad dressing literally zero taste', 'really vega fine dining used right menu handed lady price listed', 'waitress friendly', 'lordy khan so dish not missed curry lover', 'everything menu terrific also thrilled made amazing accommodation vegetarian daughter', 'perhaps caught night judging review not inspired go back', 'service leaf lot desired', 'atmosphere modern hip maintaining touch coziness', 'not weekly haunt definitely place come back every', 'literally sat minute one asking take order', 'burger absolutely flavor meat totally bland burger overcooked charcoal flavor', 'also decided not send back waitress looked like verge heart attack', 'dressed treated rudely', 'probably dirt', 'love place hit spot want something healthy not lacking quantity flavor', 'ordered lemon raspberry ice cocktail also incredible', 'food sucked expected sucked could imagined', 'interesting decor', 'really like crepe station', 'also served hot bread butter home made potato chip bacon bit top original good', 'watch preparing delicious food', 'egg roll fantastic', 'order arrived one gyro missing', 'salad wing ice cream dessert left feeling quite satisfied', 'not really sure joey voted best hot dog valley reader phoenix magazine', 'best place go tasty bowl pho', 'live music friday totally blow', 'never insulted felt disrespected', 'friendly staff', 'worth drive', 'heard good thing place exceeding every hope could dreamed', 'food great service', 'warm beer help', 'great brunch spot', 'service friendly inviting', 'good lunch spot', 'lived since first last time stepped foot place', 'worst experience ever', 'must night place', 'side delish mixed mushroom yukon gold puree white corn feateous', 'bug never showed would given sure side wall bug climbing kitchen', 'minute waiting salad realized coming time soon', 'friend loved salmon tartar', 'go back', 'extremely tasty', 'waitress good though', 'soggy not good', 'jamaican monitor delicious', 'small not worth price', 'food rich order accordingly', 'shower area outside rinse not take full shower unless mind nude everyone see', 'service bit lacking', 'lobster bisque russell sprout risotto filet needed salt pepper course none table', 'hopefully bodes going business someone cook come', 'either cold not enough flavor bad', 'loved bacon wrapped date', 'unbelievable bargain', 'folk otto always make u feel welcome special', 'main also uninspired', 'place first pho amazing', 'wonderful experience made place must stop whenever town', 'food bad enough enjoy dealing world worst annoying drunk people', 'fun chef', 'ordered double cheeseburger got single patty falling apart picture uploaded yeah still suck', 'great place couple drink watch sporting event wall covered tv', 'possible give zero star', 'description said yum yum sauce another said eel sauce yet another said spicy mayo well none roll sauce', 'say would hardest decision honestly dish taste supposed taste amazing', 'not rolled eye may stayed not sure go back try', 'everyone attentive providing excellent customer service', 'horrible waste time money', 'dish quite flavourful', 'time side restaurant almost empty excuse', 'busy either also building freezing cold', 'like reviewer said pay eat place', 'drink took close minute come one point', 'seriously flavorful delight folk', 'much better aye sushi place went vega', 'lighting dark enough set mood', 'based sub par service received effort show gratitude business going back', 'owner really great people', 'nothing privileged working eating', 'greek dressing creamy flavorful', 'overall think would take parent place made similar complaint silently felt', 'pizza good peanut sauce tasty', 'table service pretty fast', 'fantastic service', 'well would given godfather zero star possible', 'know make', 'tough short flavor', 'hope place stick around', 'bar vega not ever recall charged tap water', 'restaurant atmosphere exquisite', 'good service clean inexpensive boot', 'seafood fresh generous portion', 'plus buck', 'service not par either', 'thus far visited twice food absolutely delicious time', 'good year ago', 'self proclaimed coffee cafe wildly disappointed', 'veggitarian platter world', 'cant go wrong food', 'beat', 'stopped place madison ironman friendly kind staff', 'chef friendly good job', 'better not dedicated boba tea spot even Jenni pho', 'liked patio service outstanding', 'goat taco skimp meat wow flavor', 'think not', 'mac salad pretty bland not getting', 'went bache burger friend recommendation not disappointed', 'service stink', 'waited waited', 'place not quality sushi not quality restaurant', 'would definitely recommend wing well pizza', 'great pizza salad', 'thing went wrong burned saganaki', 'waited hour breakfast could done time better home', 'place amazing', 'hate disagree fellow yelpers husband disappointed place', 'waited hour never got either pizza many around u came later', 'know slow', 'staff great food delish incredible beer selection', 'live neighborhood disappointed back convenient location', 'know pulled pork could oooo delicious', 'get incredibly fresh fish prepared care', 'go gave star rating please know third time eating bache burger writing review', 'love fact everything menu worth', 'never dining place', 'food excellent service good', 'good beer drink selection good food selection', 'please stay away shrimp stir fried noodle', 'potato chip order sad could probably count many chip box probably around', 'food really boring', 'good service check', 'greedy corporation never see another dime', 'never ever go back', 'much like go back get passed atrocious service never return', 'summer dine charming outdoor patio delightful', 'not expect good', 'fantastic food', 'ordered toasted english muffin came untoasted', 'food good', 'never going back', 'great food price high quality house made', 'bus boy hand rude', 'point friend basically figured place joke mind making publicly loudly known', 'back good BBQ lighter fare reasonable pricing tell public back old way', 'considering two u left full happy go wrong', 'bread made house', 'downside service', 'also fry without doubt worst fry ever', 'service exceptional food good review', 'couple month later returned amazing meal', 'favorite place town shawarrrrrrma', 'black eyed pea sweet potato unreal', 'disappointed', 'could serve vinaigrette may make better overall dish still good', 'go far many place never seen restaurant serf egg breakfast especially', 'mom got home immediately got sick bite salad', 'server not pleasant deal always honor pizza hut coupon', 'truly unbelievably good glad went back', 'fantastic service pleased atmosphere', 'everything gross', 'love place', 'great service food', 'first bathroom location dirty seat cover not replenished plain yucky', 'burger got gold standard burger kind disappointed', 'org food delicioso', 'nothing authentic place', 'spaghetti nothing special whatsoever', 'dish salmon best great', 'vegetable fresh sauce feel like authentic thai', 'worth driving tucson', 'selection probably worst seen vega none', 'pretty good beer selection', 'place like chipotle better', 'classy warm atmosphere fun fresh appetizer succulent steak baseball steak', 'star brick oven bread app', 'eaten multiple time time food delicious', 'sat another ten minute finally gave left', 'terrible', 'everyone treated equally special', 'take min pancake egg', 'delicious', 'good side staff genuinely pleasant enthusiastic real treat', 'sadly Gordon Ramsey steak place shall sharply avoid next trip vega', 'always evening wonderful food delicious', 'best fish ever life', 'bathroom next door nice', 'buffet small food offered bland', 'outstanding little restaurant best food ever tasted', 'pretty cool would say', 'definitely turn doubt back unless someone else buying', 'server great job handling large rowdy table', 'find wasting food despicable food', 'wife lobster bisque soup lukewarm', 'would come back sushi craving vega', 'staff great ambiance great', 'deserves star', 'left stomach ache felt sick rest day', 'dropped ball', 'dining space tiny elegantly decorated comfortable', 'customize order way like usual eggplant green bean stir fry love', 'bean rice mediocre best', 'best taco town far', 'took back money got outta', 'interesting part town place amazing', 'rude inconsiderate management', 'staff not friendly wait time served horrible one even say hi first minute', 'back', 'great dinner', 'service outshining definitely recommend halibut', 'food terrible', 'never ever go back told many people happened', 'recommend unless car break front starving', 'come back every time vega', 'place deserves one star food', 'disgrace', 'def coming back bowl next time', 'want healthy authentic ethic food try place', 'continue come lady night added date night highly recommend place anyone area', 'several time past experience always great', 'walked away stuffed happy first vega buffet experience', 'service excellent price pretty reasonable considering vega located inside crystal shopping mall aria', 'summarize food incredible nay transcendant nothing brings joy quite like memory pneumatic condiment dispenser', 'probably one people ever go sans not like', 'kid pizza always hit lot great side dish option kiddos', 'service perfect family atmosphere nice see', 'cooked perfection service impeccable', 'one simply disappointment', 'overall disappointed quality food bouchon', 'accountant know getting screwed', 'great place eat reminds little mom pop shop san francisco bay area', 'today first taste buldogis gourmet hot dog tell ever thought possible', 'left frustrated', 'definitely soon', 'food really good got full petty fast', 'service fantastic', 'total waste time', 'know kind best iced tea', 'come hungry leave happy stuffed', 'service give star', 'assure disappointed', 'take little bad service food suck', 'gave trying eat crust teeth still sore', 'completely grossed', 'really enjoyed eating', 'first time going think quickly become regular', 'server nice even though looked little overwhelmed need stayed professional friendly end', 'dinner companion told everything fresh nice texture taste', 'ground right next table large smeared stepped tracked everywhere pile green bird poop', 'furthermore even find hour operation website', 'tried like place time think done', 'mistake', 'complaint', 'seriously good pizza expert connoisseur topic', 'waiter jerk', 'strike want rushed', 'nicest restaurant owner ever come across', 'never come', 'loved biscuit', 'service quick friendly', 'ordered appetizer took minute pizza another minute', 'absolutely fantastic', 'huge awkward piece cow gristle fat', 'definitely come back', 'like Steiner dark feel like bar', 'wow spicy delicious', 'not familiar check', 'take business dinner dollar elsewhere', 'love go back', 'anyway f restaurant wonderful breakfast lunch', 'nothing special', 'day week different deal delicious', 'not mention combination pear almond bacon big winner', 'not back', 'sauce tasteless', 'food delicious spicy enough sure ask spicier prefer way', 'ribeye steak cooked perfectly great mesquite flavor', 'think going back anytime soon', 'food good', 'far sushi connoisseur definitely tell difference good food bad food certainly bad food', 'insulted', 'last time lunch bad', 'chicken wing contained driest chicken meat ever eaten', 'food good enjoyed every mouthful enjoyable relaxed venue couple small family group etc', 'nargile think great', 'best tater tot southwest', 'loved place', 'definitely not worth paid', 'vanilla ice cream creamy smooth profiterole chou pastry fresh enough', 'im az time new spot', 'manager worst', 'inside really quite nice clean', 'food outstanding price reasonable', 'think running back Carly anytime soon food', 'due fact took minute acknowledged another minute get food kept forgetting thing', 'love margarita', 'first vega buffet not disappoint', 'good though', 'one note ventilation could use upgrading', 'great pork sandwich', 'waste time', 'total letdown would much rather go camelback flower shop cartel coffee', 'third cheese friend burger cold', 'enjoy pizza brunch', 'steak well trimmed also perfectly cooked', 'group claimed would handled u beautifully', 'loved', 'asked bill leave without eating bring either', 'place jewel la vega exactly hoping find nearly ten year living', 'seafood limited boiled shrimp crab leg crab leg definitely not taste fresh', 'selection food not best', 'delicious absolutely back', 'small family restaurant fine dining establishment', 'toro tartare cavier extraordinary liked thinly sliced way white truffle', 'dont think back long time', 'attached gas station rarely good sign', 'awesome', 'back many time soon', 'menu much good stuff could not decide', 'worse humiliated worker right front bunch horrible name calling', 'conclusion filling meal', 'daily special always hit group', 'tragedy struck', 'pancake also really good pretty large', 'first crawfish experience delicious', 'monster chicken fried steak egg time favorite', 'waitress sweet funny', 'also taste mom multi grain pumpkin pancake pecan butter amazing fluffy delicious', 'rather eat airline food seriously', 'cant say enough good thing place', 'ambiance incredible', 'waitress manager friendly', 'would not recommend place', 'overall impressed noxa', 'gyro basically lettuce', 'terrible service', 'thoroughly disappointed', 'much pasta love homemade hand made pasta thin pizza', 'give try happy', 'far best cheesecurd ever', 'reasonably priced also', 'everything perfect night', 'food good typical bar food', 'drive get', 'first glance lovely bakery cafe nice ambiance clean friendly staff', 'anyway not think go back', 'point finger item menu order disappointed', 'oh thing beauty restaurant', 'gone go', 'greasy unhealthy meal', 'first time might last', 'burger amazing', 'similarly delivery man not say word apology food minute late', 'way expensive', 'sure order dessert even need pack go tiramisu cannoli die', 'first time wait next', 'bartender also nice', 'everything good tasty', 'place two thumb way', 'best place vega breakfast check sat sun', 'love authentic mexican food want whole bunch interesting yet delicious meat choose need try place', 'terrible management', 'excellent new restaurant experienced frenchman', 'zero star would give zero star', 'great steak great side great wine amazing dessert', 'worst martini ever', 'steak shrimp opinion best entree gc', 'opportunity today sample amazing pizza', 'waited thirty minute seated although vacant table folk waiting', 'yellowtail carpaccio melt mouth fresh', 'try going back even empty', 'going eat potato found stranger hair', 'spicy enough perfect actually', 'last night second time dining happy decided go back', 'not even hello right', 'dessert bit strange', 'boyfriend came first time recent trip vega could not pleased quality food service', 'really recommend place go wrong donut place', 'nice ambiance', 'would recommend saving room', 'guess maybe went night disgraceful', 'however recent experience particular location not good', 'know not like restaurant something', 'avoid establishment', 'think restaurant suffers not trying hard enough', 'tapa dish delicious', 'heart place', 'salad bland vinegarette baby green heart palm', 'two felt disgusting', 'good time', 'believe place great stop huge belly hankering sushi', 'generous portion great taste', 'never go back place never ever recommended place anyone', 'server went back forth several time not even much helped', 'food delicious', 'hour seriously', 'consider theft', 'new location need complete overhaul', 'recently witnessed poor quality management towards guest well', 'waited waited waited', 'also came back check u regularly excellent service', 'server super nice checked u many time', 'pizza tasted old super chewy not good way', 'swung give try deeply disappointed', 'service good company better', 'staff also friendly efficient', 'service fan quick served nice folk', 'boy sucker dry', 'rated', 'look authentic thai food go else', 'steak recommended', 'pulled car waited another minute acknowledged', 'great food great service clean friendly setting', 'assure back', 'hate thing much cheap quality black olive', 'breakfast prepared great beautiful presentation giant slice toast lightly dusted powdered sugar', 'kid play area nasty', 'great place fo take eat', 'waitress friendly happy accomodate vegan veggie option', 'org felt like never eaten thai food dish', 'extremely crumby pretty tasteless', 'pale color instead nice char flavor', 'crouton also taste homemade extra plus', 'got home see driest damn wing ever', 'regular stop trip phoenix', 'really enjoyed cream cafe expanded even told friend best breakfast', 'not good money', 'miss wish one philadelphia', 'got sitting fairly fast ended waiting minute place order another minute food arrived', 'also best cheese crisp town', 'good value great food great service', 'ask satisfying meal', 'food good', 'awesome', 'wanted leave', 'made drive way north Scottsdale not one bit disappointed', 'not eating', 'owner really really need quit soooooo cheap let wrap freaking sandwich two paper not one', 'checked place couple year ago not impressed', 'chicken got definitely reheated ok wedge cold soggy', 'sorry not getting food anytime soon', 'absolute must visit', 'cow tongue cheek taco amazing', 'friend not like bloody mary', 'despite hard rate business actually rare give star', 'really want make experience good one', 'not return', 'chicken pho tasted bland', 'disappointing', 'grilled chicken tender yellow saffron seasoning', 'drive thru mean not want wait around half hour food somehow end going make u wait wait', 'pretty awesome place', 'ambience perfect', 'best luck rude non customer service focused new management', 'grandmother make roasted chicken better one', 'asked multiple time wine list time ignored went hostess got one', 'staff always super friendly helpful especially cool bring two small boy baby', 'four star food guy blue shirt great vibe still letting u eat', 'roast beef sandwich tasted really good', 'evening drastically sick', 'high quality chicken chicken caesar salad', 'ordered burger rare came done', 'promptly greeted seated', 'tried go lunch madhouse', 'proven dead wrong sushi bar not quality great service fast food impeccable', 'waiting hour seated not greatest mood', 'good joint', 'macaroni insanely good', 'not eating', 'waiter attentive friendly informative', 'maybe cold would somewhat edible', 'place lot promise fails deliver', 'bad experience', 'mistake', 'food average best', 'great food', 'going back anytime soon', 'disappointed ordered big bay plater', 'great place relax awesome burger beer', 'perfect sit family meal get together friend', 'not much flavor poorly constructed', 'patio seating comfortable', 'fried rice dry well', 'hand favorite italian restaurant', 'scream legit book somewhat also pretty rare vega', 'not fun experience', 'atmosphere great lovely duo violinist playing song requested', 'personally love hummus pita baklava falafel baba ganoush amazing eggplant', 'convenient since staying MGM', 'owner super friendly staff courteous', 'great', 'eclectic selection', 'sweet potato tot good onion ring perfection close', 'staff attentive', 'chef generous time even came around twice take picture', 'owner used work zobu place really similar half price', 'google mediocre imagine smashburger pop', 'dont go', 'promise disappoint', 'sushi lover avoid place mean', 'great double cheeseburger', 'awesome service food', 'fantastic neighborhood gem', 'wait go back', 'plantain worst ever tasted', 'great place highly recommend', 'service slow not attentive', 'gave star giving star', 'staff spends time talking', 'dessert Panna cotta amazing', 'good food great atmosphere', 'damn good steak', 'total brunch fail', 'price reasonable flavor spot sauce home made slaw not drenched mayo', 'decor nice piano music soundtrack pleasant', 'steak amazing re fillet relleno best seafood plate ever', 'good food good service', 'absolutely amazing', 'probably back honest', 'definitely back', 'sergeant pepper beef sandwich ausu sauce excellent sandwich well', 'hawaiian breeze mango magic pineapple delight smoothy tried far good', 'went lunch service slow', 'much say place walked expected amazing quickly disappointed', 'mortified', 'needle say never back', 'anyways food definitely not filling price pay expect', 'chip came dripping grease mostly not edible', 'really impressed strip steak', 'going since every meal awesome', 'server nice attentive serving staff', 'cashier friendly even brought food', 'work hospitality industry paradise valley refrained recommending cibol longer', 'atmosphere fun', 'would not recommend others', 'service quick even go order like like', 'mean really get famous fish chip terrible', 'said mouth belly still quite pleased', 'not thing', 'thumb', 'reading please go', 'loved grilled pizza reminded legit italian pizza', 'pro large seating area nice bar area great simple drink menu best brick oven pizza homemade dough', 'really nice atmosphere', 'tonight elk filet special sucked', 'one bite hooked', 'ordered old classic new dish going time sorely disappointed everything', 'cute quaint simple honest', 'chicken deliciously seasoned perfect fry outside moist chicken inside', 'food great always compliment chef', 'special thanks dylan recommendation order yummy tummy', 'awesome selection beer', 'great food awesome service', 'one nice thing added gratuity bill since party larger expect tip', 'fly apple juice fly', 'han nan chicken also tasty', 'service thought good', 'food barely lukewarm must sitting waiting server bring u', 'Ryan bar definitely one edinburgh establishment revisiting', 'nicest chinese restaurant', 'overall like food service', 'also serve indian naan bread hummus spicy pine nut sauce world', 'probably never coming back recommend', 'friend pasta also bad barely touched', 'try airport experience tasty food speedy friendly service', 'love decor chinese calligraphy wall paper', 'never anything complain', 'restaurant clean family restaurant feel', 'way fried', 'not sure long stood long enough begin feel awkwardly place', 'opened sandwich impressed not good way', 'not back', 'warm feeling service felt like guest special treat', 'extensive menu provides lot option breakfast', 'always order vegetarian menu dinner wide array option choose', 'watched price inflate portion get smaller management attitude grow rapidly', 'wonderful Lil tapa ambience made feel warm fuzzy inside', 'got enjoy seafood salad fabulous vinegarette', 'wonton thin not thick chewy almost melt mouth', 'level spicy perfect spice whelm soup', 'sat right time server get go fantastic', 'main thing enjoy crowd older crowd around mid', 'side town definitely spot hit', 'wait minute get drink longer get arepas', 'great place eat', 'jalapeno bacon oooo good', 'service poor thats nice', 'food good service good price good', 'place not clean food oh stale', 'chicken dish ok beef like shoe leather', 'service beyond bad', 'happy', 'tasted like dirt', 'one place phoenix would definitely go back', 'block amazing', 'close house low key non fancy affordable price good food', 'hot sour egg flower soup absolutely star', 'sashimi poor quality soggy tasteless', 'great time family dinner sunday night', 'food not tasty not say real traditional Hunan style', 'bother slow service', 'flair bartender absolutely amazing', 'frozen margarita way sugary taste', 'good ordered twice', 'nutshell restraint smell like combination dirty fish market sewer', 'girlfriend veal bad', 'unfortunately not good', 'pretty satisfying experience', 'join club get awesome offer via email', 'perfect someone like beer ice cold case even colder', 'bland flavorless good way describing barely tepid meat', 'chain fan beat place easily', 'nacho must', 'not coming back', 'many word say place everything pretty well', 'staff super nice quick even crazy crowd downtown jury lawyer court staff', 'great atmosphere friendly fast service', 'received pita huge lot meat thumb', 'food arrives me', 'paying hot dog fry look like came kid meal wienerschnitzel not idea good meal', 'classic maine lobster roll fantastic', 'brother law work mall ate day guess sick night', 'good going review place twice whereas tribute place tribute event held last night', 'chip salsa really good salsa fresh', 'place great', 'mediocre food', 'get inside impressed place', 'super piss', 'service super friendly', 'sad little vegetable overcooked', 'place nice surprise', 'golden crispy delicious', 'high hope place since burger cooked charcoal grill unfortunately taste fell flat way flat', 'could eat bruschetta day Devine', 'not single employee came see ok even needed water refill finally served u food', 'lastly mozzarella stick best thing ordered', 'first time ever came amazing experience still tell people awesome duck', 'server negligent need made u feel unwelcome would not suggest place', 'service terrible though', 'place overpriced not consistent boba really overpriced', 'packed', 'love place', 'say dessert yummy', 'food terrible', 'seasonal fruit fresh white peach puree', 'kept getting worse worse officially done', 'place honestly blown', 'definitely would not eat', 'not waste money', 'love put food nice plastic container opposed cramming little paper takeout box', 'crape delicate thin moist', 'awful service', 'ever go', 'food quality horrible', 'price think place would much rather gone', 'service fair best', 'love sushi found kabuki priced hip service', 'favor stay away dish', 'poor service', 'one table thought food average worth wait', 'best service food ever maria server good friendly made day', 'excellent', 'paid bill not tip felt server terrible job', 'lunch great experience', 'never bland food surprised considering article read focused much spice flavor', 'food way overpriced portion fucking small', 'recently tried caballero back every week since', 'buck head really expect better food', 'food came good pace', 'ate twice last visit especially enjoyed salmon salad', 'back', 'could not believe dirty oyster', 'place deserves star', 'would not recommend place', 'fact going round star awesome', 'disbelief dish qualified worst version food ever tasted', 'bad day not low tolerance rude customer service people job nice polite wash dish otherwise', 'potato great biscuit', 'probably would not go', 'flavorful perfect amount heat', 'price reasonable service great', 'wife hated meal coconut shrimp friend really not enjoy meal either', 'fella got huevos rancheros look appealing', 'went happy hour great list wine', 'may say buffet pricey think get pay place getting quite lot', 'probably coming back', 'worst food service', 'place pretty good nice little vibe restaurant', 'talk great customer service course back', 'hot dish not hot cold dish close room temp watched staff prepare food bare hand glove everything deep fried oil', 'love fry bean', 'always pleasure dealing', 'plethora salad sandwich everything tried get seal approval', 'place awesome want something light healthy summer', 'sushi strip place go', 'service great even manager came helped table', 'feel dining room college cooking course high class dining service slow best', 'started review two star editing give one', 'worst sushi ever eat besides Costco', 'excellent restaurant highlighted great service unique menu beautiful setting', 'boyfriend sat bar completely delightful experience', 'weird vibe owner', 'hardly meat', 'better bagel grocery store', 'go place gyro', 'love owner chef one authentic japanese cool dude', 'burger good pizza used amazing doughy flavorless', 'found six inch long piece wire salsa', 'service terrible food mediocre', 'definitely enjoyed', 'ordered albondigas soup warm tasted like tomato soup frozen meatball', 'three different occasion asked well done medium well three time got bloodiest piece meat plate', 'two bite refused eat anymore', 'service extremely slow', 'minute wait got table', 'seriously killer hot chai latte', 'allergy warning menu waitress absolutely clue meal not contain peanut', 'boyfriend tried mediterranean chicken salad fell love', 'rotating beer tap also highlight place', 'pricing bit concern mellow mushroom', 'worst thai ever', 'stay vega must get breakfast least', 'want first say server great perfect service', 'pizza selection good', 'strawberry tea good', 'highly unprofessional rude loyal patron', 'overall great experience', 'spend money elsewhere', 'regular toasted bread equally satisfying occasional pat butter mmmm', 'buffet bellagio far anticipated', 'drink weak people', 'order not correct', 'also feel like chip bought not made house', 'disappointing dinner went elsewhere dessert', 'chip sals amazing', 'returning', 'new far vega buffet spot', 'seriously cannot believe owner many unexperienced employee running around like chicken head cut', 'sad', 'felt insulted disrespected could talk judge another human like', 'call steakhouse properly cook steak understand', 'not impressed concept food', 'thing crazy guacamole like purged', 'really nothing postins hope experience better', 'got food poisoning buffet', 'brought fresh batch fry thinking yay something warm', 'hilarious yummy christmas eve dinner remember biggest fail entire trip u', 'needle say going back anytime soon', 'place disgusting', 'every time eat see caring teamwork professional degree', 'Ri style calamari joke', 'however much garlic fondue barely edible', 'could barely stomach meal complain business lunch', 'bad lost heart finish', 'also took forever bring u check asked', 'one make scene restaurant get definitely lost love one', 'disappointing experience', 'food par Denny say not good', 'want wait mediocre food downright terrible service place', 'waaaaaayyyyyyyyyy rated saying', 'going back', 'place fairly clean food simply worth', 'place lacked style', 'sangria half glass wine full ridiculous', 'bother coming', 'meat pretty dry sliced brisket pulled pork', 'building seems pretty neat bathroom pretty trippy eat', 'equally awful', 'probably not hurry go back', 'slow seating even reservation', 'not good stretch imagination', 'cashew cream sauce bland vegetable undercooked', 'chipotle ranch dipping cause tasteless seemed thin watered heat', 'bit sweet not really spicy enough lacked flavor', 'disappointed', 'place horrible way overpriced', 'maybe vegetarian fare twice thought average best', 'busy know', 'table outside also dirty lot time worker not always friendly helpful menu', 'ambiance not feel like buffet setting douched indoor garden tea biscuit', 'con spotty service', 'fry not hot neither burger', 'came back cold', 'food came disappointment ensued', 'real disappointment waiter', 'husband said rude not even apologize bad food anything', 'reason eat would fill night binge drinking get carbs stomach', 'insult profound deuchebaggery go outside smoke break serving solidify', 'someone order two taco think may part customer service ask combo ala cart', 'quite disappointed although blame need placed door', 'rave review wait eat disappointment', 'del taco pretty nasty avoided possible', 'not hard make decent hamburger', 'like', 'hell go back', 'gotten much better service pizza place next door service received restaurant', 'know big deal place back ya', 'immediately said wanted talk manager not want talk guy shot fireball behind bar', 'ambiance much better', 'unfortunately set u disappointment entree', 'food good', 'server suck wait correction server Heimer sucked', 'happened next pretty putting', 'bad cause know family owned really wanted like place', 'overpriced getting', 'vomited bathroom mid lunch', 'kept looking time soon become minute yet still food', 'place eat circumstance would ever return top list', 'started tuna sashimi brownish color obviously fresh', 'food average', 'sure beat nacho movie would expect little bit coming restaurant', 'ha long bay bit flop', 'problem charge sandwich bigger subway sub offer better amount vegetable', 'shrimp unwrapped live mile brushfire literally ice cold', 'lacked flavor seemed undercooked dry', 'really impressive place closed', 'would avoid place staying mirage', 'refried bean came meal dried crusty food bland', 'spend money time place else', 'lady table next u found live green caterpillar salad', 'presentation food awful', 'tell disappointed', 'think food flavor texture lacking', 'appetite instantly gone', 'overall not impressed would not go back', 'whole experience underwhelming think go ninja sushi next time', 'wasted enough life poured salt wound drawing time took bring check']\n"
     ]
    }
   ],
   "source": [
    "print(review)"
   ]
  },
  {
   "cell_type": "markdown",
   "metadata": {},
   "source": [
    "## Feature Engineering and Vectorization\n",
    "\n",
    "### Vectorize data, with 1- and 2- grams"
   ]
  },
  {
   "cell_type": "markdown",
   "metadata": {},
   "source": [
    "Here we are importing a useful function that converts our data set of sentences into a large matrix of 0's and 1's. "
   ]
  },
  {
   "cell_type": "code",
   "execution_count": 7,
   "metadata": {},
   "outputs": [],
   "source": [
    "from sklearn.feature_extraction.text import CountVectorizer"
   ]
  },
  {
   "cell_type": "markdown",
   "metadata": {},
   "source": [
    "The matrix has each row representing a sentence and each column representing a word from the data set (no words are repeated). For each sentence, a 1 is placed in the columns of the words present in the sentence. If a word isn't in the sentence, a 0 is put in that column."
   ]
  },
  {
   "cell_type": "code",
   "execution_count": 8,
   "metadata": {},
   "outputs": [],
   "source": [
    "vectorizer = CountVectorizer(binary=True, lowercase=False)\n",
    "# 'binary=false' would make the matrix count the frequency of a word in the sentence, instead of just marking its presence\n",
    "# for some reason this wasn't working unless lowercase=false, some problem with the cleaned data I suppose"
   ]
  },
  {
   "cell_type": "code",
   "execution_count": 9,
   "metadata": {},
   "outputs": [
    {
     "ename": "AttributeError",
     "evalue": "'CountVectorizer' object has no attribute 'vocabulary_'",
     "output_type": "error",
     "traceback": [
      "\u001b[1;31m---------------------------------------------------------------------------\u001b[0m",
      "\u001b[1;31mAttributeError\u001b[0m                            Traceback (most recent call last)",
      "\u001b[1;32m<ipython-input-9-1cc897d63622>\u001b[0m in \u001b[0;36m<module>\u001b[1;34m\u001b[0m\n\u001b[0;32m      1\u001b[0m \u001b[1;32mimport\u001b[0m \u001b[0mpickle\u001b[0m\u001b[1;33m\u001b[0m\u001b[1;33m\u001b[0m\u001b[0m\n\u001b[1;32m----> 2\u001b[1;33m \u001b[0mpickle\u001b[0m\u001b[1;33m.\u001b[0m\u001b[0mdump\u001b[0m\u001b[1;33m(\u001b[0m\u001b[0mvectorizer\u001b[0m\u001b[1;33m.\u001b[0m\u001b[0mvocabulary_\u001b[0m\u001b[1;33m,\u001b[0m \u001b[0mopen\u001b[0m\u001b[1;33m(\u001b[0m\u001b[1;34m\"vocab.p\"\u001b[0m\u001b[1;33m,\u001b[0m\u001b[1;34m\"wb\"\u001b[0m\u001b[1;33m)\u001b[0m\u001b[1;33m)\u001b[0m\u001b[1;33m\u001b[0m\u001b[1;33m\u001b[0m\u001b[0m\n\u001b[0m\u001b[0;32m      3\u001b[0m \u001b[0mprint\u001b[0m\u001b[1;33m(\u001b[0m\u001b[0mvectorizer\u001b[0m\u001b[1;33m.\u001b[0m\u001b[0mvocabulary_\u001b[0m\u001b[1;33m)\u001b[0m\u001b[1;33m\u001b[0m\u001b[1;33m\u001b[0m\u001b[0m\n",
      "\u001b[1;31mAttributeError\u001b[0m: 'CountVectorizer' object has no attribute 'vocabulary_'"
     ]
    }
   ],
   "source": [
    "import pickle"
   ]
  },
  {
   "cell_type": "markdown",
   "metadata": {},
   "source": [
    "This next line could be used instead if we wished to make the program more sophisticated, but larger/slower. Instead of a column for every word, there would also be columns for every set of two words placed next to each other in the data set. You can change the 2 to any integer, but it makes the matrix exponentially larger."
   ]
  },
  {
   "cell_type": "code",
   "execution_count": 10,
   "metadata": {},
   "outputs": [],
   "source": [
    "#vectorizer = CountVectorizer(binary=True, lowercase=False, ngram_range=(1, 2))"
   ]
  },
  {
   "cell_type": "markdown",
   "metadata": {},
   "source": [
    "Finally, we can simply call this function on our cleaned dataset 'phrases'."
   ]
  },
  {
   "cell_type": "code",
   "execution_count": 11,
   "metadata": {},
   "outputs": [],
   "source": [
    "vector = vectorizer.fit_transform(review)"
   ]
  },
  {
   "cell_type": "code",
   "execution_count": 12,
   "metadata": {},
   "outputs": [
    {
     "name": "stdout",
     "output_type": "stream",
     "text": [
      "{'wow': 1722, 'loved': 892, 'place': 1133, 'crust': 359, 'not': 1021, 'good': 660, 'tasty': 1521, 'texture': 1533, 'nasty': 999, 'stopped': 1463, 'late': 842, 'may': 930, 'bank': 118, 'holiday': 736, 'rick': 1281, 'steve': 1455, 'recommendation': 1241, 'selection': 1345, 'menu': 949, 'great': 672, 'price': 1172, 'getting': 642, 'angry': 51, 'want': 1666, 'damn': 369, 'pho': 1121, 'honestly': 740, 'taste': 1517, 'fresh': 615, 'potato': 1162, 'like': 867, 'rubber': 1297, 'could': 332, 'tell': 1526, 'made': 905, 'ahead': 34, 'time': 1555, 'kept': 822, 'warmer': 1669, 'fry': 624, 'touch': 1575, 'service': 1355, 'prompt': 1186, 'would': 1720, 'go': 653, 'back': 109, 'cashier': 240, 'care': 232, 'ever': 513, 'say': 1325, 'still': 1457, 'ended': 494, 'way': 1680, 'overpriced': 1070, 'tried': 1588, 'cape': 228, 'cod': 288, 'ravioli': 1224, 'chicken': 265, 'cranberry': 345, 'mmmm': 970, 'disgusted': 428, 'pretty': 1171, 'sure': 1500, 'human': 757, 'hair': 694, 'shocked': 1367, 'sign': 1380, 'indicate': 785, 'cash': 238, 'highly': 730, 'recommended': 1242, 'waitress': 1663, 'little': 875, 'slow': 1395, 'worth': 1719, 'let': 857, 'alone': 42, 'vega': 1634, 'burrito': 208, 'blah': 160, 'food': 601, 'amazing': 46, 'also': 43, 'cute': 367, 'le': 847, 'interior': 800, 'beautiful': 133, 'performed': 1112, 'right': 1283, 'red': 1244, 'velvet': 1640, 'cake': 218, 'oath': 1029, 'stuff': 1475, 'never': 1009, 'brought': 195, 'salad': 1308, 'asked': 82, 'hole': 735, 'wall': 1665, 'mexican': 953, 'street': 1468, 'taco': 1507, 'friendly': 619, 'staff': 1441, 'took': 1568, 'hour': 752, 'get': 641, 'table': 1506, 'restaurant': 1268, 'luke': 900, 'warm': 1668, 'sever': 1359, 'running': 1300, 'around': 75, 'totally': 1574, 'overwhelmed': 1071, 'worst': 1718, 'salmon': 1309, 'sashimi': 1319, 'combo': 295, 'burger': 206, 'beer': 138, 'decent': 377, 'deal': 375, 'final': 574, 'blow': 168, 'found': 608, 'accident': 20, 'happier': 706, 'seems': 1343, 'quick': 1207, 'grab': 665, 'bite': 158, 'familiar': 548, 'pub': 1193, 'favor': 558, 'look': 884, 'elsewhere': 489, 'overall': 1067, 'lot': 889, 'redeeming': 1245, 'quality': 1205, 'inexpensive': 788, 'ample': 50, 'portion': 1158, 'poor': 1154, 'waiter': 1661, 'feel': 562, 'stupid': 1477, 'every': 514, 'came': 223, 'first': 582, 'visit': 1652, 'hiro': 733, 'delight': 394, 'suck': 1484, 'shrimp': 1377, 'tender': 1529, 'moist': 972, 'enough': 499, 'drag': 449, 'establishment': 506, 'hard': 708, 'judge': 817, 'whether': 1695, 'side': 1379, 'grossed': 684, 'melted': 946, 'styrofoam': 1479, 'eat': 473, 'fear': 560, 'sick': 1378, 'positive': 1159, 'note': 1022, 'server': 1354, 'attentive': 91, 'provided': 1190, 'frozen': 621, 'puck': 1196, 'disgust': 427, 'people': 1107, 'behind': 140, 'register': 1252, 'thing': 1540, 'prime': 1176, 'rib': 1277, 'dessert': 405, 'section': 1340, 'bad': 111, 'generic': 638, 'beef': 137, 'cooked': 323, 'sandwich': 1316, 'firehouse': 581, 'greek': 675, 'dressing': 455, 'pita': 1131, 'hummus': 759, 'refreshing': 1249, 'ordered': 1053, 'duck': 466, 'rare': 1214, 'pink': 1129, 'inside': 793, 'nice': 1012, 'char': 250, 'outside': 1063, 'realized': 1230, 'husband': 762, 'left': 852, 'sunglass': 1497, 'chow': 272, 'mein': 943, 'horrible': 746, 'attitude': 92, 'towards': 1578, 'customer': 364, 'talk': 1511, 'one': 1043, 'enjoy': 496, 'huge': 756, 'wonderful': 1709, 'imaginative': 771, 'heart': 718, 'attack': 89, 'grill': 678, 'downtown': 448, 'absolutely': 19, 'flat': 586, 'lined': 871, 'excuse': 523, 'much': 986, 'seafood': 1331, 'string': 1471, 'pasta': 1093, 'bottom': 179, 'amount': 49, 'sauce': 1323, 'power': 1165, 'scallop': 1327, 'perfectly': 1111, 'ripped': 1286, 'banana': 117, 'petrified': 1117, 'tasteless': 1519, 'least': 849, 'think': 1541, 'refill': 1247, 'water': 1677, 'struggle': 1474, 'wave': 1679, 'minute': 963, 'receives': 1237, 'star': 1444, 'appetizer': 69, 'cocktail': 286, 'handmade': 703, 'delicious': 392, 'definitely': 387, 'glad': 648, 'give': 645, 'military': 958, 'discount': 424, 'always': 45, 'do': 434, 'gringo': 680, 'update': 1622, 'went': 1690, 'second': 1339, 'got': 662, 'apparently': 66, 'heard': 717, 'salt': 1312, 'batter': 129, 'fish': 583, 'chewy': 264, 'finish': 579, 'included': 779, 'tasting': 1520, 'drink': 458, 'jeff': 808, 'beyond': 147, 'expected': 527, 'really': 1231, 'rice': 1279, 'me': 933, 'min': 961, 'milkshake': 960, 'nothing': 1023, 'chocolate': 269, 'milk': 959, 'guess': 689, 'known': 831, 'excalibur': 519, 'use': 1625, 'common': 299, 'sense': 1348, 'dish': 430, 'quite': 1210, 'appalling': 65, 'value': 1631, 'well': 1689, 'sweet': 1504, 'seasoned': 1334, 'today': 1561, 'lunch': 902, 'buffet': 201, 'cheated': 256, 'wasting': 1674, 'eating': 475, 'opportunity': 1049, 'going': 656, 'company': 301, 'coming': 298, 'experiencing': 531, 'underwhelming': 1609, 'relationship': 1256, 'party': 1090, 'wait': 1659, 'person': 1114, 'ask': 81, 'break': 187, 'walked': 1664, 'smelled': 1401, 'old': 1039, 'grease': 670, 'trap': 1584, 'others': 1057, 'turkey': 1599, 'roast': 1288, 'bland': 162, 'pan': 1082, 'everyone': 515, 'raving': 1223, 'sugary': 1489, 'disaster': 422, 'tailored': 1508, 'palate': 1079, 'six': 1390, 'year': 1731, 'love': 891, 'spring': 1439, 'roll': 1291, 'oh': 1036, 'yummy': 1739, 'try': 1594, 'meat': 936, 'ratio': 1221, 'unsatisfying': 1618, 'omelet': 1042, 'die': 407, 'everything': 516, 'summary': 1493, 'largely': 838, 'disappointing': 420, 'dining': 412, 'experience': 529, 'sexy': 1362, 'mouth': 981, 'outrageously': 1061, 'flirting': 592, 'hottest': 751, 'rock': 1290, 'casino': 241, 'step': 1453, 'forward': 607, 'best': 145, 'breakfast': 188, 'bye': 214, 'tip': 1557, 'lady': 836, 'arrived': 77, 'quickly': 1208, 'cafe': 217, 'serf': 1349, 'fantastic': 553, 'wife': 1700, 'roasted': 1289, 'garlic': 633, 'bone': 174, 'marrow': 926, 'added': 30, 'extra': 535, 'meal': 934, 'another': 53, 'helpful': 725, 'bloody': 167, 'mary': 928, 'town': 1579, 'cannot': 226, 'beat': 132, 'mussel': 992, 'wine': 1702, 'reduction': 1246, 'better': 146, 'tigerlilly': 1554, 'afternoon': 32, 'bartender': 123, 'personable': 1115, 'ambience': 48, 'music': 991, 'playing': 1142, 'next': 1011, 'trip': 1590, 'soosoo': 1417, 'real': 1229, 'sushi': 1503, 'lover': 894, 'honest': 739, 'yama': 1728, 'passed': 1091, 'ordering': 1054, 'arriving': 79, 'busy': 211, 'thai': 1534, 'spicy': 1434, 'check': 257, 'gross': 683, 'atmosphere': 86, 'kind': 828, 'mess': 951, 'steak': 1451, 'although': 44, 'liked': 868, 'sound': 1421, 'actual': 28, 'bit': 156, 'know': 830, 'managed': 917, 'served': 1353, 'blandest': 163, 'eaten': 474, 'preparing': 1169, 'indian': 784, 'cuisine': 362, 'boot': 176, 'worry': 1716, 'fine': 577, 'guy': 691, 'loving': 895, 'son': 1413, 'said': 1307, 'thought': 1548, 'venture': 1642, 'away': 99, 'hit': 734, 'spot': 1437, 'night': 1014, 'host': 748, 'lack': 833, 'word': 1711, 'bitch': 157, 'liking': 869, 'number': 1026, 'reason': 1232, 'waste': 1672, 'reviewing': 1275, 'leave': 851, 'phenomenal': 1119, 'ambiance': 47, 'return': 1270, 'venturing': 1643, 'strip': 1472, 'pork': 1157, 'belly': 143, 'mediocre': 939, 'penne': 1106, 'vodka': 1654, 'excellent': 521, 'including': 780, 'massive': 929, 'meatloaf': 938, 'crispy': 354, 'wrap': 1723, 'delish': 396, 'tuna': 1598, 'melt': 945, 'management': 918, 'rude': 1298, 'NYC': 11, 'bagel': 112, 'cream': 350, 'cheese': 260, 'lox': 897, 'caper': 229, 'even': 510, 'subway': 1482, 'fact': 541, 'come': 296, 'meet': 942, 'expectation': 526, 'seriously': 1351, 'solid': 1407, 'bar': 119, 'extremely': 537, 'many': 922, 'dine': 411, 'weekend': 1685, 'empty': 492, 'suggestion': 1491, 'rarely': 1215, 'checked': 258, 'ate': 85, 'disappointed': 419, 'curry': 363, 'bamboo': 116, 'shoot': 1369, 'blanket': 164, 'moz': 984, 'top': 1569, 'done': 437, 'cover': 339, 'subpar': 1481, 'bathroom': 128, 'clean': 280, 'decorated': 382, 'changing': 249, 'considering': 314, 'pace': 1075, 'thumb': 1552, 'watched': 1676, 'pay': 1099, 'attention': 90, 'ignore': 767, 'fiance': 568, 'middle': 955, 'day': 373, 'greeted': 677, 'seated': 1337, 'mandalay': 920, 'bay': 130, 'waited': 1660, 'forty': 606, 'five': 584, 'vain': 1629, 'crostini': 355, 'stale': 1442, 'highlight': 728, 'nigori': 1015, 'joint': 814, 'different': 409, 'cut': 366, 'piece': 1125, 'flavored': 588, 'voodoo': 1656, 'since': 1386, 'gluten': 652, 'free': 612, 'several': 1360, 'ago': 33, 'unfortunately': 1611, 'must': 993, 'bakery': 113, 'leftover': 853, 'relocated': 1260, 'impressed': 776, 'immediately': 774, 'diverse': 433, 'reasonably': 1234, 'priced': 1173, 'avoid': 97, 'cost': 330, 'full': 626, 'hand': 699, 'phoenix': 1122, 'metro': 952, 'area': 72, 'looking': 886, 'treated': 1586, 'bacon': 110, 'hell': 721, 'salty': 1313, 'spinach': 1435, 'avocado': 96, 'ingredient': 791, 'sad': 1303, 'literally': 874, 'zero': 1740, 'used': 1626, 'handed': 700, 'listed': 873, 'lordy': 887, 'khan': 824, 'so': 1405, 'missed': 966, 'terrific': 1532, 'thrilled': 1550, 'accommodation': 21, 'vegetarian': 1637, 'daughter': 372, 'perhaps': 1113, 'caught': 243, 'judging': 818, 'review': 1273, 'inspired': 794, 'leaf': 848, 'desired': 402, 'modern': 971, 'hip': 732, 'maintaining': 912, 'coziness': 342, 'weekly': 1686, 'haunt': 713, 'sat': 1320, 'asking': 83, 'take': 1509, 'order': 1052, 'flavor': 587, 'overcooked': 1068, 'charcoal': 251, 'decided': 379, 'send': 1347, 'looked': 885, 'verge': 1645, 'dressed': 454, 'rudely': 1299, 'probably': 1179, 'dirt': 415, 'something': 1411, 'healthy': 716, 'lacking': 835, 'quantity': 1206, 'lemon': 856, 'raspberry': 1216, 'ice': 764, 'incredible': 782, 'sucked': 1485, 'imagined': 773, 'interesting': 799, 'decor': 381, 'crepe': 352, 'station': 1447, 'hot': 750, 'bread': 186, 'butter': 212, 'home': 737, 'chip': 267, 'original': 1056, 'watch': 1675, 'egg': 483, 'gyro': 692, 'missing': 967, 'wing': 1703, 'feeling': 563, 'satisfied': 1321, 'joey': 812, 'voted': 1657, 'dog': 435, 'valley': 1630, 'reader': 1227, 'magazine': 908, 'bowl': 182, 'live': 876, 'friday': 616, 'insulted': 798, 'felt': 567, 'disrespected': 432, 'drive': 461, 'exceeding': 520, 'hope': 743, 'dreamed': 452, 'help': 723, 'brunch': 197, 'inviting': 801, 'lived': 877, 'last': 840, 'stepped': 1454, 'foot': 602, 'mixed': 969, 'mushroom': 990, 'yukon': 1737, 'gold': 657, 'puree': 1199, 'white': 1696, 'corn': 326, 'feateous': 561, 'bug': 202, 'showed': 1375, 'given': 646, 'climbing': 281, 'kitchen': 829, 'waiting': 1662, 'soon': 1415, 'friend': 618, 'tartar': 1515, 'though': 1547, 'soggy': 1406, 'jamaican': 806, 'monitor': 975, 'small': 1396, 'rich': 1280, 'accordingly': 23, 'shower': 1376, 'rinse': 1285, 'unless': 1615, 'mind': 962, 'nude': 1025, 'see': 1341, 'lobster': 879, 'bisque': 155, 'russell': 1302, 'sprout': 1440, 'risotto': 1287, 'filet': 570, 'needed': 1004, 'pepper': 1108, 'course': 336, 'none': 1018, 'hopefully': 744, 'bodes': 172, 'business': 210, 'someone': 1410, 'cook': 322, 'either': 485, 'cold': 290, 'wrapped': 1724, 'date': 371, 'unbelievable': 1605, 'bargain': 122, 'folk': 599, 'otto': 1059, 'make': 913, 'welcome': 1688, 'special': 1428, 'main': 910, 'uninspired': 1613, 'stop': 1462, 'whenever': 1693, 'dealing': 376, 'world': 1715, 'annoying': 52, 'drunk': 464, 'fun': 627, 'chef': 263, 'double': 441, 'cheeseburger': 261, 'single': 1387, 'patty': 1098, 'falling': 547, 'apart': 61, 'picture': 1124, 'uploaded': 1624, 'yeah': 1730, 'couple': 334, 'sporting': 1436, 'event': 512, 'covered': 340, 'tv': 1601, 'possible': 1160, 'description': 400, 'yum': 1738, 'eel': 480, 'yet': 1735, 'mayo': 932, 'hardest': 709, 'decision': 380, 'supposed': 1499, 'rolled': 1292, 'eye': 538, 'stayed': 1449, 'providing': 1192, 'money': 974, 'flavourful': 591, 'almost': 41, 'building': 203, 'freezing': 613, 'reviewer': 1274, 'close': 282, 'point': 1150, 'flavorful': 589, 'aye': 104, 'lighting': 865, 'dark': 370, 'set': 1357, 'mood': 978, 'based': 125, 'sub': 1480, 'par': 1085, 'received': 1236, 'effort': 482, 'show': 1374, 'gratitude': 668, 'owner': 1073, 'privileged': 1177, 'working': 1714, 'creamy': 351, 'parent': 1087, 'similar': 1382, 'complaint': 303, 'silently': 1381, 'pizza': 1132, 'peanut': 1103, 'fast': 556, 'godfather': 655, 'tough': 1577, 'short': 1372, 'stick': 1456, 'recall': 1235, 'charged': 253, 'tap': 1513, 'exquisite': 533, 'generous': 639, 'plus': 1148, 'buck': 200, 'thus': 1553, 'far': 554, 'visited': 1653, 'twice': 1602, 'self': 1346, 'proclaimed': 1181, 'coffee': 289, 'wildly': 1701, 'veggitarian': 1639, 'platter': 1140, 'cant': 227, 'wrong': 1726, 'madison': 907, 'ironman': 802, 'job': 811, 'dedicated': 383, 'boba': 171, 'tea': 1523, 'Jenni': 8, 'patio': 1096, 'outstanding': 1064, 'goat': 654, 'skimp': 1391, 'mac': 903, 'bache': 108, 'stink': 1458, 'recommend': 1240, 'burned': 207, 'saganaki': 1306, 'hate': 711, 'disagree': 417, 'fellow': 566, 'yelpers': 1734, 'later': 843, 'neighborhood': 1007, 'convenient': 321, 'location': 881, 'pulled': 1197, 'oooo': 1045, 'incredibly': 783, 'prepared': 1168, 'gave': 635, 'rating': 1220, 'please': 1144, 'third': 1544, 'writing': 1725, 'stay': 1448, 'stir': 1459, 'fried': 617, 'noodle': 1019, 'count': 333, 'box': 183, 'boring': 177, 'greedy': 674, 'corporation': 327, 'dime': 410, 'atrocious': 87, 'summer': 1494, 'charming': 254, 'outdoor': 1060, 'delightful': 395, 'expect': 525, 'toasted': 1560, 'english': 495, 'muffin': 987, 'untoasted': 1619, 'high': 727, 'house': 753, 'bus': 209, 'boy': 184, 'basically': 126, 'figured': 569, 'joke': 815, 'making': 914, 'publicly': 1195, 'loudly': 890, 'BBQ': 0, 'lighter': 864, 'fare': 555, 'reasonable': 1233, 'pricing': 1175, 'public': 1194, 'two': 1603, 'happy': 707, 'downside': 447, 'without': 1707, 'doubt': 442, 'exceptional': 522, 'month': 977, 'returned': 1271, 'favorite': 559, 'shawarrrrrrma': 1365, 'black': 159, 'eyed': 539, 'pea': 1101, 'unreal': 1617, 'serve': 1352, 'vinaigrette': 1649, 'seen': 1344, 'especially': 505, 'mom': 973, 'pleasant': 1143, 'honor': 741, 'hut': 763, 'coupon': 335, 'truly': 1593, 'unbelievably': 1606, 'pleased': 1145, 'dirty': 416, 'seat': 1336, 'replenished': 1264, 'plain': 1135, 'yucky': 1736, 'standard': 1443, 'org': 1055, 'delicioso': 391, 'authentic': 94, 'spaghetti': 1427, 'whatsoever': 1691, 'vegetable': 1636, 'driving': 462, 'tucson': 1596, 'chipotle': 268, 'classy': 279, 'succulent': 1483, 'baseball': 124, 'brick': 190, 'oven': 1066, 'app': 64, 'multiple': 989, 'ten': 1528, 'finally': 575, 'terrible': 1531, 'equally': 504, 'pancake': 1083, 'genuinely': 640, 'enthusiastic': 501, 'treat': 1585, 'sadly': 1304, 'Gordon': 5, 'Ramsey': 13, 'shall': 1363, 'sharply': 1364, 'evening': 511, 'life': 862, 'door': 440, 'offered': 1034, 'tasted': 1518, 'cool': 325, 'turn': 1600, 'else': 488, 'buying': 213, 'handling': 702, 'large': 837, 'rowdy': 1296, 'find': 576, 'despicable': 403, 'soup': 1423, 'lukewarm': 901, 'craving': 347, 'deserves': 401, 'stomach': 1460, 'ache': 25, 'rest': 1267, 'dropped': 463, 'ball': 115, 'space': 1426, 'tiny': 1556, 'elegantly': 486, 'comfortable': 297, 'customize': 365, 'usual': 1627, 'eggplant': 484, 'green': 676, 'bean': 131, 'outta': 1065, 'part': 1088, 'inconsiderate': 781, 'hi': 726, 'dinner': 413, 'outshining': 1062, 'halibut': 696, 'told': 1563, 'happened': 705, 'car': 230, 'front': 620, 'starving': 1446, 'disgrace': 425, 'def': 386, 'ethic': 508, 'continue': 320, 'anyone': 56, 'past': 1092, 'stuffed': 1476, 'located': 880, 'crystal': 361, 'shopping': 1371, 'mall': 915, 'aria': 74, 'summarize': 1492, 'nay': 1000, 'transcendant': 1583, 'brings': 192, 'joy': 816, 'memory': 947, 'pneumatic': 1149, 'condiment': 311, 'dispenser': 431, 'sans': 1318, 'kid': 825, 'option': 1051, 'kiddos': 826, 'perfect': 1109, 'family': 549, 'perfection': 1110, 'impeccable': 775, 'simply': 1385, 'disappointment': 421, 'bouchon': 180, 'accountant': 24, 'screwed': 1330, 'reminds': 1263, 'pop': 1156, 'shop': 1370, 'san': 1315, 'francisco': 610, 'buldogis': 204, 'gourmet': 664, 'frustrated': 623, 'petty': 1118, 'total': 1573, 'iced': 765, 'hungry': 760, 'assure': 84, 'trying': 1595, 'teeth': 1525, 'sore': 1418, 'completely': 305, 'enjoyed': 498, 'become': 136, 'regular': 1253, 'need': 1003, 'professional': 1182, 'end': 493, 'companion': 300, 'ground': 685, 'smeared': 1399, 'tracked': 1580, 'everywhere': 517, 'pile': 1126, 'bird': 153, 'poop': 1153, 'furthermore': 629, 'operation': 1047, 'website': 1682, 'mistake': 968, 'expert': 532, 'connoisseur': 312, 'topic': 1570, 'jerk': 809, 'strike': 1470, 'rushed': 1301, 'nicest': 1013, 'across': 27, 'biscuit': 154, 'awkward': 102, 'cow': 341, 'gristle': 681, 'fat': 557, 'Steiner': 17, 'dollar': 436, 'anyway': 59, 'week': 1684, 'mention': 948, 'combination': 294, 'pear': 1104, 'almond': 40, 'big': 148, 'winner': 1704, 'spicier': 1433, 'prefer': 1166, 'ribeye': 1278, 'mesquite': 950, 'anytime': 58, 'difference': 408, 'certainly': 246, 'contained': 318, 'driest': 457, 'mouthful': 982, 'enjoyable': 497, 'relaxed': 1258, 'venue': 1644, 'group': 686, 'etc': 507, 'nargile': 998, 'tater': 1522, 'tot': 1572, 'southwest': 1425, 'paid': 1078, 'vanilla': 1632, 'smooth': 1403, 'profiterole': 1183, 'chou': 271, 'pastry': 1094, 'im': 769, 'az': 105, 'new': 1010, 'manager': 919, 'Carly': 1, 'due': 468, 'acknowledged': 26, 'forgetting': 604, 'margarita': 923, 'disappoint': 418, 'ventilation': 1641, 'upgrading': 1623, 'letdown': 858, 'rather': 1219, 'camelback': 224, 'flower': 594, 'cartel': 236, 'trimmed': 1589, 'claimed': 276, 'handled': 701, 'beautifully': 134, 'bill': 151, 'bring': 191, 'jewel': 810, 'la': 832, 'exactly': 518, 'hoping': 745, 'nearly': 1001, 'living': 878, 'limited': 870, 'boiled': 173, 'crab': 343, 'leg': 854, 'toro': 1571, 'tartare': 1516, 'cavier': 245, 'extraordinary': 536, 'thinly': 1543, 'sliced': 1394, 'truffle': 1592, 'dont': 438, 'long': 882, 'attached': 88, 'gas': 634, 'awesome': 100, 'decide': 378, 'worse': 1717, 'humiliated': 758, 'worker': 1713, 'bunch': 205, 'name': 996, 'calling': 222, 'conclusion': 310, 'filling': 573, 'daily': 368, 'tragedy': 1582, 'struck': 1473, 'crawfish': 348, 'monster': 976, 'funny': 628, 'multi': 988, 'grain': 666, 'pumpkin': 1198, 'pecan': 1105, 'fluffy': 595, 'airline': 35, 'noxa': 1024, 'lettuce': 860, 'thoroughly': 1546, 'homemade': 738, 'thin': 1539, 'cheesecurd': 262, 'typical': 1604, 'glance': 649, 'lovely': 893, 'finger': 578, 'item': 804, 'beauty': 135, 'gone': 659, 'greasy': 671, 'unhealthy': 1612, 'might': 956, 'similarly': 1383, 'delivery': 398, 'man': 916, 'apology': 63, 'expensive': 528, 'pack': 1076, 'tiramisu': 1558, 'cannoli': 225, 'sun': 1495, 'whole': 1697, 'choose': 270, 'experienced': 530, 'frenchman': 614, 'martini': 927, 'opinion': 1048, 'entree': 503, 'gc': 636, 'sample': 1314, 'thirty': 1545, 'vacant': 1628, 'yellowtail': 1733, 'carpaccio': 234, 'stranger': 1466, 'actually': 29, 'hello': 722, 'strange': 1465, 'boyfriend': 185, 'recent': 1238, 'donut': 439, 'saving': 1324, 'room': 1293, 'maybe': 931, 'disgraceful': 426, 'however': 754, 'particular': 1089, 'suffers': 1487, 'tapa': 1514, 'vinegarette': 1650, 'baby': 107, 'palm': 1081, 'disgusting': 429, 'believe': 141, 'hankering': 704, 'forth': 605, 'helped': 724, 'consider': 313, 'theft': 1537, 'complete': 304, 'overhaul': 1069, 'recently': 1239, 'witnessed': 1708, 'guest': 690, 'regularly': 1254, 'super': 1498, 'swung': 1505, 'deeply': 385, 'efficient': 481, 'fan': 551, 'sucker': 1486, 'dry': 465, 'rated': 1218, 'setting': 1358, 'cheap': 255, 'olive': 1041, 'presentation': 1170, 'giant': 643, 'slice': 1393, 'toast': 1559, 'lightly': 866, 'dusted': 470, 'powdered': 1164, 'sugar': 1488, 'play': 1141, 'fo': 597, 'accomodate': 22, 'vegan': 1635, 'veggie': 1638, 'crumby': 358, 'pale': 1080, 'color': 293, 'instead': 796, 'crouton': 356, 'expanded': 524, 'miss': 965, 'wish': 1706, 'philadelphia': 1120, 'sitting': 1389, 'fairly': 545, 'crisp': 353, 'satisfying': 1322, 'wanted': 1667, 'north': 1020, 'Scottsdale': 16, 'quit': 1209, 'soooooo': 1416, 'freaking': 611, 'paper': 1084, 'reheated': 1255, 'ok': 1038, 'wedge': 1683, 'sorry': 1420, 'absolute': 18, 'tongue': 1566, 'cheek': 259, 'despite': 404, 'rate': 1217, 'grilled': 679, 'yellow': 1732, 'saffron': 1305, 'seasoning': 1335, 'thru': 1551, 'mean': 935, 'half': 695, 'somehow': 1409, 'luck': 899, 'non': 1017, 'focused': 598, 'grandmother': 667, 'list': 872, 'ignored': 768, 'hostess': 749, 'four': 609, 'blue': 170, 'shirt': 1366, 'vibe': 1648, 'letting': 859, 'drastically': 450, 'caesar': 216, 'promptly': 1187, 'madhouse': 906, 'proven': 1189, 'dead': 374, 'greatest': 673, 'macaroni': 904, 'insanely': 792, 'informative': 790, 'somewhat': 1412, 'edible': 477, 'promise': 1185, 'fails': 543, 'deliver': 397, 'average': 95, 'plater': 1139, 'relax': 1257, 'sit': 1388, 'together': 1562, 'poorly': 1155, 'constructed': 316, 'seating': 1338, 'italian': 803, 'scream': 1329, 'legit': 855, 'book': 175, 'duo': 469, 'violinist': 1651, 'song': 1414, 'requested': 1265, 'personally': 1116, 'baklava': 114, 'falafel': 546, 'baba': 106, 'ganoush': 631, 'staying': 1450, 'MGM': 10, 'courteous': 338, 'eclectic': 476, 'onion': 1044, 'ring': 1284, 'work': 1712, 'zobu': 1741, 'google': 661, 'imagine': 772, 'smashburger': 1398, 'gem': 637, 'plantain': 1136, 'giving': 647, 'spends': 1431, 'talking': 1512, 'Panna': 12, 'cotta': 331, 'fail': 542, 'slaw': 1392, 'drenched': 453, 'piano': 1123, 'soundtrack': 1422, 're': 1225, 'fillet': 572, 'relleno': 1259, 'plate': 1138, 'sergeant': 1350, 'ausu': 93, 'hawaiian': 714, 'breeze': 189, 'mango': 921, 'magic': 909, 'pineapple': 1128, 'smoothy': 1404, 'mortified': 979, 'needle': 1005, 'anyways': 60, 'dripping': 460, 'mostly': 980, 'serving': 1356, 'hospitality': 747, 'industry': 787, 'paradise': 1086, 'refrained': 1248, 'recommending': 1243, 'cibol': 274, 'longer': 883, 'famous': 550, 'reading': 1228, 'reminded': 1262, 'pro': 1178, 'simple': 1384, 'dough': 444, 'tonight': 1567, 'elk': 487, 'hooked': 742, 'classic': 278, 'sorely': 1419, 'quaint': 1203, 'deliciously': 393, 'compliment': 306, 'thanks': 1535, 'dylan': 471, 'tummy': 1597, 'gratuity': 669, 'larger': 839, 'fly': 596, 'apple': 70, 'juice': 819, 'han': 698, 'nan': 997, 'barely': 121, 'Ryan': 15, 'edinburgh': 478, 'revisiting': 1276, 'chinese': 266, 'naan': 994, 'pine': 1127, 'nut': 1027, 'touched': 1576, 'airport': 36, 'speedy': 1429, 'calligraphy': 221, 'anything': 57, 'complain': 302, 'stood': 1461, 'begin': 139, 'awkwardly': 103, 'opened': 1046, 'extensive': 534, 'provides': 1191, 'wide': 1698, 'array': 76, 'inflate': 789, 'smaller': 1397, 'grow': 687, 'rapidly': 1213, 'Lil': 9, 'fuzzy': 630, 'fabulous': 540, 'wonton': 1710, 'thick': 1538, 'level': 861, 'spice': 1432, 'whelm': 1692, 'crowd': 357, 'older': 1040, 'mid': 954, 'arepas': 73, 'jalapeno': 805, 'thats': 1536, 'shoe': 1368, 'leather': 850, 'block': 165, 'low': 896, 'key': 823, 'fancy': 552, 'affordable': 31, 'sour': 1424, 'sunday': 1496, 'traditional': 1581, 'Hunan': 7, 'style': 1478, 'bother': 178, 'flair': 585, 'nutshell': 1028, 'restraint': 1269, 'smell': 1400, 'market': 925, 'sewer': 1361, 'girlfriend': 644, 'veal': 1633, 'join': 813, 'club': 284, 'offer': 1033, 'via': 1647, 'email': 490, 'case': 237, 'colder': 291, 'flavorless': 590, 'describing': 399, 'tepid': 1530, 'chain': 248, 'easily': 472, 'nacho': 995, 'crazy': 349, 'jury': 820, 'lawyer': 846, 'court': 337, 'arrives': 78, 'paying': 1100, 'wienerschnitzel': 1699, 'idea': 766, 'maine': 911, 'brother': 194, 'law': 845, 'whereas': 1694, 'tribute': 1587, 'held': 720, 'salsa': 1311, 'piss': 1130, 'surprise': 1501, 'golden': 658, 'fell': 564, 'bruschetta': 198, 'Devine': 4, 'employee': 491, 'lastly': 841, 'mozzarella': 985, 'negligent': 1006, 'unwelcome': 1620, 'suggest': 1490, 'consistent': 315, 'packed': 1077, 'seasonal': 1333, 'fruit': 622, 'peach': 1102, 'officially': 1035, 'blown': 169, 'put': 1201, 'plastic': 1137, 'container': 319, 'opposed': 1050, 'cramming': 344, 'takeout': 1510, 'crape': 346, 'delicate': 390, 'awful': 101, 'fair': 544, 'kabuki': 821, 'maria': 924, 'surprised': 1502, 'article': 80, 'read': 1226, 'fucking': 625, 'caballero': 215, 'head': 715, 'oyster': 1074, 'round': 1295, 'disbelief': 423, 'qualified': 1204, 'version': 1646, 'tolerance': 1564, 'polite': 1152, 'wash': 1671, 'otherwise': 1058, 'heat': 719, 'hated': 712, 'coconut': 287, 'fella': 565, 'huevos': 755, 'rancheros': 1212, 'appealing': 67, 'pricey': 1174, 'temp': 1527, 'prepare': 1167, 'bare': 120, 'glove': 651, 'deep': 384, 'oil': 1037, 'pleasure': 1146, 'plethora': 1147, 'seal': 1332, 'approval': 71, 'light': 863, 'college': 292, 'cooking': 324, 'class': 277, 'started': 1445, 'editing': 479, 'besides': 144, 'Costco': 2, 'highlighted': 729, 'unique': 1614, 'weird': 1687, 'hardly': 710, 'grocery': 682, 'store': 1464, 'japanese': 807, 'dude': 467, 'doughy': 445, 'inch': 778, 'wire': 1705, 'albondigas': 38, 'tomato': 1565, 'meatball': 937, 'three': 1549, 'occasion': 1031, 'medium': 941, 'bloodiest': 166, 'refused': 1251, 'anymore': 55, 'killer': 827, 'chai': 247, 'latte': 844, 'allergy': 39, 'warning': 1670, 'clue': 285, 'contain': 317, 'mediterranean': 940, 'rotating': 1294, 'concern': 309, 'mellow': 944, 'strawberry': 1467, 'unprofessional': 1616, 'loyal': 898, 'patron': 1097, 'spend': 1430, 'occasional': 1032, 'pat': 1095, 'bellagio': 142, 'anticipated': 54, 'weak': 1681, 'correct': 328, 'bought': 181, 'sals': 1310, 'returning': 1272, 'unexperienced': 1610, 'call': 220, 'steakhouse': 1452, 'properly': 1188, 'understand': 1608, 'concept': 308, 'guacamole': 688, 'purged': 1200, 'postins': 1161, 'poisoning': 1151, 'batch': 127, 'thinking': 1542, 'yay': 1729, 'hilarious': 731, 'christmas': 273, 'eve': 509, 'remember': 1261, 'biggest': 150, 'entire': 502, 'caring': 233, 'teamwork': 1524, 'degree': 388, 'Ri': 14, 'calamari': 219, 'fondue': 600, 'lost': 888, 'forever': 603, 'scene': 1328, 'Denny': 3, 'downright': 446, 'waaaaaayyyyyyyyyy': 1658, 'saying': 1326, 'lacked': 834, 'sangria': 1317, 'glass': 650, 'ridiculous': 1282, 'brisket': 193, 'neat': 1002, 'trippy': 1591, 'hurry': 761, 'reservation': 1266, 'stretch': 1469, 'imagination': 770, 'cashew': 239, 'undercooked': 1607, 'ranch': 1211, 'dipping': 414, 'cause': 244, 'seemed': 1342, 'watered': 1678, 'douched': 443, 'indoor': 786, 'garden': 632, 'con': 307, 'spotty': 1438, 'neither': 1008, 'ensued': 500, 'apologize': 62, 'fill': 571, 'binge': 152, 'drinking': 459, 'carbs': 231, 'insult': 797, 'profound': 1184, 'deuchebaggery': 406, 'smoke': 1402, 'solidify': 1408, 'ala': 37, 'cart': 235, 'blame': 161, 'placed': 1134, 'rave': 1222, 'del': 389, 'avoided': 98, 'hamburger': 697, 'gotten': 663, 'ya': 1727, 'shot': 1373, 'fireball': 580, 'correction': 329, 'Heimer': 6, 'putting': 1202, 'owned': 1072, 'vomited': 1655, 'circumstance': 275, 'brownish': 196, 'obviously': 1030, 'movie': 983, 'ha': 693, 'flop': 593, 'problem': 1180, 'charge': 252, 'bigger': 149, 'unwrapped': 1621, 'mile': 957, 'brushfire': 199, 'impressive': 777, 'closed': 283, 'mirage': 964, 'refried': 1250, 'dried': 456, 'crusty': 360, 'caterpillar': 242, 'appetite': 68, 'instantly': 795, 'ninja': 1016, 'wasted': 1673, 'poured': 1163, 'wound': 1721, 'drawing': 451}\n"
     ]
    }
   ],
   "source": [
    "pickle.dump(vectorizer.vocabulary_, open(\"vocab.p\",\"wb\"))\n",
    "print(vectorizer.vocabulary_)"
   ]
  },
  {
   "cell_type": "markdown",
   "metadata": {},
   "source": [
    "To use this with keras we need to first convert it to a numpy array."
   ]
  },
  {
   "cell_type": "code",
   "execution_count": 13,
   "metadata": {},
   "outputs": [
    {
     "name": "stdout",
     "output_type": "stream",
     "text": [
      "<class 'numpy.ndarray'>\n"
     ]
    }
   ],
   "source": [
    "# Change to a numpy array\n",
    "\n",
    "data = vector.todense()\n",
    "data = np.asarray(data)\n",
    "print(type(data))"
   ]
  },
  {
   "cell_type": "code",
   "execution_count": 14,
   "metadata": {},
   "outputs": [
    {
     "name": "stdout",
     "output_type": "stream",
     "text": [
      "0\n",
      "1000\n"
     ]
    }
   ],
   "source": [
    "print(data[0][1124])\n",
    "print(len(data))"
   ]
  },
  {
   "cell_type": "markdown",
   "metadata": {},
   "source": [
    "Then we split the data up into the training, validation, and testing sets, at a 60:20:20 ratio.\n",
    "We are careful to have an even number of positive and negative sentiments in each section.\n",
    "Without staying even, our model would learn to guess, say, positive more often, simply because more reviews were positive!"
   ]
  },
  {
   "cell_type": "code",
   "execution_count": 15,
   "metadata": {},
   "outputs": [
    {
     "name": "stdout",
     "output_type": "stream",
     "text": [
      "(600, 1742)\n",
      "(200, 1742)\n",
      "(200, 1742)\n"
     ]
    }
   ],
   "source": [
    "# Split into train, test, and validate sets\n",
    "\n",
    "x_train = np.concatenate([data[:300], data[-300:]])\n",
    "y_train = np.concatenate([sentiment[:300], sentiment[-300:]])\n",
    "x_val = np.concatenate([data[300:400], data[600:700]])\n",
    "y_val = np.concatenate([sentiment[300:400], sentiment[600:700]])\n",
    "x_test = np.concatenate([data[400:600]])\n",
    "y_test = np.concatenate([sentiment[400:600]])\n",
    "print(x_train.shape)\n",
    "print(x_val.shape)\n",
    "print(x_test.shape)"
   ]
  },
  {
   "cell_type": "markdown",
   "metadata": {},
   "source": [
    "## Model Architecture"
   ]
  },
  {
   "cell_type": "markdown",
   "metadata": {},
   "source": [
    "### Model Creation \n",
    "\n",
    "This is where we finally make our neural network to process the vectorized data we made above. This process will consist of importing the libraries we need (keras in our instance), selecting the kind of model we wish to work with, creating the nueral network with it number of nodes and layers, selecting optimizer, loss, and metric functions, training, and then finally testing our data."
   ]
  },
  {
   "cell_type": "code",
   "execution_count": 16,
   "metadata": {},
   "outputs": [
    {
     "name": "stderr",
     "output_type": "stream",
     "text": [
      "Using TensorFlow backend.\n"
     ]
    }
   ],
   "source": [
    "#Import the models library from the keras main library to use for our model\n",
    "from keras import models\n",
    "\n",
    "#Import the layers library from the keras main library, this will allow us to create a sequential neural network with sequential layers\n",
    "from keras import layers\n",
    "\n",
    "\n",
    "#Will make our model a sequential model, with sequences of dense layers\n",
    "model = models.Sequential()\n",
    "\n",
    "#Will set the first layer as a dense layer with 16 nodes, will use the activation function relu and fit our layer to the data\n",
    "#Worth noting here that the number of layers and number of nodes are rather arbitrary, from our experience\n",
    "#with this particular model, 1 dense layer with 16 nodes each allowed for maximal accuracy in the test data\n",
    "#Will then output a single node dense layer that will output a continuous probability curve via the sigmoid function activator\n",
    "\n",
    "model.add(layers.Dense(16, activation = 'relu', input_shape = (x_train.shape[1],)))\n",
    "model.add(layers.Dense(1,  activation = 'sigmoid'))"
   ]
  },
  {
   "cell_type": "markdown",
   "metadata": {},
   "source": [
    "### Model Compilation\n",
    "\n",
    "Now that we have made our model, we must now choose what we want as our metric, our loss function, and our optimizer functions.\n",
    "\n",
    "Very large degree of freedom here, many different loss functions to use, as well as metrics for model evaluation\n",
    "and optimizer functions.\n",
    "\n",
    "From our experience with this model, was more useful to use the following optimizer, loss, and metric functions,\n",
    "but this can vary depending upon the project you are working on."
   ]
  },
  {
   "cell_type": "code",
   "execution_count": 17,
   "metadata": {},
   "outputs": [],
   "source": [
    "model.compile(optimizer = 'rmsprop',           #Set our optimizer function as \"rmsprop\"\n",
    "              loss = 'binary_crossentropy',    #Set up our loss function as \"binary cross entropy\"\n",
    "              metrics = ['accuracy'])          #Set up our metric function, will use \"accuracy\" here"
   ]
  },
  {
   "cell_type": "markdown",
   "metadata": {},
   "source": [
    "### Model Training\n",
    "Now that we have created our model and defined how we will evaluate our model and how it will optimize loss, will now train it.\n",
    "\n",
    "To keep track of how our model is doing, will want to print out a history of each epoch to see how our model is improving, and if it is overfitting.\n",
    "\n",
    "To train the model, must give our model the x_train and y_train data we set aside earlier, set a number of epochs we wish for the model to go through, the number of data entries per epoch, and (optionally), have it analyze a vlaidation set.\n",
    "\n",
    "Again, worth noting here that the number of epochs and batch size are completely aribtrary and will vary form model to model, from our experience, we wished to maximize accuracy, so a greater number of epochs was desirable "
   ]
  },
  {
   "cell_type": "code",
   "execution_count": 18,
   "metadata": {},
   "outputs": [
    {
     "name": "stdout",
     "output_type": "stream",
     "text": [
      "Train on 600 samples, validate on 200 samples\n",
      "Epoch 1/20\n",
      "600/600 [==============================] - 2s 4ms/step - loss: 0.6930 - acc: 0.4983 - val_loss: 0.6816 - val_acc: 0.6300\n",
      "Epoch 2/20\n",
      "600/600 [==============================] - 0s 52us/step - loss: 0.6686 - acc: 0.7417 - val_loss: 0.6741 - val_acc: 0.6600\n",
      "Epoch 3/20\n",
      "600/600 [==============================] - 0s 78us/step - loss: 0.6482 - acc: 0.8300 - val_loss: 0.6655 - val_acc: 0.7150\n",
      "Epoch 4/20\n",
      "600/600 [==============================] - 0s 78us/step - loss: 0.6262 - acc: 0.8667 - val_loss: 0.6548 - val_acc: 0.7300\n",
      "Epoch 5/20\n",
      "600/600 [==============================] - 0s 52us/step - loss: 0.6028 - acc: 0.8967 - val_loss: 0.6441 - val_acc: 0.7400\n",
      "Epoch 6/20\n",
      "600/600 [==============================] - 0s 52us/step - loss: 0.5783 - acc: 0.9067 - val_loss: 0.6302 - val_acc: 0.7700\n",
      "Epoch 7/20\n",
      "600/600 [==============================] - 0s 78us/step - loss: 0.5529 - acc: 0.9133 - val_loss: 0.6173 - val_acc: 0.7700\n",
      "Epoch 8/20\n",
      "600/600 [==============================] - 0s 78us/step - loss: 0.5273 - acc: 0.9267 - val_loss: 0.6029 - val_acc: 0.7950\n",
      "Epoch 9/20\n",
      "600/600 [==============================] - 0s 52us/step - loss: 0.5016 - acc: 0.9300 - val_loss: 0.5893 - val_acc: 0.7950\n",
      "Epoch 10/20\n",
      "600/600 [==============================] - 0s 78us/step - loss: 0.4760 - acc: 0.9400 - val_loss: 0.5766 - val_acc: 0.7950\n",
      "Epoch 11/20\n",
      "600/600 [==============================] - 0s 52us/step - loss: 0.4512 - acc: 0.9433 - val_loss: 0.5620 - val_acc: 0.8000\n",
      "Epoch 12/20\n",
      "600/600 [==============================] - 0s 78us/step - loss: 0.4270 - acc: 0.9500 - val_loss: 0.5512 - val_acc: 0.8000\n",
      "Epoch 13/20\n",
      "600/600 [==============================] - 0s 52us/step - loss: 0.4040 - acc: 0.9500 - val_loss: 0.5382 - val_acc: 0.8000\n",
      "Epoch 14/20\n",
      "600/600 [==============================] - 0s 78us/step - loss: 0.3824 - acc: 0.9500 - val_loss: 0.5280 - val_acc: 0.7950\n",
      "Epoch 15/20\n",
      "600/600 [==============================] - 0s 52us/step - loss: 0.3619 - acc: 0.9517 - val_loss: 0.5167 - val_acc: 0.7950\n",
      "Epoch 16/20\n",
      "600/600 [==============================] - 0s 78us/step - loss: 0.3419 - acc: 0.9567 - val_loss: 0.5056 - val_acc: 0.7950\n",
      "Epoch 17/20\n",
      "600/600 [==============================] - 0s 52us/step - loss: 0.3233 - acc: 0.9617 - val_loss: 0.4973 - val_acc: 0.7950\n",
      "Epoch 18/20\n",
      "600/600 [==============================] - 0s 78us/step - loss: 0.3055 - acc: 0.9617 - val_loss: 0.4886 - val_acc: 0.7950\n",
      "Epoch 19/20\n",
      "600/600 [==============================] - 0s 52us/step - loss: 0.2888 - acc: 0.9617 - val_loss: 0.4818 - val_acc: 0.8000\n",
      "Epoch 20/20\n",
      "600/600 [==============================] - 0s 78us/step - loss: 0.2728 - acc: 0.9633 - val_loss: 0.4740 - val_acc: 0.8100\n"
     ]
    }
   ],
   "source": [
    "history = model.fit(x_train,                            #Input the x_train data\n",
    "                       y_train,                         #Input the y_train data (features)\n",
    "                       epochs=20,                       #Set our model to go through 20 epochs\n",
    "                       batch_size=64,                   #Set our epoch batch size to 64 data entires\n",
    "                       validation_data=(x_val, y_val))  #Have our model also go through the validation set, x_val, y_val\n",
    "\n",
    "#To prevent overfitting, will plot the model accuracy against the validation accuracy and see where divergence occurs\n",
    "\n",
    "#Will use the matplotlib.pyplot library to access the necessary plotting functions we will need to plot our output"
   ]
  },
  {
   "cell_type": "code",
   "execution_count": 22,
   "metadata": {},
   "outputs": [
    {
     "data": {
      "image/png": "[encoded data removed]",
      "text/plain": [
       "<Figure size 432x288 with 1 Axes>"
      ]
     },
     "metadata": {
      "needs_background": "light"
     },
     "output_type": "display_data"
    }
   ],
   "source": [
    "import matplotlib.pyplot as plt\n",
    "\n",
    "#Plot the model accuracy by calling history.history['acc']\n",
    "plt.plot(history.history['acc'], label = \"Model Accuracy\")\n",
    "\n",
    "#Add the validation accurayc to our plot by calling history.history['val_acc']\n",
    "plt.plot(history.history['val_acc'], label = \"Validation Accuracy\")\n",
    "\n",
    "#Add a grid to the plot for neatness in analysis\n",
    "plt.grid()\n",
    "\n",
    "#Add a legend to our plot\n",
    "plt.legend()\n",
    "\n",
    "#Adding a label to the x-axis \n",
    "plt.xlabel(\"Epochs\")\n",
    "\n",
    "#Adding a label to the y-axis\n",
    "plt.ylabel(\"% Accuracy\")\n",
    "\n",
    "#Adding a limit to the x-axis range, want to make sure we get the full 0-20 epoch range\n",
    "plt.xlim(0,20)\n",
    "\n",
    "plt.show()"
   ]
  },
  {
   "cell_type": "markdown",
   "metadata": {},
   "source": [
    "### Model Testing\n",
    "\n",
    "Now that we have tried to prevent overfitting the data and have trained it, let's see how well it does on our test data set."
   ]
  },
  {
   "cell_type": "code",
   "execution_count": 20,
   "metadata": {},
   "outputs": [
    {
     "name": "stdout",
     "output_type": "stream",
     "text": [
      "200/200 [==============================] - 0s 0us/step\n",
      "Accuracy: 79.5%\n"
     ]
    }
   ],
   "source": [
    "#This step is as simple as calling the evaluate function from the keras models library with our x_test and y_test data sets\n",
    "#as parameters to pass in\n",
    "results = model.evaluate(x_test, y_test)\n",
    "\n",
    "#We've tested it, now let's print out how accurate our model is on the testing data set\n",
    "print (\"Accuracy:\", f\"{(results[1]) * 100}%\")"
   ]
  },
  {
   "cell_type": "code",
   "execution_count": 21,
   "metadata": {},
   "outputs": [
    {
     "name": "stdout",
     "output_type": "stream",
     "text": [
      "[0 0 0 ... 0 0 0]\n",
      "(1, 1742)\n"
     ]
    },
    {
     "data": {
      "text/plain": [
       "0.26960024"
      ]
     },
     "execution_count": 21,
     "metadata": {},
     "output_type": "execute_result"
    }
   ],
   "source": [
    "model.save('sentiment_predictor.h5')  \n",
    "print(x_test[0])\n",
    "print(x_test[0:1].shape)\n",
    "model.predict(x_test[0:1])[0][0]"
   ]
  },
  {
   "cell_type": "code",
   "execution_count": null,
   "metadata": {},
   "outputs": [],
   "source": []
  },
  {
   "cell_type": "code",
   "execution_count": null,
   "metadata": {},
   "outputs": [],
   "source": []
  },
  {
   "cell_type": "code",
   "execution_count": null,
   "metadata": {},
   "outputs": [],
   "source": []
  }
 ],
 "metadata": {
  "kernelspec": {
   "display_name": "Python 3",
   "language": "python",
   "name": "python3"
  },
  "language_info": {
   "codemirror_mode": {
    "name": "ipython",
    "version": 3
   },
   "file_extension": ".py",
   "mimetype": "text/x-python",
   "name": "python",
   "nbconvert_exporter": "python",
   "pygments_lexer": "ipython3",
   "version": "3.6.8"
  }
 },
 "nbformat": 4,
 "nbformat_minor": 2
}
