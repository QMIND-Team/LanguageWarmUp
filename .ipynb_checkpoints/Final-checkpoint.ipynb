{
 "cells": [
  {
   "cell_type": "markdown",
   "metadata": {},
   "source": [
    "# Language Warmup Full Model\n",
    "\n",
    "## Data Cleaning"
   ]
  },
  {
   "cell_type": "code",
   "execution_count": 145,
   "metadata": {
    "scrolled": true
   },
   "outputs": [],
   "source": [
    "import pandas as pd\n",
    "import numpy as np\n",
    "import string\n",
    "import re\n",
    "import nltk\n",
    "from autocorrect import spell\n",
    "nltk.download('stopwords')\n",
    "nltk.download('wordnet')\n",
    "\n",
    "yelpDataset = pd.read_csv('Yelp.txt', sep='\\t', header=None, encoding='latin-1')\n",
    "yelpDataset.columns = ['review', 'sentiment']\n",
    "stopword = nltk.corpus.stopwords.words('english')\n",
    "stopword = [word for word in stopword if word != 'not']\n",
    "lm = nltk.WordNetLemmatizer()\n",
    "\n",
    "def tokenize(text):\n",
    "    tokens = re.split('\\W+', text)\n",
    "    return tokens\n",
    "\n",
    "def onlyAlpha(tokenizedList):\n",
    "    text = [word for word in tokenizedList if word.isalpha()]\n",
    "    return text\n",
    "\n",
    "def noStop(tokenizedList):\n",
    "    text = [word for word in tokenizedList if word not in stopword]\n",
    "    return text\n",
    "\n",
    "def spellCheck(tokenizedList):\n",
    "    text = [spell(word) for word in tokenizedList]\n",
    "    return text\n",
    "\n",
    "def lemmatize(tokenizedList):\n",
    "    text = ' '.join([lm.lemmatize(word) for word in tokenizedList])\n",
    "    return text\n",
    "\n",
    "#def posTag(tokenizedList):\n",
    "#    text = nltk.pos_tag(tokenizedList)\n",
    " #   return text\n",
    "\n",
    "\n",
    "\n",
    "yelpDataset['review_tokens'] = yelpDataset['review'].apply(lambda x: tokenize(x.lower()))\n",
    "yelpDataset['review_alpha'] = yelpDataset['review_tokens'].apply(lambda x: onlyAlpha(x))\n",
    "yelpDataset['review_nostops'] = yelpDataset['review_alpha'].apply(lambda x: noStop(x))\n",
    "yelpDataset['review_spellCheck'] = yelpDataset['review_nostops'].apply(lambda x: spellCheck(x))\n",
    "yelpDataset['review_lemmatized'] = yelpDataset['review_spellCheck'].apply(lambda x: lemmatize(x))\n",
    "#yelpDataset['review_posTag'] = yelpDataset['review_lemmatized'].apply(lambda x: posTag(x))\n",
    "\n",
    "df1 = pd.DataFrame(data = yelpDataset['review_lemmatized'])\n",
    "#creates a list that can be vectorized later\n",
    "df1 = df1['review_lemmatized'].tolist()\n",
    "df2 = pd.DataFrame(data = yelpDataset['sentiment'])\n",
    "df2 = df2['sentiment'].tolist()"
   ]
  },
  {
   "cell_type": "code",
   "execution_count": null,
   "metadata": {},
   "outputs": [],
   "source": []
  },
  {
   "cell_type": "code",
   "execution_count": 3,
   "metadata": {},
<<<<<<< Updated upstream
   "outputs": [],
   "source": []
  },
  {
   "cell_type": "markdown",
   "metadata": {},
=======
   "outputs": [
    {
     "data": {
      "text/plain": [
       "'\\nimport random\\nimport numpy as np\\n\\nwith open(\"FeatureCreate\\\\words.txt\") as f:\\n    words = f.readlines()\\nwords = [x.strip() for x in words]\\n\\nphrases = []\\nfor i in range (0,100):\\n    phraselength = random.randint(5,15)\\n    phrase = []\\n    for j in range(0,phraselength):\\n        choice = random.randint(0,len(words))\\n        phrase.append(words[choice])\\n        sentence = \\' \\'.join(phrase)\\n    phrases.append(sentence)\\n\\n    \\nprint(len(phrases))\\n# REMOVE THIS CELL\\n'"
      ]
     },
     "execution_count": 3,
     "metadata": {},
     "output_type": "execute_result"
    }
   ],
   "source": [
    "# Create the random junk data\n",
    "# This was just a test for me to figure out how to work it with fake sets of randomly generated sentences\n",
    "# The outputs weren't exactly as expected since the sentences generated didn't follow grammar rules\n",
    "'''\n",
    "import random\n",
    "import numpy as np\n",
    "\n",
    "with open(\"FeatureCreate\\words.txt\") as f:\n",
    "    words = f.readlines()\n",
    "words = [x.strip() for x in words]\n",
    "\n",
    "phrases = []\n",
    "for i in range (0,100):\n",
    "    phraselength = random.randint(5,15)\n",
    "    phrase = []\n",
    "    for j in range(0,phraselength):\n",
    "        choice = random.randint(0,len(words))\n",
    "        phrase.append(words[choice])\n",
    "        sentence = ' '.join(phrase)\n",
    "    phrases.append(sentence)\n",
    "\n",
    "    \n",
    "print(len(phrases))\n",
    "# REMOVE THIS CELL\n",
    "'''"
   ]
  },
  {
   "cell_type": "code",
   "execution_count": 4,
   "metadata": {},
   "outputs": [
    {
     "data": {
      "text/plain": [
       "'\\n#Make fake y values (fake sentiments)\\n\\ny_dat = [0] * 100\\nfor i in range(0,50):\\n    y_dat[i] = 1\\n        \\nprint(y_dat)\\n'"
      ]
     },
     "execution_count": 4,
     "metadata": {},
     "output_type": "execute_result"
    }
   ],
>>>>>>> Stashed changes
   "source": [
    "## Feature Engineering and Vectorization"
   ]
  },
  {
   "cell_type": "code",
<<<<<<< Updated upstream
   "execution_count": 4,
=======
   "execution_count": 5,
>>>>>>> Stashed changes
   "metadata": {},
   "outputs": [],
   "source": [
    "# Vectorize data, with 1- and 2- grams\n",
    "\n",
    "#importing a useful function that converts our data set of sentences into a large matrix of 0's and 1's\n",
    "#the matrix has each row representing a sentence and each column representing a word from the data set (no words are repeated)\n",
    "#for each sentence, a 1 is placed in the columns of the words present in the sentence.\n",
    "#If a word isn't in the sentence, a 0 is put in that column.\n",
    "\n",
    "from sklearn.feature_extraction.text import CountVectorizer\n",
    "\n",
    "#placing binary=false would make the matrix count the frequency of a word in the sentence, instead of just marking it's presence\n",
    "#for some reason this wasn't working unless lowercase=false, some problem with the cleaned data I suppose\n",
    "\n",
    "vectorizer = CountVectorizer(binary=True, lowercase=False)\n",
    "\n",
    "#This next line could be used instead if we wished to make the program more sophisticated, but larger/slower\n",
    "#Instead of a column for every word, there would also be columns for every set of two words placed next to each other in the data set\n",
    "#Change the 2 to any integer, but makes the matrix exponentially larger\n",
    "\n",
    "#vectorizer = CountVectorizer(binary=True, lowercase=False, ngram_range=(1, 2))\n",
<<<<<<< Updated upstream
    "vector = vectorizer.fit_transform(df1)"
=======
    "\n",
    "#Simply calling this function on our cleaned data set 'phrases'\n",
    "\n",
    "vector = vectorizer.fit_transform(phrases)"
>>>>>>> Stashed changes
   ]
  },
  {
   "cell_type": "code",
<<<<<<< Updated upstream
   "execution_count": 5,
=======
   "execution_count": 6,
>>>>>>> Stashed changes
   "metadata": {},
   "outputs": [
    {
     "name": "stdout",
     "output_type": "stream",
     "text": [
      "<class 'numpy.ndarray'>\n"
     ]
    }
   ],
   "source": [
    "# Change to a numpy array just so it's easier to manipulate\n",
    "\n",
    "data = vector.todense()\n",
    "data = np.asarray(data)\n",
    "print(type(data))"
   ]
  },
  {
   "cell_type": "code",
<<<<<<< Updated upstream
   "execution_count": 6,
=======
   "execution_count": 7,
>>>>>>> Stashed changes
   "metadata": {},
   "outputs": [
    {
     "name": "stdout",
     "output_type": "stream",
     "text": [
      "(600, 1742)\n",
      "(200, 1742)\n",
      "(200, 1742)\n"
     ]
    }
   ],
   "source": [
    "# Split into train, test, and validate sets\n",
    "\n",
    "x_train = np.concatenate([data[:300], data[-300:]])\n",
    "y_train = np.concatenate([df2[:300], df2[-300:]])\n",
    "x_val = np.concatenate([data[300:400], data[600:700]])\n",
    "y_val = np.concatenate([df2[300:400], df2[600:700]])\n",
    "x_test = np.concatenate([data[400:600]])\n",
    "y_test = np.concatenate([df2[400:600]])\n",
    "print(x_train.shape)\n",
    "print(x_val.shape)\n",
    "print(x_test.shape)"
   ]
  },
  {
   "cell_type": "markdown",
   "metadata": {},
   "source": [
    "## Model Architecture"
   ]
  },
  {
<<<<<<< Updated upstream
   "cell_type": "markdown",
=======
   "cell_type": "code",
   "execution_count": 8,
>>>>>>> Stashed changes
   "metadata": {},
   "source": [
    "### Model Creation \n",
    "\n",
    "This is where we finally make our neural network to process the vectorized data we made above. This process will consist of importing the libraries we need (keras in our instance), selecting the kind of model we wish to work with, creating the nueral network with it number of nodes and layers, selecting optimizer, loss, and metric functions, training, and then finally testing our data."
   ]
  },
  {
   "cell_type": "code",
   "execution_count": 42,
   "metadata": {},
   "outputs": [],
   "source": [
    "#Import the models library from the keras main library to use for our model\n",
    "from keras import models\n",
    "\n",
    "#Import the layers library from the keras main library, this will allow us to create a sequential neural network with sequential layers\n",
    "from keras import layers\n",
    "\n",
    "\n",
    "#Will make our model a sequential model, with sequences of dense layers\n",
    "model = models.Sequential()\n",
    "\n",
    "#Will set the first layer as a dense layer with 16 nodes, will use the activation function relu and fit our layer to the data\n",
    "#Worth noting here that the number of layers and number of nodes are rather arbitrary, from our experience\n",
    "#with this particular model, 1 dense layer with 16 nodes each allowed for maximal accuracy in the test data\n",
    "#Will then output a single node dense layer that will output a continuous probability curve via the sigmoid function activator\n",
    "\n",
    "model.add(layers.Dense(16, activation = 'relu', input_shape = (x_train.shape[1],)))\n",
    "model.add(layers.Dense(1,  activation = 'sigmoid'))"
   ]
  },
  {
   "cell_type": "markdown",
   "metadata": {},
   "source": [
    "### Model Compilation\n",
    "\n",
    "Now that we have made our model, we must now choose what we want as our metric, our loss function, and our optimizer functions.\n",
    "\n",
    "Very large degree of freedom here, many different loss functions to use, as well as metrics for model evaluation\n",
    "and optimizer functions.\n",
    "\n",
    "From our experience with this model, was more useful to use the following optimizer, loss, and metric functions,\n",
    "but this can vary depending upon the project you are working on."
   ]
  },
  {
   "cell_type": "code",
<<<<<<< Updated upstream
   "execution_count": 43,
=======
   "execution_count": 9,
>>>>>>> Stashed changes
   "metadata": {},
   "outputs": [],
   "source": [
    "model.compile(optimizer = 'rmsprop',           #Set our optimizer function as \"rmsprop\"\n",
    "              loss = 'binary_crossentropy',    #Set up our loss function as \"binary cross entropy\"\n",
    "              metrics = ['accuracy'])          #Set up our metric function, will use \"accuracy\" here"
   ]
  },
  {
   "cell_type": "markdown",
   "metadata": {},
   "source": [
    "### Model Training\n",
    "Now that we have created our model and defined how we will evaluate our model and how it will optimize loss, will now train it.\n",
    "\n",
    "To keep track of how our model is doing, will want to print out a history of each epoch to see how our model is improving, and if it is overfitting.\n",
    "\n",
    "To train the model, must give our model the x_train and y_train data we set aside earlier, set a number of epochs we wish for the model to go through, the number of data entries per epoch, and (optionally), have it analyze a vlaidation set.\n",
    "\n",
    "Again, worth noting here that the number of epochs and batch size are completely aribtrary and will vary form model to model, from our experience, we wished to maximize accuracy, so a greater number of epochs was desirable "
   ]
  },
  {
   "cell_type": "code",
<<<<<<< Updated upstream
   "execution_count": 44,
=======
   "execution_count": 10,
>>>>>>> Stashed changes
   "metadata": {},
   "outputs": [
    {
     "name": "stdout",
     "output_type": "stream",
     "text": [
      "Train on 600 samples, validate on 200 samples\n",
      "Epoch 1/20\n",
<<<<<<< Updated upstream
      "600/600 [==============================] - 1s 2ms/step - loss: 0.6861 - acc: 0.5967 - val_loss: 0.6832 - val_acc: 0.5900\n",
      "Epoch 2/20\n",
      "600/600 [==============================] - 0s 193us/step - loss: 0.6655 - acc: 0.7533 - val_loss: 0.6772 - val_acc: 0.6150\n",
      "Epoch 3/20\n",
      "600/600 [==============================] - 0s 188us/step - loss: 0.6471 - acc: 0.8050 - val_loss: 0.6688 - val_acc: 0.6550\n",
      "Epoch 4/20\n",
      "600/600 [==============================] - 0s 197us/step - loss: 0.6271 - acc: 0.8483 - val_loss: 0.6600 - val_acc: 0.6900\n",
      "Epoch 5/20\n",
      "600/600 [==============================] - 0s 177us/step - loss: 0.6059 - acc: 0.8733 - val_loss: 0.6500 - val_acc: 0.7150\n",
      "Epoch 6/20\n",
      "600/600 [==============================] - ETA: 0s - loss: 0.5851 - acc: 0.893 - 0s 238us/step - loss: 0.5840 - acc: 0.8833 - val_loss: 0.6393 - val_acc: 0.7300\n",
      "Epoch 7/20\n",
      "600/600 [==============================] - 0s 242us/step - loss: 0.5611 - acc: 0.8983 - val_loss: 0.6303 - val_acc: 0.7400\n",
      "Epoch 8/20\n",
      "600/600 [==============================] - 0s 270us/step - loss: 0.5377 - acc: 0.9067 - val_loss: 0.6192 - val_acc: 0.7500\n",
      "Epoch 9/20\n",
      "600/600 [==============================] - 0s 208us/step - loss: 0.5145 - acc: 0.9150 - val_loss: 0.6085 - val_acc: 0.7600\n",
      "Epoch 10/20\n",
      "600/600 [==============================] - ETA: 0s - loss: 0.4895 - acc: 0.921 - 0s 187us/step - loss: 0.4916 - acc: 0.9183 - val_loss: 0.5969 - val_acc: 0.7900\n",
      "Epoch 11/20\n",
      "600/600 [==============================] - 0s 212us/step - loss: 0.4686 - acc: 0.9283 - val_loss: 0.5837 - val_acc: 0.7950\n",
      "Epoch 12/20\n",
      "600/600 [==============================] - 0s 208us/step - loss: 0.4463 - acc: 0.9367 - val_loss: 0.5727 - val_acc: 0.7950\n",
      "Epoch 13/20\n",
      "600/600 [==============================] - 0s 198us/step - loss: 0.4247 - acc: 0.9400 - val_loss: 0.5622 - val_acc: 0.7950\n",
      "Epoch 14/20\n",
      "600/600 [==============================] - 0s 172us/step - loss: 0.4037 - acc: 0.9450 - val_loss: 0.5531 - val_acc: 0.7950\n",
      "Epoch 15/20\n",
      "600/600 [==============================] - 0s 225us/step - loss: 0.3836 - acc: 0.9467 - val_loss: 0.5423 - val_acc: 0.8000\n",
      "Epoch 16/20\n",
      "600/600 [==============================] - 0s 222us/step - loss: 0.3642 - acc: 0.9533 - val_loss: 0.5328 - val_acc: 0.8000\n",
      "Epoch 17/20\n",
      "600/600 [==============================] - 0s 200us/step - loss: 0.3452 - acc: 0.9550 - val_loss: 0.5213 - val_acc: 0.8050\n",
      "Epoch 18/20\n",
      "600/600 [==============================] - 0s 222us/step - loss: 0.3271 - acc: 0.9617 - val_loss: 0.5147 - val_acc: 0.8050\n",
      "Epoch 19/20\n",
      "600/600 [==============================] - 0s 216us/step - loss: 0.3107 - acc: 0.9583 - val_loss: 0.5038 - val_acc: 0.8100\n",
      "Epoch 20/20\n",
      "600/600 [==============================] - 0s 188us/step - loss: 0.2941 - acc: 0.9583 - val_loss: 0.4976 - val_acc: 0.8100\n"
=======
      "600/600 [==============================] - 0s 487us/step - loss: 0.6899 - acc: 0.5683 - val_loss: 0.6891 - val_acc: 0.5750\n",
      "Epoch 2/20\n",
      "600/600 [==============================] - 0s 52us/step - loss: 0.6723 - acc: 0.7450 - val_loss: 0.6831 - val_acc: 0.5900\n",
      "Epoch 3/20\n",
      "600/600 [==============================] - 0s 50us/step - loss: 0.6503 - acc: 0.8000 - val_loss: 0.6751 - val_acc: 0.5950\n",
      "Epoch 4/20\n",
      "600/600 [==============================] - 0s 52us/step - loss: 0.6206 - acc: 0.8350 - val_loss: 0.6620 - val_acc: 0.6450\n",
      "Epoch 5/20\n",
      "600/600 [==============================] - 0s 50us/step - loss: 0.5845 - acc: 0.8467 - val_loss: 0.6484 - val_acc: 0.6450\n",
      "Epoch 6/20\n",
      "600/600 [==============================] - 0s 53us/step - loss: 0.5449 - acc: 0.8767 - val_loss: 0.6281 - val_acc: 0.7100\n",
      "Epoch 7/20\n",
      "600/600 [==============================] - 0s 47us/step - loss: 0.5014 - acc: 0.9067 - val_loss: 0.6174 - val_acc: 0.6900\n",
      "Epoch 8/20\n",
      "600/600 [==============================] - 0s 48us/step - loss: 0.4583 - acc: 0.9100 - val_loss: 0.5881 - val_acc: 0.7550\n",
      "Epoch 9/20\n",
      "600/600 [==============================] - 0s 50us/step - loss: 0.4122 - acc: 0.9317 - val_loss: 0.5607 - val_acc: 0.7750\n",
      "Epoch 10/20\n",
      "600/600 [==============================] - 0s 55us/step - loss: 0.3664 - acc: 0.9550 - val_loss: 0.5347 - val_acc: 0.7950\n",
      "Epoch 11/20\n",
      "600/600 [==============================] - 0s 48us/step - loss: 0.3227 - acc: 0.9650 - val_loss: 0.5155 - val_acc: 0.8050\n",
      "Epoch 12/20\n",
      "600/600 [==============================] - 0s 50us/step - loss: 0.2820 - acc: 0.9767 - val_loss: 0.4995 - val_acc: 0.7900\n",
      "Epoch 13/20\n",
      "600/600 [==============================] - 0s 60us/step - loss: 0.2454 - acc: 0.9767 - val_loss: 0.4803 - val_acc: 0.7950\n",
      "Epoch 14/20\n",
      "600/600 [==============================] - 0s 50us/step - loss: 0.2112 - acc: 0.9850 - val_loss: 0.4685 - val_acc: 0.7950\n",
      "Epoch 15/20\n",
      "600/600 [==============================] - 0s 53us/step - loss: 0.1818 - acc: 0.9883 - val_loss: 0.4666 - val_acc: 0.7900\n",
      "Epoch 16/20\n",
      "600/600 [==============================] - 0s 48us/step - loss: 0.1564 - acc: 0.9867 - val_loss: 0.4536 - val_acc: 0.7900\n",
      "Epoch 17/20\n",
      "600/600 [==============================] - 0s 50us/step - loss: 0.1336 - acc: 0.9933 - val_loss: 0.4527 - val_acc: 0.8000\n",
      "Epoch 18/20\n",
      "600/600 [==============================] - 0s 52us/step - loss: 0.1135 - acc: 0.9950 - val_loss: 0.4439 - val_acc: 0.8000\n",
      "Epoch 19/20\n",
      "600/600 [==============================] - 0s 57us/step - loss: 0.0963 - acc: 0.9950 - val_loss: 0.4456 - val_acc: 0.7950\n",
      "Epoch 20/20\n",
      "600/600 [==============================] - 0s 50us/step - loss: 0.0814 - acc: 0.9967 - val_loss: 0.4499 - val_acc: 0.8000\n"
>>>>>>> Stashed changes
     ]
    },
    {
     "data": {
      "text/plain": [
       "(0, 20)"
      ]
     },
     "execution_count": 44,
     "metadata": {},
     "output_type": "execute_result"
    },
    {
     "data": {
      "image/png": "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\n",
      "text/plain": [
       "<Figure size 432x288 with 1 Axes>"
      ]
     },
     "metadata": {},
     "output_type": "display_data"
    }
   ],
   "source": [
    "history = model.fit(x_train,                            #Input the x_train data\n",
    "                       y_train,                         #Input the y_train data (features)\n",
    "                       epochs=20,                       #Set our model to go through 20 epochs\n",
    "                       batch_size=64,                   #Set our epoch batch size to 64 data entires\n",
    "                       validation_data=(x_val, y_val))  #Have our model also go through the validation set, x_val, y_val\n",
    "\n",
    "#To prevent overfitting, will plot the model accuracy against the validation accuracy and see where divergence occurs\n",
    "\n",
    "#Will use the matplotlib.pyplot library to access the necessary plotting functions we will need to plot our output\n",
    "\n",
    "import matplotlib.pyplot as plt\n",
    "\n",
    "#Plot the model accuracy by calling history.history['acc']\n",
    "plt.plot(history.history['acc'], label = \"Model Accuracy\")\n",
    "\n",
    "#Add the validation accurayc to our plot by calling history.history['val_acc']\n",
    "plt.plot(history.history['val_acc'], label = \"Validation Accuracy\")\n",
    "\n",
    "#Add a grid to the plot for neatness in analysis\n",
    "plt.grid()\n",
    "\n",
    "#Add a legend to our plot\n",
    "plt.legend()\n",
    "\n",
    "#Adding a label to the x-axis \n",
    "plt.xlabel(\"Epochs\")\n",
    "\n",
    "#Adding a label to the y-axis\n",
    "plt.ylabel(\"% Accuracy\")\n",
    "\n",
    "#Adding a limit to the x-axis range, want to make sure we get the full 0-20 epoch range\n",
    "plt.xlim(0,20)"
   ]
  },
  {
   "cell_type": "markdown",
   "metadata": {},
   "source": [
    "### Model Testing\n",
    "\n",
    "Now that we have tried to prevent overfitting the data and have trained it, let's see how well it does on our test data set."
   ]
  },
  {
   "cell_type": "code",
<<<<<<< Updated upstream
   "execution_count": 45,
=======
   "execution_count": 11,
>>>>>>> Stashed changes
   "metadata": {},
   "outputs": [
    {
     "name": "stdout",
     "output_type": "stream",
     "text": [
<<<<<<< Updated upstream
      "200/200 [==============================] - 0s 120us/step\n",
      "Accuracy: 0.785\n"
=======
      "200/200 [==============================] - 0s 45us/step\n",
      "Accuracy: 0.765\n"
>>>>>>> Stashed changes
     ]
    }
   ],
   "source": [
    "#This step is as simple as calling the evaluate function from the keras models library with our x_test and y_test data sets\n",
    "#as parameters to pass in\n",
    "results = model.evaluate(x_test, y_test)\n",
    "\n",
    "#We've tested it, now let's print out how accurate our model is on the testing data set\n",
    "print (\"Accuracy:\", results[1])"
   ]
  },
  {
   "cell_type": "code",
   "execution_count": null,
   "metadata": {},
   "outputs": [],
   "source": []
  },
  {
   "cell_type": "code",
   "execution_count": null,
   "metadata": {},
   "outputs": [],
   "source": []
  },
  {
   "cell_type": "code",
   "execution_count": null,
   "metadata": {},
   "outputs": [],
   "source": []
  }
 ],
 "metadata": {
  "kernelspec": {
   "display_name": "Python 3",
   "language": "python",
   "name": "python3"
  },
  "language_info": {
   "codemirror_mode": {
    "name": "ipython",
    "version": 3
   },
   "file_extension": ".py",
   "mimetype": "text/x-python",
   "name": "python",
   "nbconvert_exporter": "python",
   "pygments_lexer": "ipython3",
   "version": "3.6.6"
  }
 },
 "nbformat": 4,
 "nbformat_minor": 2
}
