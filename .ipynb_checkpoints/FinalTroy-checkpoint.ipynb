{
 "cells": [
  {
   "cell_type": "markdown",
   "metadata": {},
   "source": [
    "# Language Warmup Full Model\n",
    "\n",
    "## Data Cleaning"
   ]
  },
  {
   "cell_type": "code",
   "execution_count": null,
   "metadata": {},
   "outputs": [],
   "source": []
  },
  {
   "cell_type": "markdown",
   "metadata": {},
   "source": [
    "## Feature Engineering and Vectorization"
   ]
  },
  {
   "cell_type": "code",
   "execution_count": 1,
   "metadata": {},
   "outputs": [
    {
     "name": "stdout",
     "output_type": "stream",
     "text": [
      "100\n"
     ]
    }
   ],
   "source": [
    "# Create the random junk data\n",
    "\n",
    "import random\n",
    "import numpy as np\n",
    "\n",
    "with open(\"FeatureCreate\\words.txt\") as f:\n",
    "    words = f.readlines()\n",
    "words = [x.strip() for x in words]\n",
    "\n",
    "phrases = []\n",
    "for i in range (0,100):\n",
    "    phraselength = random.randint(5,15)\n",
    "    phrase = []\n",
    "    for j in range(0,phraselength):\n",
    "        choice = random.randint(0,len(words))\n",
    "        phrase.append(words[choice])\n",
    "        sentence = ' '.join(phrase)\n",
    "    phrases.append(sentence)\n",
    "\n",
    "    \n",
    "print(len(phrases))\n",
    "# REMOVE THIS CELL"
   ]
  },
  {
   "cell_type": "code",
   "execution_count": null,
   "metadata": {},
   "outputs": [],
   "source": [
    "# Make fake y values (fake sentiments)\n",
    "\n",
    "y_dat = [0] * 100\n",
    "for i in range(0,50):\n",
    "    y_dat[i] = 1\n",
    "        \n",
    "print(y_dat)"
   ]
  },
  {
   "cell_type": "code",
   "execution_count": null,
   "metadata": {},
   "outputs": [],
   "source": [
    "# Vectorize data, with 1- and 2- grams\n",
    "\n",
    "from sklearn.feature_extraction.text import CountVectorizer\n",
    "vectorizer = CountVectorizer(binary=True, lowercase=False, ngram_range=(1, 2))\n",
    "vector = vectorizer.fit_transform(phrases)"
   ]
  },
  {
   "cell_type": "code",
   "execution_count": 11,
   "metadata": {},
   "outputs": [
    {
     "name": "stdout",
     "output_type": "stream",
     "text": [
      "[1, 1, 1, 1, 1, 1, 1, 1, 1, 1, 1, 1, 1, 1, 1, 1, 1, 1, 1, 1, 1, 1, 1, 1, 1, 1, 1, 1, 1, 1, 1, 1, 1, 1, 1, 1, 1, 1, 1, 1, 1, 1, 1, 1, 1, 1, 1, 1, 1, 1, 0, 0, 0, 0, 0, 0, 0, 0, 0, 0, 0, 0, 0, 0, 0, 0, 0, 0, 0, 0, 0, 0, 0, 0, 0, 0, 0, 0, 0, 0, 0, 0, 0, 0, 0, 0, 0, 0, 0, 0, 0, 0, 0, 0, 0, 0, 0, 0, 0, 0]\n"
     ]
    }
   ],
   "source": []
  },
  {
   "cell_type": "code",
   "execution_count": 12,
   "metadata": {},
   "outputs": [
    {
     "name": "stdout",
     "output_type": "stream",
     "text": [
      "<class 'numpy.ndarray'>\n"
     ]
    }
   ],
   "source": [
    "# Change to a numpy array\n",
    "\n",
    "data = vector.todense()\n",
    "data = np.asarray(data)\n",
    "print(type(data))"
   ]
  },
  {
   "cell_type": "code",
   "execution_count": 13,
   "metadata": {},
   "outputs": [
    {
     "name": "stdout",
     "output_type": "stream",
     "text": [
      "(60, 1789)\n",
      "(20, 1789)\n",
      "(20, 1789)\n"
     ]
    }
   ],
   "source": [
    "# Split into train, test, and validate sets\n",
    "\n",
    "x_train = np.concatenate([data[:30], data[-30:]])\n",
    "y_train = np.concatenate([y_dat[:30], y_dat[-30:]])\n",
    "x_val = np.concatenate([data[30:40], data[60:70]])\n",
    "y_val = np.concatenate([y_dat[30:40], y_dat[60:70]])\n",
    "x_test = np.concatenate([data[40:60]])\n",
    "y_test = np.concatenate([y_dat[40:60]])\n",
    "print(x_train.shape)\n",
    "print(x_val.shape)\n",
    "print(x_test.shape)"
   ]
  },
  {
   "cell_type": "markdown",
   "metadata": {},
   "source": [
    "## Model Architecture"
   ]
  },
  {
   "cell_type": "code",
   "execution_count": 14,
   "metadata": {},
   "outputs": [],
   "source": [
    "# Lay out the model\n",
    "\n",
    "from keras import models\n",
    "from keras import layers\n",
    "\n",
    "model = models.Sequential()\n",
    "model.add(layers.Dense(16, activation = 'relu', input_shape = (x_train.shape[1],)))\n",
    "model.add(layers.Dense(16, activation = 'relu'))\n",
    "model.add(layers.Dense(1,  activation = 'sigmoid'))"
   ]
  },
  {
   "cell_type": "code",
   "execution_count": 15,
   "metadata": {},
   "outputs": [],
   "source": [
    "# Compile\n",
    "\n",
    "model.compile(optimizer = 'rmsprop', \n",
    "              loss = 'binary_crossentropy',\n",
    "              metrics = ['accuracy'])"
   ]
  },
  {
   "cell_type": "code",
   "execution_count": 16,
   "metadata": {},
   "outputs": [
    {
     "name": "stdout",
     "output_type": "stream",
     "text": [
      "Train on 60 samples, validate on 20 samples\n",
      "Epoch 1/20\n",
      "60/60 [==============================] - 9s 144ms/step - loss: 0.7087 - acc: 0.4500 - val_loss: 0.6919 - val_acc: 0.6000\n",
      "Epoch 2/20\n",
      "60/60 [==============================] - 0s 286us/step - loss: 0.6708 - acc: 0.7000 - val_loss: 0.6916 - val_acc: 0.6000\n",
      "Epoch 3/20\n",
      "60/60 [==============================] - 0s 258us/step - loss: 0.6457 - acc: 0.8833 - val_loss: 0.6916 - val_acc: 0.5500\n",
      "Epoch 4/20\n",
      "60/60 [==============================] - 0s 225us/step - loss: 0.6263 - acc: 0.9167 - val_loss: 0.6913 - val_acc: 0.6000\n",
      "Epoch 5/20\n",
      "60/60 [==============================] - 0s 251us/step - loss: 0.6099 - acc: 0.9667 - val_loss: 0.6911 - val_acc: 0.6000\n",
      "Epoch 6/20\n",
      "60/60 [==============================] - 0s 259us/step - loss: 0.5955 - acc: 0.9667 - val_loss: 0.6909 - val_acc: 0.6000\n",
      "Epoch 7/20\n",
      "60/60 [==============================] - 0s 259us/step - loss: 0.5818 - acc: 0.9833 - val_loss: 0.6907 - val_acc: 0.6000\n",
      "Epoch 8/20\n",
      "60/60 [==============================] - 0s 238us/step - loss: 0.5694 - acc: 0.9833 - val_loss: 0.6902 - val_acc: 0.6000\n",
      "Epoch 9/20\n",
      "60/60 [==============================] - 0s 321us/step - loss: 0.5576 - acc: 0.9833 - val_loss: 0.6900 - val_acc: 0.6000\n",
      "Epoch 10/20\n",
      "60/60 [==============================] - 0s 281us/step - loss: 0.5458 - acc: 0.9833 - val_loss: 0.6896 - val_acc: 0.6000\n",
      "Epoch 11/20\n",
      "60/60 [==============================] - 0s 250us/step - loss: 0.5344 - acc: 0.9833 - val_loss: 0.6893 - val_acc: 0.6000\n",
      "Epoch 12/20\n",
      "60/60 [==============================] - 0s 282us/step - loss: 0.5235 - acc: 0.9833 - val_loss: 0.6889 - val_acc: 0.6000\n",
      "Epoch 13/20\n",
      "60/60 [==============================] - 0s 231us/step - loss: 0.5122 - acc: 0.9833 - val_loss: 0.6886 - val_acc: 0.6000\n",
      "Epoch 14/20\n",
      "60/60 [==============================] - 0s 293us/step - loss: 0.5011 - acc: 0.9833 - val_loss: 0.6883 - val_acc: 0.5500\n",
      "Epoch 15/20\n",
      "60/60 [==============================] - 0s 241us/step - loss: 0.4898 - acc: 0.9833 - val_loss: 0.6879 - val_acc: 0.5500\n",
      "Epoch 16/20\n",
      "60/60 [==============================] - 0s 346us/step - loss: 0.4791 - acc: 0.9833 - val_loss: 0.6876 - val_acc: 0.5500\n",
      "Epoch 17/20\n",
      "60/60 [==============================] - 0s 266us/step - loss: 0.4685 - acc: 0.9833 - val_loss: 0.6873 - val_acc: 0.5500\n",
      "Epoch 18/20\n",
      "60/60 [==============================] - 0s 282us/step - loss: 0.4582 - acc: 1.0000 - val_loss: 0.6870 - val_acc: 0.5500\n",
      "Epoch 19/20\n",
      "60/60 [==============================] - 0s 279us/step - loss: 0.4483 - acc: 0.9833 - val_loss: 0.6866 - val_acc: 0.5500\n",
      "Epoch 20/20\n",
      "60/60 [==============================] - 0s 315us/step - loss: 0.4381 - acc: 0.9833 - val_loss: 0.6863 - val_acc: 0.5500\n"
     ]
    }
   ],
   "source": [
    "# Training time!\n",
    "\n",
    "history = model.fit(x_train,\n",
    "                       y_train, \n",
    "                       epochs=20,\n",
    "                       batch_size=256,\n",
    "                       validation_data=(x_val, y_val))"
   ]
  },
  {
   "cell_type": "code",
   "execution_count": 17,
   "metadata": {},
   "outputs": [
    {
     "name": "stdout",
     "output_type": "stream",
     "text": [
      "20/20 [==============================] - 0s 14ms/step\n",
      "Accuracy: 0.5\n"
     ]
    }
   ],
   "source": [
    "# How did it do?\n",
    "\n",
    "results = model.evaluate(x_test, y_test)\n",
    "print (\"Accuracy:\", results[1])"
   ]
  },
  {
   "cell_type": "code",
   "execution_count": null,
   "metadata": {},
   "outputs": [],
   "source": []
  }
 ],
 "metadata": {
  "kernelspec": {
   "display_name": "Python 3",
   "language": "python",
   "name": "python3"
  },
  "language_info": {
   "codemirror_mode": {
    "name": "ipython",
    "version": 3
   },
   "file_extension": ".py",
   "mimetype": "text/x-python",
   "name": "python",
   "nbconvert_exporter": "python",
   "pygments_lexer": "ipython3",
   "version": "3.6.7"
  }
 },
 "nbformat": 4,
 "nbformat_minor": 2
}
