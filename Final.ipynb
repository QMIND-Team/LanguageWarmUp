{
 "cells": [
  {
   "cell_type": "markdown",
   "metadata": {},
   "source": [
    "# Language Warmup Full Model\n",
    "\n",
    "## Data Cleaning"
   ]
  },
  {
   "cell_type": "code",
   "execution_count": null,
   "metadata": {},
   "outputs": [],
   "source": []
  },
  {
   "cell_type": "markdown",
   "metadata": {},
   "source": [
    "## Feature Engineering and Vectorization"
   ]
  },
  {
   "cell_type": "code",
   "execution_count": 2,
   "metadata": {},
   "outputs": [],
   "source": [
    "import random\n",
    "\n",
    "with open(\"FeatureCreate\\words.txt\") as f:\n",
    "    words = f.readlines()\n",
    "words = [x.strip() for x in words]\n",
    "\n",
    "phrases = []\n",
    "for i in range (0,10):\n",
    "    phraselength = random.randint(5,15)\n",
    "    phrase = []\n",
    "    for j in range(0,phraselength):\n",
    "        choice = random.randint(0,len(words))\n",
    "        phrase.append(words[choice])\n",
    "        sentence = ' '.join(phrase)\n",
    "    phrases.append(sentence)\n",
    "\n",
    "# REMOVE ABOVE\n",
    "\n",
    "from sklearn.feature_extraction.text import CountVectorizer\n",
    "vectorizer = CountVectorizer(binary=True, lowercase=False, ngram_range=(2, 2))\n",
    "vector = vectorizer.fit_transform(phrases)\n"
   ]
  },
  {
   "cell_type": "code",
   "execution_count": 3,
   "metadata": {},
   "outputs": [
    {
     "name": "stdout",
     "output_type": "stream",
     "text": [
      "  (0, 88)\t1\n",
      "  (0, 19)\t1\n",
      "  (0, 66)\t1\n",
      "  (0, 33)\t1\n",
      "  (0, 1)\t1\n",
      "  (0, 26)\t1\n",
      "  (0, 70)\t1\n",
      "  (1, 44)\t1\n",
      "  (1, 64)\t1\n",
      "  (1, 12)\t1\n",
      "  (1, 78)\t1\n",
      "  (1, 56)\t1\n",
      "  (1, 63)\t1\n",
      "  (1, 92)\t1\n",
      "  (1, 29)\t1\n",
      "  (1, 96)\t1\n",
      "  (1, 57)\t1\n",
      "  (1, 52)\t1\n",
      "  (1, 18)\t1\n",
      "  (1, 67)\t1\n",
      "  (2, 76)\t1\n",
      "  (2, 58)\t1\n",
      "  (2, 14)\t1\n",
      "  (2, 41)\t1\n",
      "  (2, 51)\t1\n",
      "  :\t:\n",
      "  (7, 7)\t1\n",
      "  (8, 53)\t1\n",
      "  (8, 43)\t1\n",
      "  (8, 48)\t1\n",
      "  (8, 10)\t1\n",
      "  (8, 81)\t1\n",
      "  (8, 62)\t1\n",
      "  (8, 23)\t1\n",
      "  (8, 50)\t1\n",
      "  (8, 27)\t1\n",
      "  (8, 16)\t1\n",
      "  (8, 31)\t1\n",
      "  (8, 6)\t1\n",
      "  (9, 24)\t1\n",
      "  (9, 68)\t1\n",
      "  (9, 71)\t1\n",
      "  (9, 54)\t1\n",
      "  (9, 37)\t1\n",
      "  (9, 15)\t1\n",
      "  (9, 21)\t1\n",
      "  (9, 28)\t1\n",
      "  (9, 22)\t1\n",
      "  (9, 74)\t1\n",
      "  (9, 32)\t1\n",
      "  (9, 45)\t1\n"
     ]
    }
   ],
   "source": [
    "print(vector)"
   ]
  },
  {
   "cell_type": "markdown",
   "metadata": {},
   "source": [
    "## Model Architecture"
   ]
  },
  {
   "cell_type": "code",
   "execution_count": 5,
   "metadata": {},
   "outputs": [
    {
     "name": "stderr",
     "output_type": "stream",
     "text": [
      "Using TensorFlow backend.\n"
     ]
    }
   ],
   "source": [
    "from keras import models\n",
    "from keras import layers\n",
    "\n",
    "model = models.Sequential()\n",
    "model.add(layers.Dense(16, activation = 'relu', input_shape = (10000,)))\n",
    "model.add(layers.Dense(16, activation = 'relu'))\n",
    "model.add(layers.Dense(1,  activation = 'sigmoid'))"
   ]
  },
  {
   "cell_type": "code",
   "execution_count": 6,
   "metadata": {},
   "outputs": [],
   "source": [
    "model.compile(optimizer = 'rmsprop', \n",
    "              loss = 'binary_crossentropy',\n",
    "              metrics = ['accuracy'])"
   ]
  },
  {
   "cell_type": "code",
   "execution_count": null,
   "metadata": {},
   "outputs": [],
   "source": []
  }
 ],
 "metadata": {
  "kernelspec": {
   "display_name": "Python 3",
   "language": "python",
   "name": "python3"
  },
  "language_info": {
   "codemirror_mode": {
    "name": "ipython",
    "version": 3
   },
   "file_extension": ".py",
   "mimetype": "text/x-python",
   "name": "python",
   "nbconvert_exporter": "python",
   "pygments_lexer": "ipython3",
   "version": "3.6.7"
  }
 },
 "nbformat": 4,
 "nbformat_minor": 2
}
