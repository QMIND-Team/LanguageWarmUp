{
 "cells": [
  {
   "cell_type": "markdown",
   "metadata": {},
   "source": [
    "# Language Warmup Full Model\n",
    "\n",
    "## Data Cleaning"
   ]
  },
  {
   "cell_type": "code",
<<<<<<< HEAD
   "execution_count": 3,
=======
   "execution_count": 12,
>>>>>>> 646b26f9d28ea5aa8e6a733648126c63799b521a
   "metadata": {},
   "outputs": [
    {
     "name": "stdout",
     "output_type": "stream",
     "text": [
      "[nltk_data] Downloading package stopwords to\n",
      "[nltk_data]     C:\\Users\\Randy_B15\\AppData\\Roaming\\nltk_data...\n",
      "[nltk_data]   Package stopwords is already up-to-date!\n",
      "[nltk_data] Downloading package wordnet to\n",
      "[nltk_data]     C:\\Users\\Randy_B15\\AppData\\Roaming\\nltk_data...\n",
      "[nltk_data]   Unzipping corpora\\wordnet.zip.\n",
      "['wow loved place', 'crust not good', 'not tasty texture nasty', 'stopped late may bank holiday rick steve recommendation loved', 'selection menu great price', 'getting angry want damn pho', 'honeslty taste fresh', 'potato like rubber could tell made ahead time kept warmer', 'fry great', 'great touch', 'service prompt', 'would not go back', 'cashier care ever say still ended wayyy overpriced', 'tried cape cod ravoli chicken cranberry mmmm', 'disgusted pretty sure human hair', 'shocked sign indicate cash', 'highly recommended', 'waitress little slow service', 'place not worth time let alone vega', 'not like', 'burrittos blah', 'food amazing', 'service also cute', 'could care le interior beautiful', 'performed', 'right red velvet cake ohhh stuff good', 'never brought salad asked', 'hole wall great mexican street taco friendly staff', 'took hour get food table restaurant food luke warm sever running around like totally overwhelmed', 'worst salmon sashimi', 'also combo like burger fry beer decent deal', 'like final blow', 'found place accident could not happier', 'seems like good quick place grab bite familiar pub food favor look elsewhere', 'overall like place lot', 'redeeming quality restaurant inexpensive', 'ample portion good price', 'poor service waiter made feel like stupid every time came table', 'first visit hiro delight', 'service suck', 'shrimp tender moist', 'not deal good enough would drag establishment', 'hard judge whether side good grossed melted styrofoam want eat fear getting sick', 'positive note server attentive provided great service', 'frozen puck disgust worst people behind register', 'thing like prime rib dessert section', 'bad food damn generic', 'burger good beef cooked right', 'want sandwich go firehouse', 'side greek salad greek dressing tasty pita hummus refreshing', 'ordered duck rare pink tender inside nice char outside', 'came running u realized husband left sunglass table', 'chow mein good', 'horrible attitude towards customer talk one customer enjoy food', 'portion huge', 'loved friendly server great food wonderful imaginative menu', 'heart attack grill downtown vega absolutely flat lined excuse restaurant', 'not much seafood like string pasta bottom', 'salad right amount sauce not power scallop perfectly cooked', 'ripped banana not ripped petrified tasteless', 'least think refill water struggle wave minute', 'place receives star appetizer', 'cocktail handmade delicious', 'definitely go back', 'glad found place', 'great food service huge portion give military discount', 'always great time do gringo', 'update went back second time still amazing', 'got food apparently never heard salt batter fish chewy', 'great way finish great', 'deal included tasting drink jeff went beyond expected', 'really really good rice time', 'service meh', 'took min get milkshake nothing chocolate milk', 'guess known place would suck inside excalibur use common sense', 'scallop dish quite appalling value well', 'time bad customer service', 'sweet potato fry good seasoned well', 'today second time lunch buffet pretty good', 'much good food vega feel cheated wasting eating opportunity going rice company', 'coming like experiencing underwhelming relationship party wait person ask break', 'walked place smelled like old grease trap others eating', 'turkey roast beef bland', 'place', 'pan cake everyone raving taste like sugary disaster tailored palate six year old', 'love pho spring roll oh yummy try', 'poor batter meat ratio made chicken tender unsatisfying', 'say food amazing', 'omelet die', 'everything fresh delicious', 'summary largely disappointing dining experience', 'like really sexy party mouth outrageously flirting hottest person party', 'never hard rock casino never ever step forward', 'best breakfast buffet', 'say bye bye tip lady', 'never go', 'back', 'food arrived quickly', 'not good', 'side cafe serf really good food', 'server fantastic found wife love roasted garlic bone marrow added extra meal another marrow go', 'good thing waiter helpful kept bloddy mary coming', 'best buffet town price cannot beat', 'loved mussel cooked wine reduction duck tender potato dish delicious', 'one better buffet', 'went tigerlilly fantastic afternoon', 'food delicious bartender attentive personable got great deal', 'ambience wonderful music playing', 'go back next trip', 'sooooo good', 'real sushi lover let honest yama not good', 'least passed u ordering food arriving busy', 'really fantastic thai restaurant definitely worth visit', 'nice spicy tender', 'good price', 'check', 'pretty gross', 'better atmosphere', 'kind hard mess steak', 'although much liked look sound place actual experience bit disappointing', 'know place managed served blandest food ever eaten preparing indian cuisine', 'worst service boot least worry', 'service fine waitress friendly', 'guy steak steak loving son steak best worst place said best steak ever eaten', 'thought venture away get good sushi place really hit spot night', 'host staff lack better word bitch', 'bland not liking place number reason want waste time bad reviewing leave', 'phenomenal food service ambiance', 'return', 'definitely worth venturing strip pork belly return next time vega', 'place way overpriced mediocre food', 'penne vodka excellent', 'good selection food including massive meatloaf sandwich crispy chicken wrap delish tuna melt tasty burger', 'management rude', 'delicious nyc bagel good selection cream cheese real lox caper even', 'great subway fact good come every subway not meet expectation', 'seriously solid breakfast', 'one best bar food vega', 'extremely rude really many restaurant would love dine weekend vega', 'drink never empty made really great menu suggestion', '', 'waiter helpful friendly rarely checked u', 'husband ate lunch disappointed food service', 'red curry much bamboo shoot tasty', 'nice blanket moz top feel like done cover subpar food', 'bathroom clean place well decorated', 'menu always changing food quality going service extremely slow', 'service little slow considering served people server food coming slow pace', 'give thumb', 'watched waiter pay lot attention table ignore u', 'fiancé came middle day greeted seated right away', 'great restaurant mandalay bay', 'waited forty five minute vain', 'crostini came salad stale', 'highlight great quality nigiri', 'staff friendly joint always clean', 'different cut piece day still wonderful tender well well flavored', 'ordered voodoo pasta first time really excellent pasta since going gluten free several year ago', 'place good', 'unfortunately must hit bakery leftover day everything ordered stale', 'came back today since relocated still not impressed', 'seated immediately', 'menu diverse reasonably priced', 'avoid cost', 'restaurant always full never wait', 'delicious', 'place hand one best place eat phoenix metro area', 'go looking good food', 'never treated bad', 'bacon hella salty', 'also ordered spinach avocado salad ingredient sad dressing literally zero taste', 'really vega fine dining used right menu handed lady price listed', 'waitress friendly', 'lordy khao soi dish not missed curry lover', 'everything menu terrific also thrilled made amazing accommodation vegetarian daughter', 'perhaps caught night judging review not inspired go back', 'service leaf lot desired', 'atmosphere modern hip maintaining touch coziness', 'not weekly haunt definitely place come back every', 'literally sat minute one asking take order', 'burger absolutely flavor meat totally bland burger overcooked charcoal flavor', 'also decided not send back waitress looked like verge heart attack', 'dressed treated rudely', 'probably dirt', 'love place hit spot want something healthy not lacking quantity flavor', 'ordered lemon raspberry ice cocktail also incredible', 'food sucked expected sucked could imagined', 'interesting decor', 'really like crepe station', 'also served hot bread butter home made potato chip bacon bit top original good', 'watch preparing delicious food', 'egg roll fantastic', 'order arrived one gyro missing', 'salad wing ice cream dessert left feeling quite satisfied', 'not really sure joey voted best hot dog valley reader phoenix magazine', 'best place go tasty bowl pho', 'live music friday totally blow', 'never insulted felt disrespected', 'friendly staff', 'worth drive', 'heard good thing place exceeding every hope could dreamed', 'food great serivce', 'warm beer help', 'great brunch spot', 'service friendly inviting', 'good lunch spot', 'lived since first last time stepped foot place', 'worst experience ever', 'must night place', 'side delish mixed mushroom yukon gold puree white corn beateous', 'bug never showed would given sure side wall bug climbing kitchen', 'minute waiting salad realized coming time soon', 'friend loved salmon tartar', 'go back', 'extremely tasty', 'waitress good though', 'soggy not good', 'jamaican mojitos delicious', 'small not worth price', 'food rich order accordingly', 'shower area outside rinse not take full shower unless mind nude everyone see', 'service bit lacking', 'lobster bisque bussell sprout risotto filet needed salt pepper course none table', 'hopefully bodes going business someone cook come', 'either cold not enough flavor bad', 'loved bacon wrapped date', 'unbelievable bargain', 'folk otto always make u feel welcome special', 'main also uninspired', 'place first pho amazing', 'wonderful experience made place must stop whenever town', 'food bad enough enjoy dealing world worst annoying drunk people', 'fun chef', 'ordered double cheeseburger got single patty falling apart picture uploaded yeah still suck', 'great place couple drink watch sporting event wall covered tv', 'possible give zero star', 'description said yum yum sauce another said eel sauce yet another said spicy mayo well none roll sauce', 'say would hardest decision honestly dish taste supposed taste amazing', 'not rolled eye may stayed not sure go back try', 'everyone attentive providing excellent customer service', 'horrible waste time money', 'dish quite flavourful', 'time side restaurant almost empty excuse', 'busy either also building freezing cold', 'like reviewer said pay eat place', 'drink took close minute come one point', 'seriously flavorful delight folk', 'much better ayce sushi place went vega', 'lighting dark enough set mood', 'based sub par service received effort show gratitude business going back', 'owner really great people', 'nothing privileged working eating', 'greek dressing creamy flavorful', 'overall think would take parent place made similar complaint silently felt', 'pizza good peanut sauce tasty', 'table service pretty fast', 'fantastic service', 'well would given godfather zero star possible', 'know make', 'tough short flavor', 'hope place stick around', 'bar vega not ever recall charged tap water', 'restaurant atmosphere exquisite', 'good service clean inexpensive boot', 'seafood fresh generous portion', 'plus buck', 'service not par either', 'thus far visited twice food absolutely delicious time', 'good year ago', 'self proclaimed coffee cafe wildly disappointed', 'veggitarian platter world', 'cant go wrong food', 'beat', 'stopped place madison ironman friendly kind staff', 'chef friendly good job', 'better not dedicated boba tea spot even jenni pho', 'liked patio service outstanding', 'goat taco skimp meat wow flavor', 'think not', 'mac salad pretty bland not getting', 'went bachi burger friend recommendation not disappointed', 'service stink', 'waited waited', 'place not quality sushi not quality restaurant', 'would definitely recommend wing well pizza', 'great pizza salad', 'thing went wrong burned saganaki', 'waited hour breakfast could done time better home', 'place amazing', 'hate disagree fellow yelpers husband disappointed place', 'waited hour never got either pizza many around u came later', 'know slow', 'staff great food delish incredible beer selection', 'live neighborhood disappointed back convenient location', 'know pulled pork could soooo delicious', 'get incredibly fresh fish prepared care', 'go gave star rating please know third time eating bachi burger writing review', 'love fact everything menu worth', 'never dining place', 'food excellent service good', 'good beer drink selection good food selection', 'please stay away shrimp stir fried noodle', 'potato chip order sad could probably count many chip box probably around', 'food really boring', 'good service check', 'greedy corporation never see another dime', 'never ever go back', 'much like go back get passed atrocious service never return', 'summer dine charming outdoor patio delightful', 'not expect good', 'fantastic food', 'ordered toasted english muffin came untoasted', 'food good', 'never going back', 'great food price high quality house made', 'bus boy hand rude', 'point friend basically figured place joke mind making publicly loudly known', 'back good bbq lighter fare reasonable pricing tell public back old way', 'considering two u left full happy go wrong', 'bread made house', 'downside service', 'also fry without doubt worst fry ever', 'service exceptional food good review', 'couple month later returned amazing meal', 'favorite place town shawarrrrrrma', 'black eyed pea sweet potato unreal', 'disappointed', 'could serve vinaigrette may make better overall dish still good', 'go far many place never seen restaurant serf egg breakfast especially', 'mom got home immediately got sick bite salad', 'server not pleasant deal always honor pizza hut coupon', 'truly unbelievably good glad went back', 'fantastic service pleased atmosphere', 'everything gross', 'love place', 'great service food', 'first bathroom location dirty seat cover not replenished plain yucky', 'burger got gold standard burger kind disappointed', 'omg food delicioso', 'nothing authentic place', 'spaghetti nothing special whatsoever', 'dish salmon best great', 'vegetable fresh sauce feel like authentic thai', 'worth driving tucson', 'selection probably worst seen vega none', 'pretty good beer selection', 'place like chipotle better', 'classy warm atmosphere fun fresh appetizer succulent steak baseball steak', 'star brick oven bread app', 'eaten multiple time time food delicious', 'sat another ten minute finally gave left', 'terrible', 'everyone treated equally special', 'take min pancake egg', 'delicious', 'good side staff genuinely pleasant enthusiastic real treat', 'sadly gordon ramsey steak place shall sharply avoid next trip vega', 'always evening wonderful food delicious', 'best fish ever life', 'bathroom next door nice', 'buffet small food offered bland', 'outstanding little restaurant best food ever tasted', 'pretty cool would say', 'definitely turn doubt back unless someone else buying', 'server great job handling large rowdy table', 'find wasting food despicable food', 'wife lobster bisque soup lukewarm', 'would come back sushi craving vega', 'staff great ambiance great', 'deserves star', 'left stomach ache felt sick rest day', 'dropped ball', 'dining space tiny elegantly decorated comfortable', 'customize order way like usual eggplant green bean stir fry love', 'bean rice mediocre best', 'best taco town far', 'took back money got outta', 'interesting part town place amazing', 'rude inconsiderate management', 'staff not friendly wait time served horrible one even say hi first minute', 'back', 'great dinner', 'service outshining definitely recommend halibut', 'food terrible', 'never ever go back told many people happened', 'recommend unless car break front starving', 'come back every time vega', 'place deserves one star food', 'disgrace', 'def coming back bowl next time', 'want healthy authentic ethic food try place', 'continue come lady night andddd date night highly recommend place anyone area', 'several time past experience always great', 'walked away stuffed happy first vega buffet experience', 'service excellent price pretty reasonable considering vega located inside crystal shopping mall aria', 'summarize food incredible nay transcendant nothing brings joy quite like memory pneumatic condiment dispenser', 'probably one people ever go ians not like', 'kid pizza always hit lot great side dish option kiddos', 'service perfect family atmosphere nice see', 'cooked perfection service impeccable', 'one simply disappointment', 'overall disappointed quality food bouchon', 'accountant know getting screwed', 'great place eat reminds little mom pop shop san francisco bay area', 'today first taste buldogis gourmet hot dog tell ever thought possible', 'left frustrated', 'definitely soon', 'food really good got full petty fast', 'service fantastic', 'total waste time', 'know kind best iced tea', 'come hungry leave happy stuffed', 'service give star', 'assure disappointed', 'take little bad service food suck', 'gave trying eat crust teeth still sore', 'completely grossed', 'really enjoyed eating', 'first time going think quickly become regular', 'server nice even though looked little overwhelmed need stayed professional friendly end', 'dinner companion told everything fresh nice texture taste', 'ground right next table large smeared stepped tracked everywhere pile green bird poop', 'furthermore even find hour operation website', 'tried like place time think done', 'mistake', 'complaint', 'seriously good pizza expert connisseur topic', 'waiter jerk', 'strike want rushed', 'nicest restaurant owner ever come across', 'never come', 'loved biscuit', 'service quick friendly', 'ordered appetizer took minute pizza another minute', 'absolutley fantastic', 'huge awkward piece cow gristle fat', 'definitely come back', 'like steiner dark feel like bar', 'wow spicy delicious', 'not familiar check', 'take business dinner dollar elsewhere', 'love go back', 'anyway f restaurant wonderful breakfast lunch', 'nothing special', 'day week different deal delicious', 'not mention combination pear almond bacon big winner', 'not back', 'sauce tasteless', 'food delicious spicy enough sure ask spicier prefer way', 'ribeye steak cooked perfectly great mesquite flavor', 'think going back anytime soon', 'food gooodd', 'far sushi connoisseur definitely tell difference good food bad food certainly bad food', 'insulted', 'last time lunch bad', 'chicken wing contained driest chicken meat ever eaten', 'food good enjoyed every mouthful enjoyable relaxed venue couple small family group etc', 'nargile think great', 'best tater tot southwest', 'loved place', 'definitely not worth paid', 'vanilla ice cream creamy smooth profiterole chou pastry fresh enough', 'im az time new spot', 'manager worst', 'inside really quite nice clean', 'food outstanding price reasonable', 'think running back carly anytime soon food', 'due fact took minute acknowledged another minute get food kept forgetting thing', 'love margarita', 'first vega buffet not disappoint', 'good though', 'one note ventilation could use upgrading', 'great pork sandwich', 'waste time', 'total letdown would much rather go camelback flower shop cartel coffee', 'third cheese friend burger cold', 'enjoy pizza brunch', 'steak well trimmed also perfectly cooked', 'group claimed would handled u beautifully', 'loved', 'asked bill leave without eating bring either', 'place jewel la vega exactly hoping find nearly ten year living', 'seafood limited boiled shrimp crab leg crab leg definitely not taste fresh', 'selection food not best', 'delicious absolutely back', 'small family restaurant fine dining establishment', 'toro tartare cavier extraordinary liked thinly sliced wagyu white truffle', 'dont think back long time', 'attached gas station rarely good sign', 'awesome', 'back many time soon', 'menu much good stuff could not decide', 'worse humiliated worker right front bunch horrible name calling', 'conclusion filling meal', 'daily special always hit group', 'tragedy struck', 'pancake also really good pretty large', 'first crawfish experience delicious', 'monster chicken fried steak egg time favorite', 'waitress sweet funny', 'also taste mom multi grain pumpkin pancake pecan butter amazing fluffy delicious', 'rather eat airline food seriously', 'cant say enough good thing place', 'ambiance incredible', 'waitress manager friendly', 'would not recommend place', 'overall impressed noca', 'gyro basically lettuce', 'terrible service', 'thoroughly disappointed', 'much pasta love homemade hand made pasta thin pizza', 'give try happy', 'far best cheesecurds ever', 'reasonably priced also', 'everything perfect night', 'food good typical bar food', 'drive get', 'first glance lovely bakery cafe nice ambiance clean friendly staff', 'anyway not think go back', 'point finger item menu order disappointed', 'oh thing beauty restaurant', 'gone go', 'greasy unhealthy meal', 'first time might last', 'burger amazing', 'similarly delivery man not say word apology food minute late', 'way expensive', 'sure order dessert even need pack go tiramisu cannoli die', 'first time wait next', 'bartender also nice', 'everything good tasty', 'place two thumb way', 'best place vega breakfast check sat sun', 'love authentic mexican food want whole bunch interesting yet delicious meat choose need try place', 'terrible management', 'excellent new restaurant experienced frenchman', 'zero star would give zero star', 'great steak great side great wine amazing dessert', 'worst martini ever', 'steak shrimp opinion best entree gc', 'opportunity today sample amazing pizza', 'waited thirty minute seated although vacant table folk waiting', 'yellowtail carpaccio melt mouth fresh', 'try going back even empty', 'going eat potato found stranger hair', 'spicy enough perfect actually', 'last night second time dining happy decided go back', 'not even hello right', 'dessert bit strange', 'boyfriend came first time recent trip vega could not pleased quality food service', 'really recommend place go wrong donut place', 'nice ambiance', 'would recommend saving room', 'guess maybe went night disgraceful', 'however recent experience particular location not good', 'know not like restaurant something', 'avoid establishment', 'think restaurant suffers not trying hard enough', 'tapa dish delicious', 'heart place', 'salad bland vinegrette baby green heart palm', 'two felt disgusting', 'good time', 'believe place great stop huge belly hankering sushi', 'generous portion great taste', 'never go back place never ever recommended place anyone', 'server went back forth several time not even much helped', 'food delicious', 'hour seriously', 'consider theft', 'eew location need complete overhaul', 'recently witnessed poor quality management towards guest well', 'waited waited waited', 'also came back check u regularly excellent service', 'server super nice checked u many time', 'pizza tasted old super chewy not good way', 'swung give try deeply disappointed', 'service good company better', 'staff also friendly efficient', 'service fan quick served nice folk', 'boy sucker dry', 'rated', 'look authentic thai food go else', 'steak recommended', 'pulled car waited another minute acknowledged', 'great food great service clean friendly setting', 'assure back', 'hate thing much cheap quality black olive', 'breakfast perpared great beautiful presentation giant slice toast lightly dusted powdered sugar', 'kid play area nasty', 'great place fo take eat', 'waitress friendly happy accomodate vegan veggie option', 'omg felt like never eaten thai food dish', 'extremely crumby pretty tasteless', 'pale color instead nice char flavor', 'crouton also taste homemade extra plus', 'got home see driest damn wing ever', 'regular stop trip phoenix', 'really enjoyed crema café expanded even told friend best breakfast', 'not good money', 'miss wish one philadelphia', 'got sitting fairly fast ended waiting minute place order another minute food arrived', 'also best cheese crisp town', 'good value great food great service', 'ask satisfying meal', 'food good', 'awesome', 'wanted leave', 'made drive way north scottsdale not one bit disappointed', 'not eating', 'owner really really need quit soooooo cheap let wrap freaking sandwich two paper not one', 'checked place couple year ago not impressed', 'chicken got definitely reheated ok wedge cold soggy', 'sorry not getting food anytime soon', 'absolute must visit', 'cow tongue cheek taco amazing', 'friend not like bloody mary', 'despite hard rate business actually rare give star', 'really want make experience good one', 'not return', 'chicken pho tasted bland', 'disappointing', 'grilled chicken tender yellow saffron seasoning', 'drive thru mean not want wait around half hour food somehow end going make u wait wait', 'pretty awesome place', 'ambience perfect', 'best luck rude non customer service focused new management', 'grandmother make roasted chicken better one', 'asked multiple time wine list time ignored went hostess got one', 'staff always super friendly helpful especially cool bring two small boy baby', 'four star food guy blue shirt great vibe still letting u eat', 'roast beef sandwich tasted really good', 'evening drastically sick', 'high quality chicken chicken caesar salad', 'ordered burger rare came done', 'promptly greeted seated', 'tried go lunch madhouse', 'proven dead wrong sushi bar not quality great service fast food impeccable', 'waiting hour seated not greatest mood', 'good joint', 'macarons insanely good', 'not eating', 'waiter attentive friendly informative', 'maybe cold would somewhat edible', 'place lot promise fails deliver', 'bad experience', 'mistake', 'food average best', 'great food', 'going back anytime soon', 'disappointed ordered big bay plater', 'great place relax awesome burger beer', 'perfect sit family meal get together friend', 'not much flavor poorly constructed', 'patio seating comfortable', 'fried rice dry well', 'hand favorite italian restaurant', 'scream legit book somethat also pretty rare vega', 'not fun experience', 'atmosphere great lovely duo violinist playing song requested', 'personally love hummus pita baklava falafel baba ganoush amazing eggplant', 'convenient since staying mgm', 'owner super friendly staff courteous', 'great', 'eclectic selection', 'sweet potato tot good onion ring perfection close', 'staff attentive', 'chef generous time even came around twice take picture', 'owner used work nobu place really similar half price', 'google mediocre imagine smashburger pop', 'dont go', 'promise disappoint', 'sushi lover avoid place mean', 'great double cheeseburger', 'awesome service food', 'fantastic neighborhood gem', 'wait go back', 'plantain worst ever tasted', 'great place highly recommend', 'service slow not attentive', 'gave star giving star', 'staff spends time talking', 'dessert panna cotta amazing', 'good food great atmosphere', 'damn good steak', 'total brunch fail', 'price reasonable flavor spot sauce home made slaw not drenched mayo', 'decor nice piano music soundtrack pleasant', 'steak amazing rge fillet relleno best seafood plate ever', 'good food good service', 'absolutely amazing', 'probably back honest', 'definitely back', 'sergeant pepper beef sandwich auju sauce excellent sandwich well', 'hawaiian breeze mango magic pineapple delight smoothy tried far good', 'went lunch service slow', 'much say place walked expected amazing quickly disappointed', 'mortified', 'needle say never back', 'anyways food definitely not filling price pay expect', 'chip came dripping grease mostly not edible', 'really impressed strip steak', 'going since every meal awesome', 'server nice attentive serving staff', 'cashier friendly even brought food', 'work hospitality industry paradise valley refrained recommending cibo longer', 'atmosphere fun', 'would not recommend others', 'service quick even go order like like', 'mean really get famous fish chip terrible', 'said mouth belly still quite pleased', 'not thing', 'thumb', 'reading please go', 'loved grilled pizza reminded legit italian pizza', 'pro large seating area nice bar area great simple drink menu best brick oven pizza homemade dough', 'really nice atmosphere', 'tonight elk filet special sucked', 'one bite hooked', 'ordered old classic new dish going time sorely disappointed everything', 'cute quaint simple honest', 'chicken deliciously seasoned perfect fry outside moist chicken inside', 'food great always compliment chef', 'special thanks dylan recommendation order yummy tummy', 'awesome selection beer', 'great food awesome service', 'one nice thing added gratuity bill since party larger expect tip', 'fly apple juice fly', 'han nan chicken also tasty', 'service thought good', 'food barely lukewarm must sitting waiting server bring u', 'ryan bar definitely one edinburgh establishment revisiting', 'nicest chinese restaurant', 'overall like food service', 'also serve indian naan bread hummus spicy pine nut sauce world', 'probably never coming back recommend', 'friend pasta also bad barely touched', 'try airport experience tasty food speedy friendly service', 'love decor chinese calligraphy wall paper', 'never anything complain', 'restaurant clean family restaurant feel', 'way fried', 'not sure long stood long enough begin feel awkwardly place', 'opened sandwich impressed not good way', 'not back', 'warm feeling service felt like guest special treat', 'extensive menu provides lot option breakfast', 'always order vegetarian menu dinner wide array option choose', 'watched price inflate portion get smaller management attitude grow rapidly', 'wonderful lil tapa ambience made feel warm fuzzy inside', 'got enjoy seafood salad fabulous vinegrette', 'wonton thin not thick chewy almost melt mouth', 'level spicy perfect spice whelm soup', 'sat right time server get go fantastic', 'main thing enjoy crowd older crowd around mid', 'side town definitely spot hit', 'wait minute get drink longer get arepas', 'great place eat', 'jalapeno bacon soooo good', 'service poor thats nice', 'food good service good price good', 'place not clean food oh stale', 'chicken dish ok beef like shoe leather', 'service beyond bad', 'happy', 'tasted like dirt', 'one place phoenix would definately go back', 'block amazing', 'close house low key non fancy affordable price good food', 'hot sour egg flower soup absolutely star', 'sashimi poor quality soggy tasteless', 'great time family dinner sunday night', 'food not tasty not say real traditional hunan style', 'bother slow service', 'flair bartender absolutely amazing', 'frozen margarita way sugary taste', 'good ordered twice', 'nutshell restaraunt smell like combination dirty fish market sewer', 'girlfriend veal bad', 'unfortunately not good', 'pretty satifying experience', 'join club get awesome offer via email', 'perfect someone like beer ice cold case even colder', 'bland flavorless good way describing barely tepid meat', 'chain fan beat place easily', 'nacho must', 'not coming back', 'many word say place everything pretty well', 'staff super nice quick even crazy crowd downtown jury lawyer court staff', 'great atmosphere friendly fast service', 'received pita huge lot meat thumb', 'food arrives meh', 'paying hot dog fry look like came kid meal wienerschnitzel not idea good meal', 'classic maine lobster roll fantastic', 'brother law work mall ate day guess sick night', 'good going review place twice hereas tribute place tribute event held last night', 'chip salsa really good salsa fresh', 'place great', 'mediocre food', 'get inside impressed place', 'super pissd', 'service super friendly', 'sad little vegetable overcooked', 'place nice surprise', 'golden crispy delicious', 'high hope place since burger cooked charcoal grill unfortunately taste fell flat way flat', 'could eat bruschetta day devine', 'not single employee came see ok even needed water refill finally served u food', 'lastly mozzarella stick best thing ordered', 'first time ever came amazing experience still tell people awesome duck', 'server negligent need made u feel unwelcome would not suggest place', 'service terrible though', 'place overpriced not consistent boba really overpriced', 'packed', 'love place', 'say dessert yummy', 'food terrible', 'seasonal fruit fresh white peach puree', 'kept getting worse worse officially done', 'place honestly blown', 'definitely would not eat', 'not waste money', 'love put food nice plastic container opposed cramming little paper takeout box', 'crêpe delicate thin moist', 'awful service', 'ever go', 'food quality horrible', 'price think place would much rather gone', 'service fair best', 'love sushi found kabuki priced hip service', 'favor stay away dish', 'poor service', 'one table thought food average worth wait', 'best service food ever maria server good friendly made day', 'excellent', 'paid bill not tip felt server terrible job', 'lunch great experience', 'never bland food surprised considering article read focused much spice flavor', 'food way overpriced portion fucking small', 'recently tried caballero back every week since', 'buck head really expect better food', 'food came good pace', 'ate twice last visit especially enjoyed salmon salad', 'back', 'could not believe dirty oyster', 'place deserves star', 'would not recommend place', 'fact going round star awesome', 'disbelief dish qualified worst version food ever tasted', 'bad day not low tolerance rude customer service people job nice polite wash dish otherwise', 'potato great biscuit', 'probably would not go', 'flavorful perfect amount heat', 'price reasonable service great', 'wife hated meal coconut shrimp friend really not enjoy meal either', 'fella got huevos rancheros look appealing', 'went happy hour great list wine', 'may say buffet pricey think get pay place getting quite lot', 'probably coming back', 'worst food service', 'place pretty good nice little vibe restaurant', 'talk great customer service course back', 'hot dish not hot cold dish close room temp watched staff prepare food bare hand glove everything deep fried oil', 'love fry bean', 'always pleasure dealing', 'plethora salad sandwich everything tried get seal approval', 'place awesome want something light healthy summer', 'sushi strip place go', 'service great even manager came helped table', 'feel dining room college cooking course high class dining service slow best', 'started review two star editing give one', 'worst sushi ever eat besides costco', 'excellent restaurant highlighted great service unique menu beautiful setting', 'boyfriend sat bar completely delightful experience', 'weird vibe owner', 'hardly meat', 'better bagel grocery store', 'go place gyro', 'love owner chef one authentic japanese cool dude', 'burger good pizza used amazing doughy flavorless', 'found six inch long piece wire salsa', 'service terrible food mediocre', 'definately enjoyed', 'ordered albondigas soup warm tasted like tomato soup frozen meatball', 'three different occasion asked well done medium well three time got bloodiest piece meat plate', 'two bite refused eat anymore', 'service extremely slow', 'minute wait got table', 'seriously killer hot chai latte', 'allergy warning menu waitress absolutely clue meal not contain peanut', 'boyfriend tried mediterranean chicken salad fell love', 'rotating beer tap also highlight place', 'pricing bit concern mellow mushroom', 'worst thai ever', 'stay vega must get breakfast least', 'want first say server great perfect service', 'pizza selection good', 'strawberry tea good', 'highly unprofessional rude loyal patron', 'overall great experience', 'spend money elsewhere', 'regular toasted bread equally satisfying occasional pat butter mmmm', 'buffet bellagio far anticipated', 'drink weak people', 'order not correct', 'also feel like chip bought not made house', 'disappointing dinner went elsewhere dessert', 'chip sals amazing', 'returning', 'new fav vega buffet spot', 'seriously cannot believe owner many unexperienced employee running around like chicken head cut', 'sad', 'felt insulted disrespected could talk judge another human like', 'call steakhouse properly cook steak understand', 'not impressed concept food', 'thing crazy guacamole like puréed', 'really nothing postinos hope experience better', 'got food poisoning buffet', 'brought fresh batch fry thinking yay something warm', 'hilarious yummy christmas eve dinner remember biggest fail entire trip u', 'needle say going back anytime soon', 'place disgusting', 'every time eat see caring teamwork professional degree', 'ri style calamari joke', 'however much garlic fondue barely edible', 'could barely stomach meal complain business lunch', 'bad lost heart finish', 'also took forever bring u check asked', 'one make scene restaurant get definitely lost love one', 'disappointing experience', 'food par denny say not good', 'want wait mediocre food downright terrible service place', 'waaaaaayyyyyyyyyy rated saying', 'going back', 'place fairly clean food simply worth', 'place lacked style', 'sangria half glass wine full ridiculous', 'bother coming', 'meat pretty dry sliced brisket pulled pork', 'building seems pretty neat bathroom pretty trippy eat', 'equally awful', 'probably not hurry go back', 'slow seating even reservation', 'not good stretch imagination', 'cashew cream sauce bland vegetable undercooked', 'chipolte ranch dipping sause tasteless seemed thin watered heat', 'bit sweet not really spicy enough lacked flavor', 'disappointed', 'place horrible way overpriced', 'maybe vegetarian fare twice thought average best', 'busy know', 'table outside also dirty lot time worker not always friendly helpful menu', 'ambiance not feel like buffet setting douchey indoor garden tea biscuit', 'con spotty service', 'fry not hot neither burger', 'came back cold', 'food came disappointment ensued', 'real disappointment waiter', 'husband said rude not even apologize bad food anything', 'reason eat would fill night binge drinking get carbs stomach', 'insult profound deuchebaggery go outside smoke break serving solidify', 'someone order two taco think may part customer service ask combo ala cart', 'quite disappointed although blame need placed door', 'rave review wait eat disappointment', 'del taco pretty nasty avoided possible', 'not hard make decent hamburger', 'like', 'hell go back', 'gotten much better service pizza place next door service received restaurant', 'know big deal place back ya', 'immediately said wanted talk manager not want talk guy shot fireball behind bar', 'ambiance much better', 'unfortunately set u disapppointment entree', 'food good', 'server suck wait correction server heimer sucked', 'happened next pretty putting', 'bad cause know family owned really wanted like place', 'overpriced getting', 'vomited bathroom mid lunch', 'kept looking time soon become minute yet still food', 'place eat circumstance would ever return top list', 'started tuna sashimi brownish color obviously fresh', 'food average', 'sure beat nacho movie would expect little bit coming restaurant', 'ha long bay bit flop', 'problem charge sandwich bigger subway sub offer better amount vegetable', 'shrimp unwrapped live mile brushfire literally ice cold', 'lacked flavor seemed undercooked dry', 'really impressive place closed', 'would avoid place staying mirage', 'refried bean came meal dried crusty food bland', 'spend money time place else', 'lady table next u found live green caterpillar salad', 'presentation food awful', 'tell disappointed', 'think food flavor texture lacking', 'appetite instantly gone', 'overall not impressed would not go back', 'whole experience underwhelming think go ninja sushi next time', 'wasted enough life poured salt wound drawing time took bring check']\n"
     ]
    }
   ],
   "source": [
    "import pandas as pd\n",
    "import numpy as np\n",
    "import string\n",
    "import re\n",
    "import nltk\n",
    "nltk.download('stopwords')\n",
    "nltk.download('wordnet')\n",
    "\n",
    "yelpDataset = pd.read_csv('Yelp.txt', sep='\\t', header=None, encoding='latin-1')\n",
    "yelpDataset.columns = ['review', 'sentiment']\n",
    "stopword = nltk.corpus.stopwords.words('english')\n",
    "stopword = [word for word in stopword if word != 'not']\n",
    "lm = nltk.WordNetLemmatizer()\n",
    "\n",
    "\n",
    "#def removePunct(text):\n",
    "   # noPunct = ''.join([char for char in text if char not in string.punctuation])\n",
    "   # return noPunct\n",
    "\n",
    "def tokenize(text):\n",
    "    tokens = re.split('\\W+', text)\n",
    "    return tokens\n",
    "\n",
    "def onlyAlpha(tokenizedList):\n",
    "    text = [word for word in tokenizedList if word.isalpha()]\n",
    "    return text\n",
    "\n",
    "def noStop(tokenizedList):\n",
    "    text = [word for word in tokenizedList if word not in stopword]\n",
    "    return text\n",
    "\n",
    "def posTag(tokenizedList):\n",
    "    text = ''.join([nltk.pos_tag(word) for word in tokenizedList])\n",
    "    return text\n",
    "\n",
    "def lemmatize(tokenizedList):\n",
    "    text = ' '.join([lm.lemmatize(word) for word in tokenizedList])\n",
    "    return text\n",
    "\n",
    "yelpDataset['review_tokens'] = yelpDataset['review'].apply(lambda x: tokenize(x.lower()))\n",
    "yelpDataset['review_alpha'] = yelpDataset['review_tokens'].apply(lambda x: onlyAlpha(x))\n",
    "yelpDataset['review_nostops'] = yelpDataset['review_alpha'].apply(lambda x: noStop(x))\n",
    "yelpDataset['review_lemmatized'] = yelpDataset['review_nostops'].apply(lambda x: lemmatize(x))\n",
    "\n",
    "df1 = pd.DataFrame(data = yelpDataset['review_lemmatized'])\n",
    "#creates a list that can be vectorized later\n",
    "df1 = df1['review_lemmatized'].tolist()\n",
    "df2 = pd.DataFrame(data = yelpDataset['sentiment'])\n",
    "df2 = df2['sentiment'].tolist()\n",
    "\n",
    "yelpDataset.head()\n",
    "\n",
    "print(df1)"
   ]
  },
  {
   "cell_type": "markdown",
   "metadata": {},
   "source": [
    "## Feature Engineering and Vectorization"
   ]
  },
  {
   "cell_type": "code",
   "execution_count": 4,
   "metadata": {},
   "outputs": [],
   "source": [
    "# Vectorize data, with 1- and 2- grams\n",
    "\n",
    "from sklearn.feature_extraction.text import CountVectorizer\n",
    "vectorizer = CountVectorizer(binary=True, lowercase=False)\n",
    "#vectorizer = CountVectorizer(binary=True, lowercase=False, ngram_range=(1, 2))\n",
    "vector = vectorizer.fit_transform(df1)"
   ]
  },
  {
   "cell_type": "code",
   "execution_count": 5,
   "metadata": {},
   "outputs": [
    {
     "name": "stdout",
     "output_type": "stream",
     "text": [
      "<class 'numpy.ndarray'>\n"
     ]
    }
   ],
   "source": [
    "# Change to a numpy array\n",
    "\n",
    "data = vector.todense()\n",
    "data = np.asarray(data)\n",
    "print(type(data))"
   ]
  },
  {
   "cell_type": "code",
   "execution_count": 6,
   "metadata": {},
   "outputs": [
    {
     "name": "stdout",
     "output_type": "stream",
     "text": [
      "(600, 1763)\n",
      "(200, 1763)\n",
      "(200, 1763)\n"
     ]
    }
   ],
   "source": [
    "# Split into train, test, and validate sets\n",
    "\n",
    "x_train = np.concatenate([data[:300], data[-300:]])\n",
    "y_train = np.concatenate([df2[:300], df2[-300:]])\n",
    "x_val = np.concatenate([data[300:400], data[600:700]])\n",
    "y_val = np.concatenate([df2[300:400], df2[600:700]])\n",
    "x_test = np.concatenate([data[400:600]])\n",
    "y_test = np.concatenate([df2[400:600]])\n",
    "print(x_train.shape)\n",
    "print(x_val.shape)\n",
    "print(x_test.shape)"
   ]
  },
  {
   "cell_type": "markdown",
   "metadata": {},
   "source": [
    "## Model Architecture"
   ]
  },
  {
   "cell_type": "markdown",
   "metadata": {},
   "source": [
    "### Model Creation \n",
    "\n",
    "This is where we finally make our neural network to process the vectorized data we made above. This process will consist of importing the libraries we need (keras in our instance), selecting the kind of model we wish to work with, creating the nueral network with it number of nodes and layers, selecting optimizer, loss, and metric functions, training, and then finally testing our data."
   ]
  },
  {
   "cell_type": "code",
   "execution_count": 42,
   "metadata": {},
   "outputs": [],
   "source": [
    "#Import the models library from the keras main library to use for our model\n",
    "from keras import models\n",
    "\n",
    "#Import the layers library from the keras main library, this will allow us to create a sequential neural network with sequential layers\n",
    "from keras import layers\n",
    "\n",
    "\n",
    "#Will make our model a sequential model, with sequences of dense layers\n",
    "model = models.Sequential()\n",
    "\n",
    "#Will set the first layer as a dense layer with 16 nodes, will use the activation function relu and fit our layer to the data\n",
    "#Worth noting here that the number of layers and number of nodes are rather arbitrary, from our experience\n",
    "#with this particular model, 1 dense layer with 16 nodes each allowed for maximal accuracy in the test data\n",
    "#Will then output a single node dense layer that will output a continuous probability curve via the sigmoid function activator\n",
    "\n",
    "model.add(layers.Dense(16, activation = 'relu', input_shape = (x_train.shape[1],)))\n",
    "model.add(layers.Dense(1,  activation = 'sigmoid'))"
   ]
  },
  {
   "cell_type": "markdown",
   "metadata": {},
   "source": [
    "### Model Compilation\n",
    "\n",
    "Now that we have made our model, we must now choose what we want as our metric, our loss function, and our optimizer functions.\n",
    "\n",
    "Very large degree of freedom here, many different loss functions to use, as well as metrics for model evaluation\n",
    "and optimizer functions.\n",
    "\n",
    "From our experience with this model, was more useful to use the following optimizer, loss, and metric functions,\n",
    "but this can vary depending upon the project you are working on."
   ]
  },
  {
   "cell_type": "code",
   "execution_count": 43,
   "metadata": {},
   "outputs": [],
   "source": [
    "model.compile(optimizer = 'rmsprop',           #Set our optimizer function as \"rmsprop\"\n",
    "              loss = 'binary_crossentropy',    #Set up our loss function as \"binary cross entropy\"\n",
    "              metrics = ['accuracy'])          #Set up our metric function, will use \"accuracy\" here"
   ]
  },
  {
   "cell_type": "markdown",
   "metadata": {},
   "source": [
    "### Model Training\n",
    "Now that we have created our model and defined how we will evaluate our model and how it will optimize loss, will now train it.\n",
    "\n",
    "To keep track of how our model is doing, will want to print out a history of each epoch to see how our model is improving, and if it is overfitting.\n",
    "\n",
    "To train the model, must give our model the x_train and y_train data we set aside earlier, set a number of epochs we wish for the model to go through, the number of data entries per epoch, and (optionally), have it analyze a vlaidation set.\n",
    "\n",
    "Again, worth noting here that the number of epochs and batch size are completely aribtrary and will vary form model to model, from our experience, we wished to maximize accuracy, so a greater number of epochs was desirable "
   ]
  },
  {
   "cell_type": "code",
   "execution_count": 44,
   "metadata": {},
   "outputs": [
    {
     "name": "stdout",
     "output_type": "stream",
     "text": [
      "Train on 600 samples, validate on 200 samples\n",
      "Epoch 1/20\n",
      "600/600 [==============================] - 1s 2ms/step - loss: 0.6861 - acc: 0.5967 - val_loss: 0.6832 - val_acc: 0.5900\n",
      "Epoch 2/20\n",
      "600/600 [==============================] - 0s 193us/step - loss: 0.6655 - acc: 0.7533 - val_loss: 0.6772 - val_acc: 0.6150\n",
      "Epoch 3/20\n",
      "600/600 [==============================] - 0s 188us/step - loss: 0.6471 - acc: 0.8050 - val_loss: 0.6688 - val_acc: 0.6550\n",
      "Epoch 4/20\n",
      "600/600 [==============================] - 0s 197us/step - loss: 0.6271 - acc: 0.8483 - val_loss: 0.6600 - val_acc: 0.6900\n",
      "Epoch 5/20\n",
      "600/600 [==============================] - 0s 177us/step - loss: 0.6059 - acc: 0.8733 - val_loss: 0.6500 - val_acc: 0.7150\n",
      "Epoch 6/20\n",
      "600/600 [==============================] - ETA: 0s - loss: 0.5851 - acc: 0.893 - 0s 238us/step - loss: 0.5840 - acc: 0.8833 - val_loss: 0.6393 - val_acc: 0.7300\n",
      "Epoch 7/20\n",
      "600/600 [==============================] - 0s 242us/step - loss: 0.5611 - acc: 0.8983 - val_loss: 0.6303 - val_acc: 0.7400\n",
      "Epoch 8/20\n",
      "600/600 [==============================] - 0s 270us/step - loss: 0.5377 - acc: 0.9067 - val_loss: 0.6192 - val_acc: 0.7500\n",
      "Epoch 9/20\n",
      "600/600 [==============================] - 0s 208us/step - loss: 0.5145 - acc: 0.9150 - val_loss: 0.6085 - val_acc: 0.7600\n",
      "Epoch 10/20\n",
      "600/600 [==============================] - ETA: 0s - loss: 0.4895 - acc: 0.921 - 0s 187us/step - loss: 0.4916 - acc: 0.9183 - val_loss: 0.5969 - val_acc: 0.7900\n",
      "Epoch 11/20\n",
      "600/600 [==============================] - 0s 212us/step - loss: 0.4686 - acc: 0.9283 - val_loss: 0.5837 - val_acc: 0.7950\n",
      "Epoch 12/20\n",
      "600/600 [==============================] - 0s 208us/step - loss: 0.4463 - acc: 0.9367 - val_loss: 0.5727 - val_acc: 0.7950\n",
      "Epoch 13/20\n",
      "600/600 [==============================] - 0s 198us/step - loss: 0.4247 - acc: 0.9400 - val_loss: 0.5622 - val_acc: 0.7950\n",
      "Epoch 14/20\n",
      "600/600 [==============================] - 0s 172us/step - loss: 0.4037 - acc: 0.9450 - val_loss: 0.5531 - val_acc: 0.7950\n",
      "Epoch 15/20\n",
      "600/600 [==============================] - 0s 225us/step - loss: 0.3836 - acc: 0.9467 - val_loss: 0.5423 - val_acc: 0.8000\n",
      "Epoch 16/20\n",
      "600/600 [==============================] - 0s 222us/step - loss: 0.3642 - acc: 0.9533 - val_loss: 0.5328 - val_acc: 0.8000\n",
      "Epoch 17/20\n",
      "600/600 [==============================] - 0s 200us/step - loss: 0.3452 - acc: 0.9550 - val_loss: 0.5213 - val_acc: 0.8050\n",
      "Epoch 18/20\n",
      "600/600 [==============================] - 0s 222us/step - loss: 0.3271 - acc: 0.9617 - val_loss: 0.5147 - val_acc: 0.8050\n",
      "Epoch 19/20\n",
      "600/600 [==============================] - 0s 216us/step - loss: 0.3107 - acc: 0.9583 - val_loss: 0.5038 - val_acc: 0.8100\n",
      "Epoch 20/20\n",
      "600/600 [==============================] - 0s 188us/step - loss: 0.2941 - acc: 0.9583 - val_loss: 0.4976 - val_acc: 0.8100\n"
     ]
    },
    {
     "data": {
      "text/plain": [
       "(0, 20)"
      ]
     },
     "execution_count": 44,
     "metadata": {},
     "output_type": "execute_result"
    },
    {
     "data": {
      "image/png": "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\n",
      "text/plain": [
       "<Figure size 432x288 with 1 Axes>"
      ]
     },
     "metadata": {},
     "output_type": "display_data"
    }
   ],
   "source": [
    "history = model.fit(x_train,                            #Input the x_train data\n",
    "                       y_train,                         #Input the y_train data (features)\n",
    "                       epochs=20,                       #Set our model to go through 20 epochs\n",
    "                       batch_size=64,                   #Set our epoch batch size to 64 data entires\n",
    "                       validation_data=(x_val, y_val))  #Have our model also go through the validation set, x_val, y_val\n",
    "\n",
    "#To prevent overfitting, will plot the model accuracy against the validation accuracy and see where divergence occurs\n",
    "\n",
    "#Will use the matplotlib.pyplot library to access the necessary plotting functions we will need to plot our output\n",
    "\n",
    "import matplotlib.pyplot as plt\n",
    "\n",
    "#Plot the model accuracy by calling history.history['acc']\n",
    "plt.plot(history.history['acc'], label = \"Model Accuracy\")\n",
    "\n",
    "#Add the validation accurayc to our plot by calling history.history['val_acc']\n",
    "plt.plot(history.history['val_acc'], label = \"Validation Accuracy\")\n",
    "\n",
    "#Add a grid to the plot for neatness in analysis\n",
    "plt.grid()\n",
    "\n",
    "#Add a legend to our plot\n",
    "plt.legend()\n",
    "\n",
    "#Adding a label to the x-axis \n",
    "plt.xlabel(\"Epochs\")\n",
    "\n",
    "#Adding a label to the y-axis\n",
    "plt.ylabel(\"% Accuracy\")\n",
    "\n",
    "#Adding a limit to the x-axis range, want to make sure we get the full 0-20 epoch range\n",
    "plt.xlim(0,20)"
   ]
  },
  {
   "cell_type": "markdown",
   "metadata": {},
   "source": [
    "### Model Testing\n",
    "\n",
    "Now that we have tried to prevent overfitting the data and have trained it, let's see how well it does on our test data set."
   ]
  },
  {
   "cell_type": "code",
   "execution_count": 45,
   "metadata": {},
   "outputs": [
    {
     "name": "stdout",
     "output_type": "stream",
     "text": [
      "200/200 [==============================] - 0s 120us/step\n",
      "Accuracy: 0.785\n"
     ]
    }
   ],
   "source": [
    "#This step is as simple as calling the evaluate function from the keras models library with our x_test and y_test data sets\n",
    "#as parameters to pass in\n",
    "results = model.evaluate(x_test, y_test)\n",
    "\n",
    "#We've tested it, now let's print out how accurate our model is on the testing data set\n",
    "print (\"Accuracy:\", results[1])"
   ]
  },
  {
   "cell_type": "code",
   "execution_count": null,
   "metadata": {},
   "outputs": [],
   "source": []
  },
  {
   "cell_type": "code",
   "execution_count": null,
   "metadata": {},
   "outputs": [],
   "source": []
  },
  {
   "cell_type": "code",
   "execution_count": null,
   "metadata": {},
   "outputs": [],
   "source": []
  }
 ],
 "metadata": {
  "kernelspec": {
   "display_name": "Python 3",
   "language": "python",
   "name": "python3"
  },
  "language_info": {
   "codemirror_mode": {
    "name": "ipython",
    "version": 3
   },
   "file_extension": ".py",
   "mimetype": "text/x-python",
   "name": "python",
   "nbconvert_exporter": "python",
   "pygments_lexer": "ipython3",
   "version": "3.6.5"
  }
 },
 "nbformat": 4,
 "nbformat_minor": 2
}
