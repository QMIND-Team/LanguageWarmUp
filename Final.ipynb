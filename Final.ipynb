{
 "cells": [
  {
   "cell_type": "markdown",
   "metadata": {},
   "source": [
    "# Language Warmup Full Model\n",
    "\n",
    "## Data Cleaning"
   ]
  },
  {
   "cell_type": "markdown",
   "metadata": {},
   "source": [
    "### Getting the Cleaning Tools Ready"
   ]
  },
  {
   "cell_type": "markdown",
   "metadata": {},
   "source": [
    "To clean the dataset, we will be using Pandas, NumPy, RegEx, NLTK and an autocorrect library. There are some custom solutions here that will be explained further via inline comments. Here, we are just importing the libraries and even selecting specific modules from some of them."
   ]
  },
  {
   "cell_type": "code",
   "execution_count": 1,
   "metadata": {},
   "outputs": [
    {
     "name": "stderr",
     "output_type": "stream",
     "text": [
      "[nltk_data] Downloading package stopwords to\n",
      "[nltk_data]     C:\\Users\\Troy\\AppData\\Roaming\\nltk_data...\n",
      "[nltk_data]   Package stopwords is already up-to-date!\n",
      "[nltk_data] Downloading package wordnet to\n",
      "[nltk_data]     C:\\Users\\Troy\\AppData\\Roaming\\nltk_data...\n",
      "[nltk_data]   Package wordnet is already up-to-date!\n"
     ]
    }
   ],
   "source": [
    "import pandas as pd\n",
    "import numpy as np\n",
    "import string\n",
    "import re\n",
    "import nltk\n",
    "\n",
    "# 'spell' will be our spell checker and corrector for cleaning purposes\n",
    "from autocorrect import spell\n",
    "\n",
    "# A stopword for our purposes is a word that doesn't add a lot of insight to the sentiment of a sentence\n",
    "nltk.download('stopwords')\n",
    "nltk.download('wordnet')\n",
    "\n",
    "# A lemmatizer is a way for us to find the root of a word. \n",
    "# Using this, 'grows', 'grew', and 'grown' all evaluate to 'grow'.\n",
    "lm = nltk.WordNetLemmatizer()\n",
    "\n",
    "stopword = nltk.corpus.stopwords.words('english')\n",
    "\n",
    "# We are removing the word 'not' to avoid a situation where for example 'not good' == 'good' \n",
    "stopword = [word for word in stopword if word != 'not']"
   ]
  },
  {
   "cell_type": "markdown",
   "metadata": {},
   "source": [
    "### Reading in the Data"
   ]
  },
  {
   "cell_type": "markdown",
   "metadata": {},
   "source": [
    "These two lines of code make it really easy to manipulate the dataset by organizing it into labelled columns and rows, called a dataframe. We can create functions to manipulate specific columns, and for our purposes, we'd like to play around with the reviews only. To do that, first we must read in the data. We can use Pandas' **pd.read_csv** as seen below to read a specific file, **Yelp.txt**. We just have to indicate that each colummn is separated by a tab, or **\\t** which we have done. **Header** is set to None because we want to read the file from its first line. Finally, encoding has been set to **Latin1**. This is because of a decoding error that was thrown at us. Encoding in another character set seemed to fix the problem and create no new ones, so we didn't look back. \n",
    "\n",
    "Now that the dataset is read in, we can name our columns as they appear from left to right by using the **.columns** method in Pandas."
   ]
  },
  {
   "cell_type": "code",
   "execution_count": 2,
   "metadata": {},
   "outputs": [],
   "source": [
    "yelpDataset = pd.read_csv('Yelp.txt', sep='\\t', header=None, encoding='latin-1')\n",
    "yelpDataset.columns = ['review', 'sentiment']"
   ]
  },
  {
   "cell_type": "markdown",
   "metadata": {},
   "source": [
    "### Creating the Cleaning Functions"
   ]
  },
  {
   "cell_type": "markdown",
   "metadata": {},
   "source": [
    "With our data set up the way it is, our cleaning is made fairly simple. Each of these functions 'reads' each review and then executes its function on each of them. The purpose of each function will be explained with inline comments."
   ]
  },
  {
   "cell_type": "code",
   "execution_count": 3,
   "metadata": {
    "scrolled": true
   },
   "outputs": [],
   "source": [
    "# This function takes each review and breaks it up into its individual words\n",
    "def tokenize(text):\n",
    "    tokens = re.split('\\W+', text) # '\\W' will split on any non-word characters such as a whitespace, comma or period\n",
    "    return tokens\n",
    "\n",
    "# This function removes all characters from 'review' that are NOT alaphabetical (special characters, punctuation etc)\n",
    "def onlyAlpha(tokenizedList):\n",
    "    text = [word for word in tokenizedList if word.isalpha()]\n",
    "    return text\n",
    "\n",
    "# This function removes any instance of a stopword in each review\n",
    "def noStop(tokenizedList):\n",
    "    text = [word for word in tokenizedList if word not in stopword]\n",
    "    return text\n",
    "\n",
    "# This function checks for and corrects spelling errors in each word of each review\n",
    "def spellCheck(tokenizedList):\n",
    "    text = [spell(word) for word in tokenizedList]\n",
    "    return text\n",
    "\n",
    "# This function uses the lemmatizer mentioned earlier on each word of each review\n",
    "def lemmatize(tokenizedList):\n",
    "    text = ' '.join([lm.lemmatize(word) for word in tokenizedList]) # .join is used at the end to return the tokenized\n",
    "    return text                                                     # reviews and returning them to full sentences\n",
    "\n",
    "\n"
   ]
  },
  {
   "cell_type": "markdown",
   "metadata": {},
   "source": [
    "### Applying the Cleaning Functions"
   ]
  },
  {
   "cell_type": "markdown",
   "metadata": {},
   "source": [
    "To apply each function, we decided to use lambda functions. Using lambda functions is beneficial here because we are performing a fairly specific sequence of tasks. On the left of each expression we are naming a new column (usually to reflect a change), and on the right, we are applying a function to each row of our specified column. This leaves us with a new column of data with the function applied. "
   ]
  },
  {
   "cell_type": "code",
   "execution_count": 4,
   "metadata": {},
   "outputs": [],
   "source": [
    "# .apply() is a pandas method that applies a function across an index/column in a dataframe\n",
    "yelpDataset['review_tokens'] = yelpDataset['review'].apply(lambda x: tokenize(x.lower()))\n",
    "\n",
    "yelpDataset['review_alpha'] = yelpDataset['review_tokens'].apply(lambda x: onlyAlpha(x))\n",
    "yelpDataset['review_nostops'] = yelpDataset['review_alpha'].apply(lambda x: noStop(x))\n",
    "yelpDataset['review_spellCheck'] = yelpDataset['review_nostops'].apply(lambda x: spellCheck(x))\n",
    "yelpDataset['review_lemmatized'] = yelpDataset['review_spellCheck'].apply(lambda x: lemmatize(x))"
   ]
  },
  {
   "cell_type": "markdown",
   "metadata": {},
   "source": [
    "### From DataFrame to Separate Lists\n",
    "\n",
    "Now that the data is clean, in order for our Feature Engineering and Vectorization to proceed we must turn our 2-dimensional DataFrame into two separate lists."
   ]
  },
  {
   "cell_type": "code",
   "execution_count": 5,
   "metadata": {},
   "outputs": [],
   "source": [
    "# First, we can turn our DataFrame column into a 1-dimensional DataFrame \n",
    "review = pd.DataFrame(data = yelpDataset['review_lemmatized'])\n",
    "\n",
    "# Now, we can turn our 1-dimensional DataFrame into a list using Pandas' .tolist method\n",
    "review = review['review_lemmatized'].tolist()\n",
    "\n",
    "#The same is done to our sentiment column\n",
    "sentiment = pd.DataFrame(data = yelpDataset['sentiment'])\n",
    "sentiment = sentiment['sentiment'].tolist()"
   ]
  },
  {
   "cell_type": "code",
   "execution_count": 19,
   "metadata": {},
   "outputs": [
    {
     "name": "stdout",
     "output_type": "stream",
     "text": [
      "['wow loved place', 'crust not good', 'not tasty texture nasty', 'stopped late may bank holiday rick steve recommendation loved', 'selection menu great price', 'getting angry want damn pho', 'honestly taste fresh', 'potato like rubber could tell made ahead time kept warmer', 'fry great', 'great touch', 'service prompt', 'would not go back', 'cashier care ever say still ended way overpriced', 'tried cape cod ravioli chicken cranberry mmmm', 'disgusted pretty sure human hair', 'shocked sign indicate cash', 'highly recommended', 'waitress little slow service', 'place not worth time let alone vega', 'not like', 'burrito blah', 'food amazing', 'service also cute', 'could care le interior beautiful', 'performed', 'right red velvet cake oath stuff good', 'never brought salad asked', 'hole wall great mexican street taco friendly staff', 'took hour get food table restaurant food luke warm sever running around like totally overwhelmed', 'worst salmon sashimi', 'also combo like burger fry beer decent deal', 'like final blow', 'found place accident could not happier', 'seems like good quick place grab bite familiar pub food favor look elsewhere', 'overall like place lot', 'redeeming quality restaurant inexpensive', 'ample portion good price', 'poor service waiter made feel like stupid every time came table', 'first visit hiro delight', 'service suck', 'shrimp tender moist', 'not deal good enough would drag establishment', 'hard judge whether side good grossed melted styrofoam want eat fear getting sick', 'positive note server attentive provided great service', 'frozen puck disgust worst people behind register', 'thing like prime rib dessert section', 'bad food damn generic', 'burger good beef cooked right', 'want sandwich go firehouse', 'side greek salad greek dressing tasty pita hummus refreshing', 'ordered duck rare pink tender inside nice char outside', 'came running u realized husband left sunglass table', 'chow mein good', 'horrible attitude towards customer talk one customer enjoy food', 'portion huge', 'loved friendly server great food wonderful imaginative menu', 'heart attack grill downtown vega absolutely flat lined excuse restaurant', 'not much seafood like string pasta bottom', 'salad right amount sauce not power scallop perfectly cooked', 'ripped banana not ripped petrified tasteless', 'least think refill water struggle wave minute', 'place receives star appetizer', 'cocktail handmade delicious', 'definitely go back', 'glad found place', 'great food service huge portion give military discount', 'always great time do gringo', 'update went back second time still amazing', 'got food apparently never heard salt batter fish chewy', 'great way finish great', 'deal included tasting drink jeff went beyond expected', 'really really good rice time', 'service me', 'took min get milkshake nothing chocolate milk', 'guess known place would suck inside excalibur use common sense', 'scallop dish quite appalling value well', 'time bad customer service', 'sweet potato fry good seasoned well', 'today second time lunch buffet pretty good', 'much good food vega feel cheated wasting eating opportunity going rice company', 'coming like experiencing underwhelming relationship party wait person ask break', 'walked place smelled like old grease trap others eating', 'turkey roast beef bland', 'place', 'pan cake everyone raving taste like sugary disaster tailored palate six year old', 'love pho spring roll oh yummy try', 'poor batter meat ratio made chicken tender unsatisfying', 'say food amazing', 'omelet die', 'everything fresh delicious', 'summary largely disappointing dining experience', 'like really sexy party mouth outrageously flirting hottest person party', 'never hard rock casino never ever step forward', 'best breakfast buffet', 'say bye bye tip lady', 'never go', 'back', 'food arrived quickly', 'not good', 'side cafe serf really good food', 'server fantastic found wife love roasted garlic bone marrow added extra meal another marrow go', 'good thing waiter helpful kept bloody mary coming', 'best buffet town price cannot beat', 'loved mussel cooked wine reduction duck tender potato dish delicious', 'one better buffet', 'went tigerlilly fantastic afternoon', 'food delicious bartender attentive personable got great deal', 'ambience wonderful music playing', 'go back next trip', 'soosoo good', 'real sushi lover let honest yama not good', 'least passed u ordering food arriving busy', 'really fantastic thai restaurant definitely worth visit', 'nice spicy tender', 'good price', 'check', 'pretty gross', 'better atmosphere', 'kind hard mess steak', 'although much liked look sound place actual experience bit disappointing', 'know place managed served blandest food ever eaten preparing indian cuisine', 'worst service boot least worry', 'service fine waitress friendly', 'guy steak steak loving son steak best worst place said best steak ever eaten', 'thought venture away get good sushi place really hit spot night', 'host staff lack better word bitch', 'bland not liking place number reason want waste time bad reviewing leave', 'phenomenal food service ambiance', 'return', 'definitely worth venturing strip pork belly return next time vega', 'place way overpriced mediocre food', 'penne vodka excellent', 'good selection food including massive meatloaf sandwich crispy chicken wrap delish tuna melt tasty burger', 'management rude', 'delicious NYC bagel good selection cream cheese real lox caper even', 'great subway fact good come every subway not meet expectation', 'seriously solid breakfast', 'one best bar food vega', 'extremely rude really many restaurant would love dine weekend vega', 'drink never empty made really great menu suggestion', '', 'waiter helpful friendly rarely checked u', 'husband ate lunch disappointed food service', 'red curry much bamboo shoot tasty', 'nice blanket moz top feel like done cover subpar food', 'bathroom clean place well decorated', 'menu always changing food quality going service extremely slow', 'service little slow considering served people server food coming slow pace', 'give thumb', 'watched waiter pay lot attention table ignore u', 'fiance came middle day greeted seated right away', 'great restaurant mandalay bay', 'waited forty five minute vain', 'crostini came salad stale', 'highlight great quality nigori', 'staff friendly joint always clean', 'different cut piece day still wonderful tender well well flavored', 'ordered voodoo pasta first time really excellent pasta since going gluten free several year ago', 'place good', 'unfortunately must hit bakery leftover day everything ordered stale', 'came back today since relocated still not impressed', 'seated immediately', 'menu diverse reasonably priced', 'avoid cost', 'restaurant always full never wait', 'delicious', 'place hand one best place eat phoenix metro area', 'go looking good food', 'never treated bad', 'bacon hell salty', 'also ordered spinach avocado salad ingredient sad dressing literally zero taste', 'really vega fine dining used right menu handed lady price listed', 'waitress friendly', 'lordy khan so dish not missed curry lover', 'everything menu terrific also thrilled made amazing accommodation vegetarian daughter', 'perhaps caught night judging review not inspired go back', 'service leaf lot desired', 'atmosphere modern hip maintaining touch coziness', 'not weekly haunt definitely place come back every', 'literally sat minute one asking take order', 'burger absolutely flavor meat totally bland burger overcooked charcoal flavor', 'also decided not send back waitress looked like verge heart attack', 'dressed treated rudely', 'probably dirt', 'love place hit spot want something healthy not lacking quantity flavor', 'ordered lemon raspberry ice cocktail also incredible', 'food sucked expected sucked could imagined', 'interesting decor', 'really like crepe station', 'also served hot bread butter home made potato chip bacon bit top original good', 'watch preparing delicious food', 'egg roll fantastic', 'order arrived one gyro missing', 'salad wing ice cream dessert left feeling quite satisfied', 'not really sure joey voted best hot dog valley reader phoenix magazine', 'best place go tasty bowl pho', 'live music friday totally blow', 'never insulted felt disrespected', 'friendly staff', 'worth drive', 'heard good thing place exceeding every hope could dreamed', 'food great service', 'warm beer help', 'great brunch spot', 'service friendly inviting', 'good lunch spot', 'lived since first last time stepped foot place', 'worst experience ever', 'must night place', 'side delish mixed mushroom yukon gold puree white corn beauteous', 'bug never showed would given sure side wall bug climbing kitchen', 'minute waiting salad realized coming time soon', 'friend loved salmon tartar', 'go back', 'extremely tasty', 'waitress good though', 'soggy not good', 'jamaican monitor delicious', 'small not worth price', 'food rich order accordingly', 'shower area outside rinse not take full shower unless mind nude everyone see', 'service bit lacking', 'lobster bisque russell sprout risotto filet needed salt pepper course none table', 'hopefully bodes going business someone cook come', 'either cold not enough flavor bad', 'loved bacon wrapped date', 'unbelievable bargain', 'folk otto always make u feel welcome special', 'main also uninspired', 'place first pho amazing', 'wonderful experience made place must stop whenever town', 'food bad enough enjoy dealing world worst annoying drunk people', 'fun chef', 'ordered double cheeseburger got single patty falling apart picture uploaded yeah still suck', 'great place couple drink watch sporting event wall covered tv', 'possible give zero star', 'description said yum yum sauce another said eel sauce yet another said spicy mayo well none roll sauce', 'say would hardest decision honestly dish taste supposed taste amazing', 'not rolled eye may stayed not sure go back try', 'everyone attentive providing excellent customer service', 'horrible waste time money', 'dish quite flavourful', 'time side restaurant almost empty excuse', 'busy either also building freezing cold', 'like reviewer said pay eat place', 'drink took close minute come one point', 'seriously flavorful delight folk', 'much better aye sushi place went vega', 'lighting dark enough set mood', 'based sub par service received effort show gratitude business going back', 'owner really great people', 'nothing privileged working eating', 'greek dressing creamy flavorful', 'overall think would take parent place made similar complaint silently felt', 'pizza good peanut sauce tasty', 'table service pretty fast', 'fantastic service', 'well would given godfather zero star possible', 'know make', 'tough short flavor', 'hope place stick around', 'bar vega not ever recall charged tap water', 'restaurant atmosphere exquisite', 'good service clean inexpensive boot', 'seafood fresh generous portion', 'plus buck', 'service not par either', 'thus far visited twice food absolutely delicious time', 'good year ago', 'self proclaimed coffee cafe wildly disappointed', 'veggitarian platter world', 'cant go wrong food', 'beat', 'stopped place madison ironman friendly kind staff', 'chef friendly good job', 'better not dedicated boba tea spot even Jenni pho', 'liked patio service outstanding', 'goat taco skimp meat wow flavor', 'think not', 'mac salad pretty bland not getting', 'went bache burger friend recommendation not disappointed', 'service stink', 'waited waited', 'place not quality sushi not quality restaurant', 'would definitely recommend wing well pizza', 'great pizza salad', 'thing went wrong burned saganaki', 'waited hour breakfast could done time better home', 'place amazing', 'hate disagree fellow yelpers husband disappointed place', 'waited hour never got either pizza many around u came later', 'know slow', 'staff great food delish incredible beer selection', 'live neighborhood disappointed back convenient location', 'know pulled pork could oooo delicious', 'get incredibly fresh fish prepared care', 'go gave star rating please know third time eating bache burger writing review', 'love fact everything menu worth', 'never dining place', 'food excellent service good', 'good beer drink selection good food selection', 'please stay away shrimp stir fried noodle', 'potato chip order sad could probably count many chip box probably around', 'food really boring', 'good service check', 'greedy corporation never see another dime', 'never ever go back', 'much like go back get passed atrocious service never return', 'summer dine charming outdoor patio delightful', 'not expect good', 'fantastic food', 'ordered toasted english muffin came untoasted', 'food good', 'never going back', 'great food price high quality house made', 'bus boy hand rude', 'point friend basically figured place joke mind making publicly loudly known', 'back good BBQ lighter fare reasonable pricing tell public back old way', 'considering two u left full happy go wrong', 'bread made house', 'downside service', 'also fry without doubt worst fry ever', 'service exceptional food good review', 'couple month later returned amazing meal', 'favorite place town shawarrrrrrma', 'black eyed pea sweet potato unreal', 'disappointed', 'could serve vinaigrette may make better overall dish still good', 'go far many place never seen restaurant serf egg breakfast especially', 'mom got home immediately got sick bite salad', 'server not pleasant deal always honor pizza hut coupon', 'truly unbelievably good glad went back', 'fantastic service pleased atmosphere', 'everything gross', 'love place', 'great service food', 'first bathroom location dirty seat cover not replenished plain yucky', 'burger got gold standard burger kind disappointed', 'org food delicioso', 'nothing authentic place', 'spaghetti nothing special whatsoever', 'dish salmon best great', 'vegetable fresh sauce feel like authentic thai', 'worth driving tucson', 'selection probably worst seen vega none', 'pretty good beer selection', 'place like chipotle better', 'classy warm atmosphere fun fresh appetizer succulent steak baseball steak', 'star brick oven bread app', 'eaten multiple time time food delicious', 'sat another ten minute finally gave left', 'terrible', 'everyone treated equally special', 'take min pancake egg', 'delicious', 'good side staff genuinely pleasant enthusiastic real treat', 'sadly Gordon Ramsey steak place shall sharply avoid next trip vega', 'always evening wonderful food delicious', 'best fish ever life', 'bathroom next door nice', 'buffet small food offered bland', 'outstanding little restaurant best food ever tasted', 'pretty cool would say', 'definitely turn doubt back unless someone else buying', 'server great job handling large rowdy table', 'find wasting food despicable food', 'wife lobster bisque soup lukewarm', 'would come back sushi craving vega', 'staff great ambiance great', 'deserves star', 'left stomach ache felt sick rest day', 'dropped ball', 'dining space tiny elegantly decorated comfortable', 'customize order way like usual eggplant green bean stir fry love', 'bean rice mediocre best', 'best taco town far', 'took back money got outta', 'interesting part town place amazing', 'rude inconsiderate management', 'staff not friendly wait time served horrible one even say hi first minute', 'back', 'great dinner', 'service outshining definitely recommend halibut', 'food terrible', 'never ever go back told many people happened', 'recommend unless car break front starving', 'come back every time vega', 'place deserves one star food', 'disgrace', 'def coming back bowl next time', 'want healthy authentic ethic food try place', 'continue come lady night added date night highly recommend place anyone area', 'several time past experience always great', 'walked away stuffed happy first vega buffet experience', 'service excellent price pretty reasonable considering vega located inside crystal shopping mall aria', 'summarize food incredible nay transcendant nothing brings joy quite like memory pneumatic condiment dispenser', 'probably one people ever go sans not like', 'kid pizza always hit lot great side dish option kiddos', 'service perfect family atmosphere nice see', 'cooked perfection service impeccable', 'one simply disappointment', 'overall disappointed quality food bouchon', 'accountant know getting screwed', 'great place eat reminds little mom pop shop san francisco bay area', 'today first taste buldogis gourmet hot dog tell ever thought possible', 'left frustrated', 'definitely soon', 'food really good got full petty fast', 'service fantastic', 'total waste time', 'know kind best iced tea', 'come hungry leave happy stuffed', 'service give star', 'assure disappointed', 'take little bad service food suck', 'gave trying eat crust teeth still sore', 'completely grossed', 'really enjoyed eating', 'first time going think quickly become regular', 'server nice even though looked little overwhelmed need stayed professional friendly end', 'dinner companion told everything fresh nice texture taste', 'ground right next table large smeared stepped tracked everywhere pile green bird poop', 'furthermore even find hour operation website', 'tried like place time think done', 'mistake', 'complaint', 'seriously good pizza expert connoisseur topic', 'waiter jerk', 'strike want rushed', 'nicest restaurant owner ever come across', 'never come', 'loved biscuit', 'service quick friendly', 'ordered appetizer took minute pizza another minute', 'absolutely fantastic', 'huge awkward piece cow gristle fat', 'definitely come back', 'like Steiner dark feel like bar', 'wow spicy delicious', 'not familiar check', 'take business dinner dollar elsewhere', 'love go back', 'anyway f restaurant wonderful breakfast lunch', 'nothing special', 'day week different deal delicious', 'not mention combination pear almond bacon big winner', 'not back', 'sauce tasteless', 'food delicious spicy enough sure ask spicier prefer way', 'ribeye steak cooked perfectly great mesquite flavor', 'think going back anytime soon', 'food good', 'far sushi connoisseur definitely tell difference good food bad food certainly bad food', 'insulted', 'last time lunch bad', 'chicken wing contained driest chicken meat ever eaten', 'food good enjoyed every mouthful enjoyable relaxed venue couple small family group etc', 'nargile think great', 'best tater tot southwest', 'loved place', 'definitely not worth paid', 'vanilla ice cream creamy smooth profiterole chou pastry fresh enough', 'im az time new spot', 'manager worst', 'inside really quite nice clean', 'food outstanding price reasonable', 'think running back Carly anytime soon food', 'due fact took minute acknowledged another minute get food kept forgetting thing', 'love margarita', 'first vega buffet not disappoint', 'good though', 'one note ventilation could use upgrading', 'great pork sandwich', 'waste time', 'total letdown would much rather go camelback flower shop cartel coffee', 'third cheese friend burger cold', 'enjoy pizza brunch', 'steak well trimmed also perfectly cooked', 'group claimed would handled u beautifully', 'loved', 'asked bill leave without eating bring either', 'place jewel la vega exactly hoping find nearly ten year living', 'seafood limited boiled shrimp crab leg crab leg definitely not taste fresh', 'selection food not best', 'delicious absolutely back', 'small family restaurant fine dining establishment', 'toro tartare cavier extraordinary liked thinly sliced way white truffle', 'dont think back long time', 'attached gas station rarely good sign', 'awesome', 'back many time soon', 'menu much good stuff could not decide', 'worse humiliated worker right front bunch horrible name calling', 'conclusion filling meal', 'daily special always hit group', 'tragedy struck', 'pancake also really good pretty large', 'first crawfish experience delicious', 'monster chicken fried steak egg time favorite', 'waitress sweet funny', 'also taste mom multi grain pumpkin pancake pecan butter amazing fluffy delicious', 'rather eat airline food seriously', 'cant say enough good thing place', 'ambiance incredible', 'waitress manager friendly', 'would not recommend place', 'overall impressed noma', 'gyro basically lettuce', 'terrible service', 'thoroughly disappointed', 'much pasta love homemade hand made pasta thin pizza', 'give try happy', 'far best cheesecurd ever', 'reasonably priced also', 'everything perfect night', 'food good typical bar food', 'drive get', 'first glance lovely bakery cafe nice ambiance clean friendly staff', 'anyway not think go back', 'point finger item menu order disappointed', 'oh thing beauty restaurant', 'gone go', 'greasy unhealthy meal', 'first time might last', 'burger amazing', 'similarly delivery man not say word apology food minute late', 'way expensive', 'sure order dessert even need pack go tiramisu cannoli die', 'first time wait next', 'bartender also nice', 'everything good tasty', 'place two thumb way', 'best place vega breakfast check sat sun', 'love authentic mexican food want whole bunch interesting yet delicious meat choose need try place', 'terrible management', 'excellent new restaurant experienced frenchman', 'zero star would give zero star', 'great steak great side great wine amazing dessert', 'worst martini ever', 'steak shrimp opinion best entree gc', 'opportunity today sample amazing pizza', 'waited thirty minute seated although vacant table folk waiting', 'yellowtail carpaccio melt mouth fresh', 'try going back even empty', 'going eat potato found stranger hair', 'spicy enough perfect actually', 'last night second time dining happy decided go back', 'not even hello right', 'dessert bit strange', 'boyfriend came first time recent trip vega could not pleased quality food service', 'really recommend place go wrong donut place', 'nice ambiance', 'would recommend saving room', 'guess maybe went night disgraceful', 'however recent experience particular location not good', 'know not like restaurant something', 'avoid establishment', 'think restaurant suffers not trying hard enough', 'tapa dish delicious', 'heart place', 'salad bland vinegarette baby green heart palm', 'two felt disgusting', 'good time', 'believe place great stop huge belly hankering sushi', 'generous portion great taste', 'never go back place never ever recommended place anyone', 'server went back forth several time not even much helped', 'food delicious', 'hour seriously', 'consider theft', 'new location need complete overhaul', 'recently witnessed poor quality management towards guest well', 'waited waited waited', 'also came back check u regularly excellent service', 'server super nice checked u many time', 'pizza tasted old super chewy not good way', 'swung give try deeply disappointed', 'service good company better', 'staff also friendly efficient', 'service fan quick served nice folk', 'boy sucker dry', 'rated', 'look authentic thai food go else', 'steak recommended', 'pulled car waited another minute acknowledged', 'great food great service clean friendly setting', 'assure back', 'hate thing much cheap quality black olive', 'breakfast prepared great beautiful presentation giant slice toast lightly dusted powdered sugar', 'kid play area nasty', 'great place fo take eat', 'waitress friendly happy accomodate vegan veggie option', 'org felt like never eaten thai food dish', 'extremely crumby pretty tasteless', 'pale color instead nice char flavor', 'crouton also taste homemade extra plus', 'got home see driest damn wing ever', 'regular stop trip phoenix', 'really enjoyed cream cafe expanded even told friend best breakfast', 'not good money', 'miss wish one philadelphia', 'got sitting fairly fast ended waiting minute place order another minute food arrived', 'also best cheese crisp town', 'good value great food great service', 'ask satisfying meal', 'food good', 'awesome', 'wanted leave', 'made drive way north Scottsdale not one bit disappointed', 'not eating', 'owner really really need quit soooooo cheap let wrap freaking sandwich two paper not one', 'checked place couple year ago not impressed', 'chicken got definitely reheated ok wedge cold soggy', 'sorry not getting food anytime soon', 'absolute must visit', 'cow tongue cheek taco amazing', 'friend not like bloody mary', 'despite hard rate business actually rare give star', 'really want make experience good one', 'not return', 'chicken pho tasted bland', 'disappointing', 'grilled chicken tender yellow saffron seasoning', 'drive thru mean not want wait around half hour food somehow end going make u wait wait', 'pretty awesome place', 'ambience perfect', 'best luck rude non customer service focused new management', 'grandmother make roasted chicken better one', 'asked multiple time wine list time ignored went hostess got one', 'staff always super friendly helpful especially cool bring two small boy baby', 'four star food guy blue shirt great vibe still letting u eat', 'roast beef sandwich tasted really good', 'evening drastically sick', 'high quality chicken chicken caesar salad', 'ordered burger rare came done', 'promptly greeted seated', 'tried go lunch madhouse', 'proven dead wrong sushi bar not quality great service fast food impeccable', 'waiting hour seated not greatest mood', 'good joint', 'macaroon insanely good', 'not eating', 'waiter attentive friendly informative', 'maybe cold would somewhat edible', 'place lot promise fails deliver', 'bad experience', 'mistake', 'food average best', 'great food', 'going back anytime soon', 'disappointed ordered big bay plater', 'great place relax awesome burger beer', 'perfect sit family meal get together friend', 'not much flavor poorly constructed', 'patio seating comfortable', 'fried rice dry well', 'hand favorite italian restaurant', 'scream legit book somewhat also pretty rare vega', 'not fun experience', 'atmosphere great lovely duo violinist playing song requested', 'personally love hummus pita baklava falafel baba ganoush amazing eggplant', 'convenient since staying MGM', 'owner super friendly staff courteous', 'great', 'eclectic selection', 'sweet potato tot good onion ring perfection close', 'staff attentive', 'chef generous time even came around twice take picture', 'owner used work Noby place really similar half price', 'google mediocre imagine smashburger pop', 'dont go', 'promise disappoint', 'sushi lover avoid place mean', 'great double cheeseburger', 'awesome service food', 'fantastic neighborhood gem', 'wait go back', 'plantain worst ever tasted', 'great place highly recommend', 'service slow not attentive', 'gave star giving star', 'staff spends time talking', 'dessert Panna cotta amazing', 'good food great atmosphere', 'damn good steak', 'total brunch fail', 'price reasonable flavor spot sauce home made slaw not drenched mayo', 'decor nice piano music soundtrack pleasant', 'steak amazing re fillet relleno best seafood plate ever', 'good food good service', 'absolutely amazing', 'probably back honest', 'definitely back', 'sergeant pepper beef sandwich aulu sauce excellent sandwich well', 'hawaiian breeze mango magic pineapple delight smoothy tried far good', 'went lunch service slow', 'much say place walked expected amazing quickly disappointed', 'mortified', 'needle say never back', 'anyways food definitely not filling price pay expect', 'chip came dripping grease mostly not edible', 'really impressed strip steak', 'going since every meal awesome', 'server nice attentive serving staff', 'cashier friendly even brought food', 'work hospitality industry paradise valley refrained recommending Cixo longer', 'atmosphere fun', 'would not recommend others', 'service quick even go order like like', 'mean really get famous fish chip terrible', 'said mouth belly still quite pleased', 'not thing', 'thumb', 'reading please go', 'loved grilled pizza reminded legit italian pizza', 'pro large seating area nice bar area great simple drink menu best brick oven pizza homemade dough', 'really nice atmosphere', 'tonight elk filet special sucked', 'one bite hooked', 'ordered old classic new dish going time sorely disappointed everything', 'cute quaint simple honest', 'chicken deliciously seasoned perfect fry outside moist chicken inside', 'food great always compliment chef', 'special thanks dylan recommendation order yummy tummy', 'awesome selection beer', 'great food awesome service', 'one nice thing added gratuity bill since party larger expect tip', 'fly apple juice fly', 'han nan chicken also tasty', 'service thought good', 'food barely lukewarm must sitting waiting server bring u', 'Ryan bar definitely one edinburgh establishment revisiting', 'nicest chinese restaurant', 'overall like food service', 'also serve indian naan bread hummus spicy pine nut sauce world', 'probably never coming back recommend', 'friend pasta also bad barely touched', 'try airport experience tasty food speedy friendly service', 'love decor chinese calligraphy wall paper', 'never anything complain', 'restaurant clean family restaurant feel', 'way fried', 'not sure long stood long enough begin feel awkwardly place', 'opened sandwich impressed not good way', 'not back', 'warm feeling service felt like guest special treat', 'extensive menu provides lot option breakfast', 'always order vegetarian menu dinner wide array option choose', 'watched price inflate portion get smaller management attitude grow rapidly', 'wonderful Lil tapa ambience made feel warm fuzzy inside', 'got enjoy seafood salad fabulous vinegarette', 'wonton thin not thick chewy almost melt mouth', 'level spicy perfect spice whelm soup', 'sat right time server get go fantastic', 'main thing enjoy crowd older crowd around mid', 'side town definitely spot hit', 'wait minute get drink longer get arepas', 'great place eat', 'jalapeno bacon oooo good', 'service poor thats nice', 'food good service good price good', 'place not clean food oh stale', 'chicken dish ok beef like shoe leather', 'service beyond bad', 'happy', 'tasted like dirt', 'one place phoenix would definitely go back', 'block amazing', 'close house low key non fancy affordable price good food', 'hot sour egg flower soup absolutely star', 'sashimi poor quality soggy tasteless', 'great time family dinner sunday night', 'food not tasty not say real traditional Hunan style', 'bother slow service', 'flair bartender absolutely amazing', 'frozen margarita way sugary taste', 'good ordered twice', 'nutshell restraint smell like combination dirty fish market sewer', 'girlfriend veal bad', 'unfortunately not good', 'pretty satisfying experience', 'join club get awesome offer via email', 'perfect someone like beer ice cold case even colder', 'bland flavorless good way describing barely tepid meat', 'chain fan beat place easily', 'nacho must', 'not coming back', 'many word say place everything pretty well', 'staff super nice quick even crazy crowd downtown jury lawyer court staff', 'great atmosphere friendly fast service', 'received pita huge lot meat thumb', 'food arrives me', 'paying hot dog fry look like came kid meal wienerschnitzel not idea good meal', 'classic maine lobster roll fantastic', 'brother law work mall ate day guess sick night', 'good going review place twice whereas tribute place tribute event held last night', 'chip salsa really good salsa fresh', 'place great', 'mediocre food', 'get inside impressed place', 'super pissed', 'service super friendly', 'sad little vegetable overcooked', 'place nice surprise', 'golden crispy delicious', 'high hope place since burger cooked charcoal grill unfortunately taste fell flat way flat', 'could eat bruschetta day Devine', 'not single employee came see ok even needed water refill finally served u food', 'lastly mozzarella stick best thing ordered', 'first time ever came amazing experience still tell people awesome duck', 'server negligent need made u feel unwelcome would not suggest place', 'service terrible though', 'place overpriced not consistent boba really overpriced', 'packed', 'love place', 'say dessert yummy', 'food terrible', 'seasonal fruit fresh white peach puree', 'kept getting worse worse officially done', 'place honestly blown', 'definitely would not eat', 'not waste money', 'love put food nice plastic container opposed cramming little paper takeout box', 'crape delicate thin moist', 'awful service', 'ever go', 'food quality horrible', 'price think place would much rather gone', 'service fair best', 'love sushi found kabuki priced hip service', 'favor stay away dish', 'poor service', 'one table thought food average worth wait', 'best service food ever maria server good friendly made day', 'excellent', 'paid bill not tip felt server terrible job', 'lunch great experience', 'never bland food surprised considering article read focused much spice flavor', 'food way overpriced portion fucking small', 'recently tried caballero back every week since', 'buck head really expect better food', 'food came good pace', 'ate twice last visit especially enjoyed salmon salad', 'back', 'could not believe dirty oyster', 'place deserves star', 'would not recommend place', 'fact going round star awesome', 'disbelief dish qualified worst version food ever tasted', 'bad day not low tolerance rude customer service people job nice polite wash dish otherwise', 'potato great biscuit', 'probably would not go', 'flavorful perfect amount heat', 'price reasonable service great', 'wife hated meal coconut shrimp friend really not enjoy meal either', 'fella got huevos rancheros look appealing', 'went happy hour great list wine', 'may say buffet pricey think get pay place getting quite lot', 'probably coming back', 'worst food service', 'place pretty good nice little vibe restaurant', 'talk great customer service course back', 'hot dish not hot cold dish close room temp watched staff prepare food bare hand glove everything deep fried oil', 'love fry bean', 'always pleasure dealing', 'plethora salad sandwich everything tried get seal approval', 'place awesome want something light healthy summer', 'sushi strip place go', 'service great even manager came helped table', 'feel dining room college cooking course high class dining service slow best', 'started review two star editing give one', 'worst sushi ever eat besides Costco', 'excellent restaurant highlighted great service unique menu beautiful setting', 'boyfriend sat bar completely delightful experience', 'weird vibe owner', 'hardly meat', 'better bagel grocery store', 'go place gyro', 'love owner chef one authentic japanese cool dude', 'burger good pizza used amazing doughy flavorless', 'found six inch long piece wire salsa', 'service terrible food mediocre', 'definitely enjoyed', 'ordered albondigas soup warm tasted like tomato soup frozen meatball', 'three different occasion asked well done medium well three time got bloodiest piece meat plate', 'two bite refused eat anymore', 'service extremely slow', 'minute wait got table', 'seriously killer hot chai latte', 'allergy warning menu waitress absolutely clue meal not contain peanut', 'boyfriend tried mediterranean chicken salad fell love', 'rotating beer tap also highlight place', 'pricing bit concern mellow mushroom', 'worst thai ever', 'stay vega must get breakfast least', 'want first say server great perfect service', 'pizza selection good', 'strawberry tea good', 'highly unprofessional rude loyal patron', 'overall great experience', 'spend money elsewhere', 'regular toasted bread equally satisfying occasional pat butter mmmm', 'buffet bellagio far anticipated', 'drink weak people', 'order not correct', 'also feel like chip bought not made house', 'disappointing dinner went elsewhere dessert', 'chip sals amazing', 'returning', 'new far vega buffet spot', 'seriously cannot believe owner many unexperienced employee running around like chicken head cut', 'sad', 'felt insulted disrespected could talk judge another human like', 'call steakhouse properly cook steak understand', 'not impressed concept food', 'thing crazy guacamole like purged', 'really nothing postins hope experience better', 'got food poisoning buffet', 'brought fresh batch fry thinking yay something warm', 'hilarious yummy christmas eve dinner remember biggest fail entire trip u', 'needle say going back anytime soon', 'place disgusting', 'every time eat see caring teamwork professional degree', 'Ri style calamari joke', 'however much garlic fondue barely edible', 'could barely stomach meal complain business lunch', 'bad lost heart finish', 'also took forever bring u check asked', 'one make scene restaurant get definitely lost love one', 'disappointing experience', 'food par Denny say not good', 'want wait mediocre food downright terrible service place', 'waaaaaayyyyyyyyyy rated saying', 'going back', 'place fairly clean food simply worth', 'place lacked style', 'sangria half glass wine full ridiculous', 'bother coming', 'meat pretty dry sliced brisket pulled pork', 'building seems pretty neat bathroom pretty trippy eat', 'equally awful', 'probably not hurry go back', 'slow seating even reservation', 'not good stretch imagination', 'cashew cream sauce bland vegetable undercooked', 'chipotle ranch dipping cause tasteless seemed thin watered heat', 'bit sweet not really spicy enough lacked flavor', 'disappointed', 'place horrible way overpriced', 'maybe vegetarian fare twice thought average best', 'busy know', 'table outside also dirty lot time worker not always friendly helpful menu', 'ambiance not feel like buffet setting douched indoor garden tea biscuit', 'con spotty service', 'fry not hot neither burger', 'came back cold', 'food came disappointment ensued', 'real disappointment waiter', 'husband said rude not even apologize bad food anything', 'reason eat would fill night binge drinking get carbs stomach', 'insult profound deuchebaggery go outside smoke break serving solidify', 'someone order two taco think may part customer service ask combo ala cart', 'quite disappointed although blame need placed door', 'rave review wait eat disappointment', 'del taco pretty nasty avoided possible', 'not hard make decent hamburger', 'like', 'hell go back', 'gotten much better service pizza place next door service received restaurant', 'know big deal place back ya', 'immediately said wanted talk manager not want talk guy shot fireball behind bar', 'ambiance much better', 'unfortunately set u disappointment entree', 'food good', 'server suck wait correction server Heimer sucked', 'happened next pretty putting', 'bad cause know family owned really wanted like place', 'overpriced getting', 'vomited bathroom mid lunch', 'kept looking time soon become minute yet still food', 'place eat circumstance would ever return top list', 'started tuna sashimi brownish color obviously fresh', 'food average', 'sure beat nacho movie would expect little bit coming restaurant', 'ha long bay bit flop', 'problem charge sandwich bigger subway sub offer better amount vegetable', 'shrimp unwrapped live mile brushfire literally ice cold', 'lacked flavor seemed undercooked dry', 'really impressive place closed', 'would avoid place staying mirage', 'refried bean came meal dried crusty food bland', 'spend money time place else', 'lady table next u found live green caterpillar salad', 'presentation food awful', 'tell disappointed', 'think food flavor texture lacking', 'appetite instantly gone', 'overall not impressed would not go back', 'whole experience underwhelming think go ninja sushi next time', 'wasted enough life poured salt wound drawing time took bring check']\n"
     ]
    }
   ],
   "source": [
    "print(review)"
   ]
  },
  {
   "cell_type": "markdown",
   "metadata": {},
   "source": [
    "## Feature Engineering and Vectorization\n",
    "\n",
    "### Vectorize data, with 1- and 2- grams"
   ]
  },
  {
   "cell_type": "markdown",
   "metadata": {},
   "source": [
    "Here we are importing a useful function that converts our data set of sentences into a large matrix of 0's and 1's. "
   ]
  },
  {
   "cell_type": "code",
   "execution_count": 6,
   "metadata": {},
   "outputs": [],
   "source": [
    "from sklearn.feature_extraction.text import CountVectorizer"
   ]
  },
  {
   "cell_type": "markdown",
   "metadata": {},
   "source": [
    "The matrix has each row representing a sentence and each column representing a word from the data set (no words are repeated). For each sentence, a 1 is placed in the columns of the words present in the sentence. If a word isn't in the sentence, a 0 is put in that column."
   ]
  },
  {
   "cell_type": "code",
   "execution_count": 7,
   "metadata": {},
   "outputs": [],
   "source": [
    "vectorizer = CountVectorizer(binary=True, lowercase=False)\n",
    "# 'binary=false' would make the matrix count the frequency of a word in the sentence, instead of just marking its presence\n",
    "# for some reason this wasn't working unless lowercase=false, some problem with the cleaned data I suppose"
   ]
  },
  {
   "cell_type": "code",
   "execution_count": 25,
   "metadata": {},
   "outputs": [
    {
     "name": "stdout",
     "output_type": "stream",
     "text": [
      "{'wow': 1723, 'loved': 893, 'place': 1134, 'crust': 361, 'not': 1023, 'good': 661, 'tasty': 1522, 'texture': 1534, 'nasty': 1000, 'stopped': 1464, 'late': 843, 'may': 931, 'bank': 120, 'holiday': 737, 'rick': 1282, 'steve': 1456, 'recommendation': 1242, 'selection': 1346, 'menu': 950, 'great': 673, 'price': 1173, 'getting': 643, 'angry': 53, 'want': 1667, 'damn': 371, 'pho': 1122, 'honestly': 741, 'taste': 1518, 'fresh': 616, 'potato': 1163, 'like': 868, 'rubber': 1298, 'could': 334, 'tell': 1527, 'made': 906, 'ahead': 36, 'time': 1556, 'kept': 823, 'warmer': 1670, 'fry': 625, 'touch': 1576, 'service': 1356, 'prompt': 1187, 'would': 1721, 'go': 654, 'back': 111, 'cashier': 243, 'care': 235, 'ever': 515, 'say': 1326, 'still': 1458, 'ended': 496, 'way': 1681, 'overpriced': 1071, 'tried': 1589, 'cape': 231, 'cod': 290, 'ravioli': 1225, 'chicken': 268, 'cranberry': 347, 'mmmm': 971, 'disgusted': 430, 'pretty': 1172, 'sure': 1501, 'human': 758, 'hair': 695, 'shocked': 1368, 'sign': 1381, 'indicate': 786, 'cash': 241, 'highly': 731, 'recommended': 1243, 'waitress': 1664, 'little': 876, 'slow': 1396, 'worth': 1720, 'let': 858, 'alone': 44, 'vega': 1635, 'burrito': 211, 'blah': 163, 'food': 602, 'amazing': 48, 'also': 45, 'cute': 369, 'le': 848, 'interior': 801, 'beautiful': 136, 'performed': 1113, 'right': 1284, 'red': 1245, 'velvet': 1641, 'cake': 221, 'oath': 1030, 'stuff': 1476, 'never': 1010, 'brought': 198, 'salad': 1309, 'asked': 84, 'hole': 736, 'wall': 1666, 'mexican': 954, 'street': 1469, 'taco': 1508, 'friendly': 620, 'staff': 1442, 'took': 1569, 'hour': 753, 'get': 642, 'table': 1507, 'restaurant': 1269, 'luke': 901, 'warm': 1669, 'sever': 1360, 'running': 1301, 'around': 77, 'totally': 1575, 'overwhelmed': 1072, 'worst': 1719, 'salmon': 1310, 'sashimi': 1320, 'combo': 297, 'burger': 209, 'beer': 141, 'decent': 379, 'deal': 377, 'final': 575, 'blow': 171, 'found': 609, 'accident': 22, 'happier': 707, 'seems': 1344, 'quick': 1208, 'grab': 666, 'bite': 161, 'familiar': 550, 'pub': 1194, 'favor': 560, 'look': 885, 'elsewhere': 491, 'overall': 1068, 'lot': 890, 'redeeming': 1246, 'quality': 1206, 'inexpensive': 789, 'ample': 52, 'portion': 1159, 'poor': 1155, 'waiter': 1662, 'feel': 563, 'stupid': 1478, 'every': 516, 'came': 226, 'first': 583, 'visit': 1653, 'hiro': 734, 'delight': 396, 'suck': 1485, 'shrimp': 1378, 'tender': 1530, 'moist': 973, 'enough': 501, 'drag': 451, 'establishment': 508, 'hard': 709, 'judge': 818, 'whether': 1696, 'side': 1380, 'grossed': 685, 'melted': 947, 'styrofoam': 1480, 'eat': 475, 'fear': 562, 'sick': 1379, 'positive': 1160, 'note': 1024, 'server': 1355, 'attentive': 93, 'provided': 1191, 'frozen': 622, 'puck': 1197, 'disgust': 429, 'people': 1108, 'behind': 143, 'register': 1253, 'thing': 1541, 'prime': 1177, 'rib': 1278, 'dessert': 407, 'section': 1341, 'bad': 113, 'generic': 639, 'beef': 140, 'cooked': 325, 'sandwich': 1317, 'firehouse': 582, 'greek': 676, 'dressing': 457, 'pita': 1132, 'hummus': 760, 'refreshing': 1250, 'ordered': 1054, 'duck': 468, 'rare': 1215, 'pink': 1130, 'inside': 794, 'nice': 1013, 'char': 253, 'outside': 1064, 'realized': 1231, 'husband': 763, 'left': 853, 'sunglass': 1498, 'chow': 275, 'mein': 944, 'horrible': 747, 'attitude': 94, 'towards': 1579, 'customer': 366, 'talk': 1512, 'one': 1044, 'enjoy': 498, 'huge': 757, 'wonderful': 1710, 'imaginative': 772, 'heart': 719, 'attack': 91, 'grill': 679, 'downtown': 450, 'absolutely': 21, 'flat': 587, 'lined': 872, 'excuse': 525, 'much': 987, 'seafood': 1332, 'string': 1472, 'pasta': 1094, 'bottom': 182, 'amount': 51, 'sauce': 1324, 'power': 1166, 'scallop': 1328, 'perfectly': 1112, 'ripped': 1287, 'banana': 119, 'petrified': 1118, 'tasteless': 1520, 'least': 850, 'think': 1542, 'refill': 1248, 'water': 1678, 'struggle': 1475, 'wave': 1680, 'minute': 964, 'receives': 1238, 'star': 1445, 'appetizer': 71, 'cocktail': 288, 'handmade': 704, 'delicious': 394, 'definitely': 389, 'glad': 649, 'give': 646, 'military': 959, 'discount': 426, 'always': 47, 'do': 436, 'gringo': 681, 'update': 1623, 'went': 1691, 'second': 1340, 'got': 663, 'apparently': 68, 'heard': 718, 'salt': 1313, 'batter': 131, 'fish': 584, 'chewy': 267, 'finish': 580, 'included': 780, 'tasting': 1521, 'drink': 460, 'jeff': 809, 'beyond': 150, 'expected': 529, 'really': 1232, 'rice': 1280, 'me': 934, 'min': 962, 'milkshake': 961, 'nothing': 1025, 'chocolate': 272, 'milk': 960, 'guess': 690, 'known': 832, 'excalibur': 521, 'use': 1626, 'common': 301, 'sense': 1349, 'dish': 432, 'quite': 1211, 'appalling': 67, 'value': 1632, 'well': 1690, 'sweet': 1505, 'seasoned': 1335, 'today': 1562, 'lunch': 903, 'buffet': 204, 'cheated': 259, 'wasting': 1675, 'eating': 477, 'opportunity': 1050, 'going': 657, 'company': 303, 'coming': 300, 'experiencing': 533, 'underwhelming': 1610, 'relationship': 1257, 'party': 1091, 'wait': 1660, 'person': 1115, 'ask': 83, 'break': 190, 'walked': 1665, 'smelled': 1402, 'old': 1040, 'grease': 671, 'trap': 1585, 'others': 1058, 'turkey': 1600, 'roast': 1289, 'bland': 165, 'pan': 1083, 'everyone': 517, 'raving': 1224, 'sugary': 1490, 'disaster': 424, 'tailored': 1509, 'palate': 1080, 'six': 1391, 'year': 1732, 'love': 892, 'spring': 1440, 'roll': 1292, 'oh': 1037, 'yummy': 1740, 'try': 1595, 'meat': 937, 'ratio': 1222, 'unsatisfying': 1619, 'omelet': 1043, 'die': 409, 'everything': 518, 'summary': 1494, 'largely': 839, 'disappointing': 422, 'dining': 414, 'experience': 531, 'sexy': 1363, 'mouth': 982, 'outrageously': 1062, 'flirting': 593, 'hottest': 752, 'rock': 1291, 'casino': 244, 'step': 1454, 'forward': 608, 'best': 148, 'breakfast': 191, 'bye': 217, 'tip': 1558, 'lady': 837, 'arrived': 79, 'quickly': 1209, 'cafe': 220, 'serf': 1350, 'fantastic': 555, 'wife': 1701, 'roasted': 1290, 'garlic': 634, 'bone': 177, 'marrow': 927, 'added': 32, 'extra': 537, 'meal': 935, 'another': 55, 'helpful': 726, 'bloody': 170, 'mary': 929, 'town': 1580, 'cannot': 229, 'beat': 134, 'mussel': 993, 'wine': 1703, 'reduction': 1247, 'better': 149, 'tigerlilly': 1555, 'afternoon': 34, 'bartender': 125, 'personable': 1116, 'ambience': 50, 'music': 992, 'playing': 1143, 'next': 1012, 'trip': 1591, 'soosoo': 1418, 'real': 1230, 'sushi': 1504, 'lover': 895, 'honest': 740, 'yama': 1729, 'passed': 1092, 'ordering': 1055, 'arriving': 81, 'busy': 214, 'thai': 1535, 'spicy': 1435, 'check': 260, 'gross': 684, 'atmosphere': 88, 'kind': 829, 'mess': 952, 'steak': 1452, 'although': 46, 'liked': 869, 'sound': 1422, 'actual': 30, 'bit': 159, 'know': 831, 'managed': 918, 'served': 1354, 'blandest': 166, 'eaten': 476, 'preparing': 1170, 'indian': 785, 'cuisine': 364, 'boot': 179, 'worry': 1717, 'fine': 578, 'guy': 692, 'loving': 896, 'son': 1414, 'said': 1308, 'thought': 1549, 'venture': 1643, 'away': 101, 'hit': 735, 'spot': 1438, 'night': 1015, 'host': 749, 'lack': 834, 'word': 1712, 'bitch': 160, 'liking': 870, 'number': 1027, 'reason': 1233, 'waste': 1673, 'reviewing': 1276, 'leave': 852, 'phenomenal': 1120, 'ambiance': 49, 'return': 1271, 'venturing': 1644, 'strip': 1473, 'pork': 1158, 'belly': 146, 'mediocre': 940, 'penne': 1107, 'vodka': 1655, 'excellent': 523, 'including': 781, 'massive': 930, 'meatloaf': 939, 'crispy': 356, 'wrap': 1724, 'delish': 398, 'tuna': 1599, 'melt': 946, 'management': 919, 'rude': 1299, 'NYC': 12, 'bagel': 114, 'cream': 352, 'cheese': 263, 'lox': 898, 'caper': 232, 'even': 512, 'subway': 1483, 'fact': 543, 'come': 298, 'meet': 943, 'expectation': 528, 'seriously': 1352, 'solid': 1408, 'bar': 121, 'extremely': 539, 'many': 923, 'dine': 413, 'weekend': 1686, 'empty': 494, 'suggestion': 1492, 'rarely': 1216, 'checked': 261, 'ate': 87, 'disappointed': 421, 'curry': 365, 'bamboo': 118, 'shoot': 1370, 'blanket': 167, 'moz': 985, 'top': 1570, 'done': 439, 'cover': 341, 'subpar': 1482, 'bathroom': 130, 'clean': 282, 'decorated': 384, 'changing': 252, 'considering': 316, 'pace': 1076, 'thumb': 1553, 'watched': 1677, 'pay': 1100, 'attention': 92, 'ignore': 768, 'fiance': 569, 'middle': 956, 'day': 375, 'greeted': 678, 'seated': 1338, 'mandalay': 921, 'bay': 132, 'waited': 1661, 'forty': 607, 'five': 585, 'vain': 1630, 'crostini': 357, 'stale': 1443, 'highlight': 729, 'nigori': 1016, 'joint': 815, 'different': 411, 'cut': 368, 'piece': 1126, 'flavored': 589, 'voodoo': 1657, 'since': 1387, 'gluten': 653, 'free': 613, 'several': 1361, 'ago': 35, 'unfortunately': 1612, 'must': 994, 'bakery': 115, 'leftover': 854, 'relocated': 1261, 'impressed': 777, 'immediately': 775, 'diverse': 435, 'reasonably': 1235, 'priced': 1174, 'avoid': 99, 'cost': 332, 'full': 627, 'hand': 700, 'phoenix': 1123, 'metro': 953, 'area': 74, 'looking': 887, 'treated': 1587, 'bacon': 112, 'hell': 722, 'salty': 1314, 'spinach': 1436, 'avocado': 98, 'ingredient': 792, 'sad': 1304, 'literally': 875, 'zero': 1741, 'used': 1627, 'handed': 701, 'listed': 874, 'lordy': 888, 'khan': 825, 'so': 1406, 'missed': 967, 'terrific': 1533, 'thrilled': 1551, 'accommodation': 23, 'vegetarian': 1638, 'daughter': 374, 'perhaps': 1114, 'caught': 246, 'judging': 819, 'review': 1274, 'inspired': 795, 'leaf': 849, 'desired': 404, 'modern': 972, 'hip': 733, 'maintaining': 913, 'coziness': 344, 'weekly': 1687, 'haunt': 714, 'sat': 1321, 'asking': 85, 'take': 1510, 'order': 1053, 'flavor': 588, 'overcooked': 1069, 'charcoal': 254, 'decided': 381, 'send': 1348, 'looked': 886, 'verge': 1646, 'dressed': 456, 'rudely': 1300, 'probably': 1180, 'dirt': 417, 'something': 1412, 'healthy': 717, 'lacking': 836, 'quantity': 1207, 'lemon': 857, 'raspberry': 1217, 'ice': 765, 'incredible': 783, 'sucked': 1486, 'imagined': 774, 'interesting': 800, 'decor': 383, 'crepe': 354, 'station': 1448, 'hot': 751, 'bread': 189, 'butter': 215, 'home': 738, 'chip': 270, 'original': 1057, 'watch': 1676, 'egg': 485, 'gyro': 693, 'missing': 968, 'wing': 1704, 'feeling': 564, 'satisfied': 1322, 'joey': 813, 'voted': 1658, 'dog': 437, 'valley': 1631, 'reader': 1228, 'magazine': 909, 'bowl': 185, 'live': 877, 'friday': 617, 'insulted': 799, 'felt': 568, 'disrespected': 434, 'drive': 463, 'exceeding': 522, 'hope': 744, 'dreamed': 454, 'help': 724, 'brunch': 200, 'inviting': 802, 'lived': 878, 'last': 841, 'stepped': 1455, 'foot': 603, 'mixed': 970, 'mushroom': 991, 'yukon': 1738, 'gold': 658, 'puree': 1200, 'white': 1697, 'corn': 328, 'beauteous': 135, 'bug': 205, 'showed': 1376, 'given': 647, 'climbing': 283, 'kitchen': 830, 'waiting': 1663, 'soon': 1416, 'friend': 619, 'tartar': 1516, 'though': 1548, 'soggy': 1407, 'jamaican': 807, 'monitor': 976, 'small': 1397, 'rich': 1281, 'accordingly': 25, 'shower': 1377, 'rinse': 1286, 'unless': 1616, 'mind': 963, 'nude': 1026, 'see': 1342, 'lobster': 880, 'bisque': 158, 'russell': 1303, 'sprout': 1441, 'risotto': 1288, 'filet': 571, 'needed': 1005, 'pepper': 1109, 'course': 338, 'none': 1020, 'hopefully': 745, 'bodes': 175, 'business': 213, 'someone': 1411, 'cook': 324, 'either': 487, 'cold': 292, 'wrapped': 1725, 'date': 373, 'unbelievable': 1606, 'bargain': 124, 'folk': 600, 'otto': 1060, 'make': 914, 'welcome': 1689, 'special': 1429, 'main': 911, 'uninspired': 1614, 'stop': 1463, 'whenever': 1694, 'dealing': 378, 'world': 1716, 'annoying': 54, 'drunk': 466, 'fun': 628, 'chef': 266, 'double': 443, 'cheeseburger': 264, 'single': 1388, 'patty': 1099, 'falling': 549, 'apart': 63, 'picture': 1125, 'uploaded': 1625, 'yeah': 1731, 'couple': 336, 'sporting': 1437, 'event': 514, 'covered': 342, 'tv': 1602, 'possible': 1161, 'description': 402, 'yum': 1739, 'eel': 482, 'yet': 1736, 'mayo': 933, 'hardest': 710, 'decision': 382, 'supposed': 1500, 'rolled': 1293, 'eye': 540, 'stayed': 1450, 'providing': 1193, 'money': 975, 'flavourful': 592, 'almost': 43, 'building': 206, 'freezing': 614, 'reviewer': 1275, 'close': 284, 'point': 1151, 'flavorful': 590, 'aye': 106, 'lighting': 866, 'dark': 372, 'set': 1358, 'mood': 979, 'based': 127, 'sub': 1481, 'par': 1086, 'received': 1237, 'effort': 484, 'show': 1375, 'gratitude': 669, 'owner': 1074, 'privileged': 1178, 'working': 1715, 'creamy': 353, 'parent': 1088, 'similar': 1383, 'complaint': 305, 'silently': 1382, 'pizza': 1133, 'peanut': 1104, 'fast': 558, 'godfather': 656, 'tough': 1578, 'short': 1373, 'stick': 1457, 'recall': 1236, 'charged': 256, 'tap': 1514, 'exquisite': 535, 'generous': 640, 'plus': 1149, 'buck': 203, 'thus': 1554, 'far': 556, 'visited': 1654, 'twice': 1603, 'self': 1347, 'proclaimed': 1182, 'coffee': 291, 'wildly': 1702, 'veggitarian': 1640, 'platter': 1141, 'cant': 230, 'wrong': 1727, 'madison': 908, 'ironman': 803, 'job': 812, 'dedicated': 385, 'boba': 174, 'tea': 1524, 'Jenni': 9, 'patio': 1097, 'outstanding': 1065, 'goat': 655, 'skimp': 1392, 'mac': 904, 'bache': 110, 'stink': 1459, 'recommend': 1241, 'burned': 210, 'saganaki': 1307, 'hate': 712, 'disagree': 419, 'fellow': 567, 'yelpers': 1735, 'later': 844, 'neighborhood': 1008, 'convenient': 323, 'location': 882, 'pulled': 1198, 'oooo': 1046, 'incredibly': 784, 'prepared': 1169, 'gave': 636, 'rating': 1221, 'please': 1145, 'third': 1545, 'writing': 1726, 'stay': 1449, 'stir': 1460, 'fried': 618, 'noodle': 1021, 'count': 335, 'box': 186, 'boring': 180, 'greedy': 675, 'corporation': 329, 'dime': 412, 'atrocious': 89, 'summer': 1495, 'charming': 257, 'outdoor': 1061, 'delightful': 397, 'expect': 527, 'toasted': 1561, 'english': 497, 'muffin': 988, 'untoasted': 1620, 'high': 728, 'house': 754, 'bus': 212, 'boy': 187, 'basically': 128, 'figured': 570, 'joke': 816, 'making': 915, 'publicly': 1196, 'loudly': 891, 'BBQ': 0, 'lighter': 865, 'fare': 557, 'reasonable': 1234, 'pricing': 1176, 'public': 1195, 'two': 1604, 'happy': 708, 'downside': 449, 'without': 1708, 'doubt': 444, 'exceptional': 524, 'month': 978, 'returned': 1272, 'favorite': 561, 'shawarrrrrrma': 1366, 'black': 162, 'eyed': 541, 'pea': 1102, 'unreal': 1618, 'serve': 1353, 'vinaigrette': 1650, 'seen': 1345, 'especially': 507, 'mom': 974, 'pleasant': 1144, 'honor': 742, 'hut': 764, 'coupon': 337, 'truly': 1594, 'unbelievably': 1607, 'pleased': 1146, 'dirty': 418, 'seat': 1337, 'replenished': 1265, 'plain': 1136, 'yucky': 1737, 'standard': 1444, 'org': 1056, 'delicioso': 393, 'authentic': 96, 'spaghetti': 1428, 'whatsoever': 1692, 'vegetable': 1637, 'driving': 464, 'tucson': 1597, 'chipotle': 271, 'classy': 281, 'succulent': 1484, 'baseball': 126, 'brick': 193, 'oven': 1067, 'app': 66, 'multiple': 990, 'ten': 1529, 'finally': 576, 'terrible': 1532, 'equally': 506, 'pancake': 1084, 'genuinely': 641, 'enthusiastic': 503, 'treat': 1586, 'sadly': 1305, 'Gordon': 6, 'Ramsey': 15, 'shall': 1364, 'sharply': 1365, 'evening': 513, 'life': 863, 'door': 442, 'offered': 1035, 'tasted': 1519, 'cool': 327, 'turn': 1601, 'else': 490, 'buying': 216, 'handling': 703, 'large': 838, 'rowdy': 1297, 'find': 577, 'despicable': 405, 'soup': 1424, 'lukewarm': 902, 'craving': 349, 'deserves': 403, 'stomach': 1461, 'ache': 27, 'rest': 1268, 'dropped': 465, 'ball': 117, 'space': 1427, 'tiny': 1557, 'elegantly': 488, 'comfortable': 299, 'customize': 367, 'usual': 1628, 'eggplant': 486, 'green': 677, 'bean': 133, 'outta': 1066, 'part': 1089, 'inconsiderate': 782, 'hi': 727, 'dinner': 415, 'outshining': 1063, 'halibut': 697, 'told': 1564, 'happened': 706, 'car': 233, 'front': 621, 'starving': 1447, 'disgrace': 427, 'def': 388, 'ethic': 510, 'continue': 322, 'anyone': 58, 'past': 1093, 'stuffed': 1477, 'located': 881, 'crystal': 363, 'shopping': 1372, 'mall': 916, 'aria': 76, 'summarize': 1493, 'nay': 1001, 'transcendant': 1584, 'brings': 195, 'joy': 817, 'memory': 948, 'pneumatic': 1150, 'condiment': 313, 'dispenser': 433, 'sans': 1319, 'kid': 826, 'option': 1052, 'kiddos': 827, 'perfect': 1110, 'family': 551, 'perfection': 1111, 'impeccable': 776, 'simply': 1386, 'disappointment': 423, 'bouchon': 183, 'accountant': 26, 'screwed': 1331, 'reminds': 1264, 'pop': 1157, 'shop': 1371, 'san': 1316, 'francisco': 611, 'buldogis': 207, 'gourmet': 665, 'frustrated': 624, 'petty': 1119, 'total': 1574, 'iced': 766, 'hungry': 761, 'assure': 86, 'trying': 1596, 'teeth': 1526, 'sore': 1419, 'completely': 307, 'enjoyed': 500, 'become': 139, 'regular': 1254, 'need': 1004, 'professional': 1183, 'end': 495, 'companion': 302, 'ground': 686, 'smeared': 1400, 'tracked': 1581, 'everywhere': 519, 'pile': 1127, 'bird': 156, 'poop': 1154, 'furthermore': 630, 'operation': 1048, 'website': 1683, 'mistake': 969, 'expert': 534, 'connoisseur': 314, 'topic': 1571, 'jerk': 810, 'strike': 1471, 'rushed': 1302, 'nicest': 1014, 'across': 29, 'biscuit': 157, 'awkward': 104, 'cow': 343, 'gristle': 682, 'fat': 559, 'Steiner': 19, 'dollar': 438, 'anyway': 61, 'week': 1685, 'mention': 949, 'combination': 296, 'pear': 1105, 'almond': 42, 'big': 151, 'winner': 1705, 'spicier': 1434, 'prefer': 1167, 'ribeye': 1279, 'mesquite': 951, 'anytime': 60, 'difference': 410, 'certainly': 249, 'contained': 320, 'driest': 459, 'mouthful': 983, 'enjoyable': 499, 'relaxed': 1259, 'venue': 1645, 'group': 687, 'etc': 509, 'nargile': 999, 'tater': 1523, 'tot': 1573, 'southwest': 1426, 'paid': 1079, 'vanilla': 1633, 'smooth': 1404, 'profiterole': 1184, 'chou': 274, 'pastry': 1095, 'im': 770, 'az': 107, 'new': 1011, 'manager': 920, 'Carly': 1, 'due': 470, 'acknowledged': 28, 'forgetting': 605, 'margarita': 924, 'disappoint': 420, 'ventilation': 1642, 'upgrading': 1624, 'letdown': 859, 'rather': 1220, 'camelback': 227, 'flower': 595, 'cartel': 239, 'trimmed': 1590, 'claimed': 278, 'handled': 702, 'beautifully': 137, 'bill': 154, 'bring': 194, 'jewel': 811, 'la': 833, 'exactly': 520, 'hoping': 746, 'nearly': 1002, 'living': 879, 'limited': 871, 'boiled': 176, 'crab': 345, 'leg': 855, 'toro': 1572, 'tartare': 1517, 'cavier': 248, 'extraordinary': 538, 'thinly': 1544, 'sliced': 1395, 'truffle': 1593, 'dont': 440, 'long': 883, 'attached': 90, 'gas': 635, 'awesome': 102, 'decide': 380, 'worse': 1718, 'humiliated': 759, 'worker': 1714, 'bunch': 208, 'name': 997, 'calling': 225, 'conclusion': 312, 'filling': 574, 'daily': 370, 'tragedy': 1583, 'struck': 1474, 'crawfish': 350, 'monster': 977, 'funny': 629, 'multi': 989, 'grain': 667, 'pumpkin': 1199, 'pecan': 1106, 'fluffy': 596, 'airline': 37, 'noma': 1018, 'lettuce': 861, 'thoroughly': 1547, 'homemade': 739, 'thin': 1540, 'cheesecurd': 265, 'typical': 1605, 'glance': 650, 'lovely': 894, 'finger': 579, 'item': 805, 'beauty': 138, 'gone': 660, 'greasy': 672, 'unhealthy': 1613, 'might': 957, 'similarly': 1384, 'delivery': 400, 'man': 917, 'apology': 65, 'expensive': 530, 'pack': 1077, 'tiramisu': 1559, 'cannoli': 228, 'sun': 1496, 'whole': 1698, 'choose': 273, 'experienced': 532, 'frenchman': 615, 'martini': 928, 'opinion': 1049, 'entree': 505, 'gc': 637, 'sample': 1315, 'thirty': 1546, 'vacant': 1629, 'yellowtail': 1734, 'carpaccio': 237, 'stranger': 1467, 'actually': 31, 'hello': 723, 'strange': 1466, 'boyfriend': 188, 'recent': 1239, 'donut': 441, 'saving': 1325, 'room': 1294, 'maybe': 932, 'disgraceful': 428, 'however': 755, 'particular': 1090, 'suffers': 1488, 'tapa': 1515, 'vinegarette': 1651, 'baby': 109, 'palm': 1082, 'disgusting': 431, 'believe': 144, 'hankering': 705, 'forth': 606, 'helped': 725, 'consider': 315, 'theft': 1538, 'complete': 306, 'overhaul': 1070, 'recently': 1240, 'witnessed': 1709, 'guest': 691, 'regularly': 1255, 'super': 1499, 'swung': 1506, 'deeply': 387, 'efficient': 483, 'fan': 553, 'sucker': 1487, 'dry': 467, 'rated': 1219, 'setting': 1359, 'cheap': 258, 'olive': 1042, 'presentation': 1171, 'giant': 644, 'slice': 1394, 'toast': 1560, 'lightly': 867, 'dusted': 472, 'powdered': 1165, 'sugar': 1489, 'play': 1142, 'fo': 598, 'accomodate': 24, 'vegan': 1636, 'veggie': 1639, 'crumby': 360, 'pale': 1081, 'color': 295, 'instead': 797, 'crouton': 358, 'expanded': 526, 'miss': 966, 'wish': 1707, 'philadelphia': 1121, 'sitting': 1390, 'fairly': 547, 'crisp': 355, 'satisfying': 1323, 'wanted': 1668, 'north': 1022, 'Scottsdale': 18, 'quit': 1210, 'soooooo': 1417, 'freaking': 612, 'paper': 1085, 'reheated': 1256, 'ok': 1039, 'wedge': 1684, 'sorry': 1421, 'absolute': 20, 'tongue': 1567, 'cheek': 262, 'despite': 406, 'rate': 1218, 'grilled': 680, 'yellow': 1733, 'saffron': 1306, 'seasoning': 1336, 'thru': 1552, 'mean': 936, 'half': 696, 'somehow': 1410, 'luck': 900, 'non': 1019, 'focused': 599, 'grandmother': 668, 'list': 873, 'ignored': 769, 'hostess': 750, 'four': 610, 'blue': 173, 'shirt': 1367, 'vibe': 1649, 'letting': 860, 'drastically': 452, 'caesar': 219, 'promptly': 1188, 'madhouse': 907, 'proven': 1190, 'dead': 376, 'greatest': 674, 'macaroon': 905, 'insanely': 793, 'informative': 791, 'somewhat': 1413, 'edible': 479, 'promise': 1186, 'fails': 545, 'deliver': 399, 'average': 97, 'plater': 1140, 'relax': 1258, 'sit': 1389, 'together': 1563, 'poorly': 1156, 'constructed': 318, 'seating': 1339, 'italian': 804, 'scream': 1330, 'legit': 856, 'book': 178, 'duo': 471, 'violinist': 1652, 'song': 1415, 'requested': 1266, 'personally': 1117, 'baklava': 116, 'falafel': 548, 'baba': 108, 'ganoush': 632, 'staying': 1451, 'MGM': 11, 'courteous': 340, 'eclectic': 478, 'onion': 1045, 'ring': 1285, 'work': 1713, 'Noby': 13, 'google': 662, 'imagine': 773, 'smashburger': 1399, 'gem': 638, 'plantain': 1137, 'giving': 648, 'spends': 1432, 'talking': 1513, 'Panna': 14, 'cotta': 333, 'fail': 544, 'slaw': 1393, 'drenched': 455, 'piano': 1124, 'soundtrack': 1423, 're': 1226, 'fillet': 573, 'relleno': 1260, 'plate': 1139, 'sergeant': 1351, 'aulu': 95, 'hawaiian': 715, 'breeze': 192, 'mango': 922, 'magic': 910, 'pineapple': 1129, 'smoothy': 1405, 'mortified': 980, 'needle': 1006, 'anyways': 62, 'dripping': 462, 'mostly': 981, 'serving': 1357, 'hospitality': 748, 'industry': 788, 'paradise': 1087, 'refrained': 1249, 'recommending': 1244, 'Cixo': 2, 'longer': 884, 'famous': 552, 'reading': 1229, 'reminded': 1263, 'pro': 1179, 'simple': 1385, 'dough': 446, 'tonight': 1568, 'elk': 489, 'hooked': 743, 'classic': 280, 'sorely': 1420, 'quaint': 1204, 'deliciously': 395, 'compliment': 308, 'thanks': 1536, 'dylan': 473, 'tummy': 1598, 'gratuity': 670, 'larger': 840, 'fly': 597, 'apple': 72, 'juice': 820, 'han': 699, 'nan': 998, 'barely': 123, 'Ryan': 17, 'edinburgh': 480, 'revisiting': 1277, 'chinese': 269, 'naan': 995, 'pine': 1128, 'nut': 1028, 'touched': 1577, 'airport': 38, 'speedy': 1430, 'calligraphy': 224, 'anything': 59, 'complain': 304, 'stood': 1462, 'begin': 142, 'awkwardly': 105, 'opened': 1047, 'extensive': 536, 'provides': 1192, 'wide': 1699, 'array': 78, 'inflate': 790, 'smaller': 1398, 'grow': 688, 'rapidly': 1214, 'Lil': 10, 'fuzzy': 631, 'fabulous': 542, 'wonton': 1711, 'thick': 1539, 'level': 862, 'spice': 1433, 'whelm': 1693, 'crowd': 359, 'older': 1041, 'mid': 955, 'arepas': 75, 'jalapeno': 806, 'thats': 1537, 'shoe': 1369, 'leather': 851, 'block': 168, 'low': 897, 'key': 824, 'fancy': 554, 'affordable': 33, 'sour': 1425, 'sunday': 1497, 'traditional': 1582, 'Hunan': 8, 'style': 1479, 'bother': 181, 'flair': 586, 'nutshell': 1029, 'restraint': 1270, 'smell': 1401, 'market': 926, 'sewer': 1362, 'girlfriend': 645, 'veal': 1634, 'join': 814, 'club': 286, 'offer': 1034, 'via': 1648, 'email': 492, 'case': 240, 'colder': 293, 'flavorless': 591, 'describing': 401, 'tepid': 1531, 'chain': 251, 'easily': 474, 'nacho': 996, 'crazy': 351, 'jury': 821, 'lawyer': 847, 'court': 339, 'arrives': 80, 'paying': 1101, 'wienerschnitzel': 1700, 'idea': 767, 'maine': 912, 'brother': 197, 'law': 846, 'whereas': 1695, 'tribute': 1588, 'held': 721, 'salsa': 1312, 'pissed': 1131, 'surprise': 1502, 'golden': 659, 'fell': 565, 'bruschetta': 201, 'Devine': 5, 'employee': 493, 'lastly': 842, 'mozzarella': 986, 'negligent': 1007, 'unwelcome': 1621, 'suggest': 1491, 'consistent': 317, 'packed': 1078, 'seasonal': 1334, 'fruit': 623, 'peach': 1103, 'officially': 1036, 'blown': 172, 'put': 1202, 'plastic': 1138, 'container': 321, 'opposed': 1051, 'cramming': 346, 'takeout': 1511, 'crape': 348, 'delicate': 392, 'awful': 103, 'fair': 546, 'kabuki': 822, 'maria': 925, 'surprised': 1503, 'article': 82, 'read': 1227, 'fucking': 626, 'caballero': 218, 'head': 716, 'oyster': 1075, 'round': 1296, 'disbelief': 425, 'qualified': 1205, 'version': 1647, 'tolerance': 1565, 'polite': 1153, 'wash': 1672, 'otherwise': 1059, 'heat': 720, 'hated': 713, 'coconut': 289, 'fella': 566, 'huevos': 756, 'rancheros': 1213, 'appealing': 69, 'pricey': 1175, 'temp': 1528, 'prepare': 1168, 'bare': 122, 'glove': 652, 'deep': 386, 'oil': 1038, 'pleasure': 1147, 'plethora': 1148, 'seal': 1333, 'approval': 73, 'light': 864, 'college': 294, 'cooking': 326, 'class': 279, 'started': 1446, 'editing': 481, 'besides': 147, 'Costco': 3, 'highlighted': 730, 'unique': 1615, 'weird': 1688, 'hardly': 711, 'grocery': 683, 'store': 1465, 'japanese': 808, 'dude': 469, 'doughy': 447, 'inch': 779, 'wire': 1706, 'albondigas': 40, 'tomato': 1566, 'meatball': 938, 'three': 1550, 'occasion': 1032, 'medium': 942, 'bloodiest': 169, 'refused': 1252, 'anymore': 57, 'killer': 828, 'chai': 250, 'latte': 845, 'allergy': 41, 'warning': 1671, 'clue': 287, 'contain': 319, 'mediterranean': 941, 'rotating': 1295, 'concern': 311, 'mellow': 945, 'strawberry': 1468, 'unprofessional': 1617, 'loyal': 899, 'patron': 1098, 'spend': 1431, 'occasional': 1033, 'pat': 1096, 'bellagio': 145, 'anticipated': 56, 'weak': 1682, 'correct': 330, 'bought': 184, 'sals': 1311, 'returning': 1273, 'unexperienced': 1611, 'call': 223, 'steakhouse': 1453, 'properly': 1189, 'understand': 1609, 'concept': 310, 'guacamole': 689, 'purged': 1201, 'postins': 1162, 'poisoning': 1152, 'batch': 129, 'thinking': 1543, 'yay': 1730, 'hilarious': 732, 'christmas': 276, 'eve': 511, 'remember': 1262, 'biggest': 153, 'entire': 504, 'caring': 236, 'teamwork': 1525, 'degree': 390, 'Ri': 16, 'calamari': 222, 'fondue': 601, 'lost': 889, 'forever': 604, 'scene': 1329, 'Denny': 4, 'downright': 448, 'waaaaaayyyyyyyyyy': 1659, 'saying': 1327, 'lacked': 835, 'sangria': 1318, 'glass': 651, 'ridiculous': 1283, 'brisket': 196, 'neat': 1003, 'trippy': 1592, 'hurry': 762, 'reservation': 1267, 'stretch': 1470, 'imagination': 771, 'cashew': 242, 'undercooked': 1608, 'ranch': 1212, 'dipping': 416, 'cause': 247, 'seemed': 1343, 'watered': 1679, 'douched': 445, 'indoor': 787, 'garden': 633, 'con': 309, 'spotty': 1439, 'neither': 1009, 'ensued': 502, 'apologize': 64, 'fill': 572, 'binge': 155, 'drinking': 461, 'carbs': 234, 'insult': 798, 'profound': 1185, 'deuchebaggery': 408, 'smoke': 1403, 'solidify': 1409, 'ala': 39, 'cart': 238, 'blame': 164, 'placed': 1135, 'rave': 1223, 'del': 391, 'avoided': 100, 'hamburger': 698, 'gotten': 664, 'ya': 1728, 'shot': 1374, 'fireball': 581, 'correction': 331, 'Heimer': 7, 'putting': 1203, 'owned': 1073, 'vomited': 1656, 'circumstance': 277, 'brownish': 199, 'obviously': 1031, 'movie': 984, 'ha': 694, 'flop': 594, 'problem': 1181, 'charge': 255, 'bigger': 152, 'unwrapped': 1622, 'mile': 958, 'brushfire': 202, 'impressive': 778, 'closed': 285, 'mirage': 965, 'refried': 1251, 'dried': 458, 'crusty': 362, 'caterpillar': 245, 'appetite': 70, 'instantly': 796, 'ninja': 1017, 'wasted': 1674, 'poured': 1164, 'wound': 1722, 'drawing': 453}\n"
     ]
    }
   ],
   "source": [
    "import pickle\n",
    "print(type(vectorizer.vocabulary_)"
   ]
  },
  {
   "cell_type": "markdown",
   "metadata": {},
   "source": [
    "This next line could be used instead if we wished to make the program more sophisticated, but larger/slower. Instead of a column for every word, there would also be columns for every set of two words placed next to each other in the data set. You can change the 2 to any integer, but it makes the matrix exponentially larger."
   ]
  },
  {
   "cell_type": "code",
   "execution_count": 8,
   "metadata": {},
   "outputs": [],
   "source": [
    "#vectorizer = CountVectorizer(binary=True, lowercase=False, ngram_range=(1, 2))"
   ]
  },
  {
   "cell_type": "markdown",
   "metadata": {},
   "source": [
    "Finally, we can simply call this function on our cleaned dataset 'phrases'."
   ]
  },
  {
   "cell_type": "code",
   "execution_count": 9,
   "metadata": {},
   "outputs": [],
   "source": [
    "vector = vectorizer.fit_transform(review)"
   ]
  },
  {
   "cell_type": "code",
   "execution_count": 17,
   "metadata": {},
   "outputs": [
    {
     "name": "stdout",
     "output_type": "stream",
     "text": [
      "  (0, 1134)\t1\n",
      "  (0, 893)\t1\n",
      "  (0, 1723)\t1\n",
      "  (1, 661)\t1\n",
      "  (1, 1023)\t1\n",
      "  (1, 361)\t1\n",
      "  (2, 1000)\t1\n",
      "  (2, 1534)\t1\n",
      "  (2, 1522)\t1\n",
      "  (2, 1023)\t1\n",
      "  (3, 1242)\t1\n",
      "  (3, 1456)\t1\n",
      "  (3, 1282)\t1\n",
      "  (3, 737)\t1\n",
      "  (3, 120)\t1\n",
      "  (3, 931)\t1\n",
      "  (3, 843)\t1\n",
      "  (3, 1464)\t1\n",
      "  (3, 893)\t1\n",
      "  (4, 1173)\t1\n",
      "  (4, 673)\t1\n",
      "  (4, 950)\t1\n",
      "  (4, 1346)\t1\n",
      "  (5, 1122)\t1\n",
      "  (5, 371)\t1\n",
      "  :\t:\n",
      "  (997, 1068)\t1\n",
      "  (997, 111)\t1\n",
      "  (997, 654)\t1\n",
      "  (997, 1721)\t1\n",
      "  (997, 1023)\t1\n",
      "  (998, 1017)\t1\n",
      "  (998, 1698)\t1\n",
      "  (998, 1504)\t1\n",
      "  (998, 1012)\t1\n",
      "  (998, 531)\t1\n",
      "  (998, 1610)\t1\n",
      "  (998, 1542)\t1\n",
      "  (998, 654)\t1\n",
      "  (998, 1556)\t1\n",
      "  (999, 453)\t1\n",
      "  (999, 1722)\t1\n",
      "  (999, 1164)\t1\n",
      "  (999, 1674)\t1\n",
      "  (999, 194)\t1\n",
      "  (999, 863)\t1\n",
      "  (999, 260)\t1\n",
      "  (999, 1313)\t1\n",
      "  (999, 501)\t1\n",
      "  (999, 1569)\t1\n",
      "  (999, 1556)\t1\n"
     ]
    }
   ],
   "source": [
    "print(vector)"
   ]
  },
  {
   "cell_type": "markdown",
   "metadata": {},
   "source": [
    "To use this with keras we need to first convert it to a numpy array."
   ]
  },
  {
   "cell_type": "code",
   "execution_count": 22,
   "metadata": {},
   "outputs": [
    {
     "name": "stdout",
     "output_type": "stream",
     "text": [
      "<class 'numpy.ndarray'>\n"
     ]
    }
   ],
   "source": [
    "# Change to a numpy array\n",
    "\n",
    "data = vector.todense()\n",
    "data = np.asarray(data)\n",
    "print(type(data))"
   ]
  },
  {
   "cell_type": "code",
   "execution_count": 24,
   "metadata": {},
   "outputs": [
    {
     "name": "stdout",
     "output_type": "stream",
     "text": [
      "0\n",
      "1000\n"
     ]
    }
   ],
   "source": [
    "print(data[0][1124])\n",
    "print(len(data))"
   ]
  },
  {
   "cell_type": "markdown",
   "metadata": {},
   "source": [
    "Then we split the data up into the training, validation, and testing sets, at a 60:20:20 ratio.\n",
    "We are careful to have an even number of positive and negative sentiments in each section.\n",
    "Without staying even, our model would learn to guess, say, positive more often, simply because more reviews were positive!"
   ]
  },
  {
   "cell_type": "code",
   "execution_count": 11,
   "metadata": {},
   "outputs": [
    {
     "name": "stdout",
     "output_type": "stream",
     "text": [
      "(600, 1742)\n",
      "(200, 1742)\n",
      "(200, 1742)\n"
     ]
    }
   ],
   "source": [
    "# Split into train, test, and validate sets\n",
    "\n",
    "x_train = np.concatenate([data[:300], data[-300:]])\n",
    "y_train = np.concatenate([sentiment[:300], sentiment[-300:]])\n",
    "x_val = np.concatenate([data[300:400], data[600:700]])\n",
    "y_val = np.concatenate([sentiment[300:400], sentiment[600:700]])\n",
    "x_test = np.concatenate([data[400:600]])\n",
    "y_test = np.concatenate([sentiment[400:600]])\n",
    "print(x_train.shape)\n",
    "print(x_val.shape)\n",
    "print(x_test.shape)"
   ]
  },
  {
   "cell_type": "markdown",
   "metadata": {},
   "source": [
    "## Model Architecture"
   ]
  },
  {
   "cell_type": "markdown",
   "metadata": {},
   "source": [
    "### Model Creation \n",
    "\n",
    "This is where we finally make our neural network to process the vectorized data we made above. This process will consist of importing the libraries we need (keras in our instance), selecting the kind of model we wish to work with, creating the nueral network with it number of nodes and layers, selecting optimizer, loss, and metric functions, training, and then finally testing our data."
   ]
  },
  {
   "cell_type": "code",
   "execution_count": 12,
   "metadata": {},
   "outputs": [
    {
     "name": "stderr",
     "output_type": "stream",
     "text": [
      "Using TensorFlow backend.\n"
     ]
    }
   ],
   "source": [
    "#Import the models library from the keras main library to use for our model\n",
    "from keras import models\n",
    "\n",
    "#Import the layers library from the keras main library, this will allow us to create a sequential neural network with sequential layers\n",
    "from keras import layers\n",
    "\n",
    "\n",
    "#Will make our model a sequential model, with sequences of dense layers\n",
    "model = models.Sequential()\n",
    "\n",
    "#Will set the first layer as a dense layer with 16 nodes, will use the activation function relu and fit our layer to the data\n",
    "#Worth noting here that the number of layers and number of nodes are rather arbitrary, from our experience\n",
    "#with this particular model, 1 dense layer with 16 nodes each allowed for maximal accuracy in the test data\n",
    "#Will then output a single node dense layer that will output a continuous probability curve via the sigmoid function activator\n",
    "\n",
    "model.add(layers.Dense(16, activation = 'relu', input_shape = (x_train.shape[1],)))\n",
    "model.add(layers.Dense(1,  activation = 'sigmoid'))"
   ]
  },
  {
   "cell_type": "markdown",
   "metadata": {},
   "source": [
    "### Model Compilation\n",
    "\n",
    "Now that we have made our model, we must now choose what we want as our metric, our loss function, and our optimizer functions.\n",
    "\n",
    "Very large degree of freedom here, many different loss functions to use, as well as metrics for model evaluation\n",
    "and optimizer functions.\n",
    "\n",
    "From our experience with this model, was more useful to use the following optimizer, loss, and metric functions,\n",
    "but this can vary depending upon the project you are working on."
   ]
  },
  {
   "cell_type": "code",
   "execution_count": 13,
   "metadata": {},
   "outputs": [],
   "source": [
    "model.compile(optimizer = 'rmsprop',           #Set our optimizer function as \"rmsprop\"\n",
    "              loss = 'binary_crossentropy',    #Set up our loss function as \"binary cross entropy\"\n",
    "              metrics = ['accuracy'])          #Set up our metric function, will use \"accuracy\" here"
   ]
  },
  {
   "cell_type": "markdown",
   "metadata": {},
   "source": [
    "### Model Training\n",
    "Now that we have created our model and defined how we will evaluate our model and how it will optimize loss, will now train it.\n",
    "\n",
    "To keep track of how our model is doing, will want to print out a history of each epoch to see how our model is improving, and if it is overfitting.\n",
    "\n",
    "To train the model, must give our model the x_train and y_train data we set aside earlier, set a number of epochs we wish for the model to go through, the number of data entries per epoch, and (optionally), have it analyze a vlaidation set.\n",
    "\n",
    "Again, worth noting here that the number of epochs and batch size are completely aribtrary and will vary form model to model, from our experience, we wished to maximize accuracy, so a greater number of epochs was desirable "
   ]
  },
  {
   "cell_type": "code",
   "execution_count": 14,
   "metadata": {},
   "outputs": [
    {
     "name": "stdout",
     "output_type": "stream",
     "text": [
      "Train on 600 samples, validate on 200 samples\n",
      "Epoch 1/20\n",
      "600/600 [==============================] - 2s 4ms/step - loss: 0.6895 - acc: 0.5817 - val_loss: 0.6895 - val_acc: 0.5650\n",
      "Epoch 2/20\n",
      "600/600 [==============================] - 0s 78us/step - loss: 0.6727 - acc: 0.6817 - val_loss: 0.6842 - val_acc: 0.6300\n",
      "Epoch 3/20\n",
      "600/600 [==============================] - 0s 52us/step - loss: 0.6571 - acc: 0.7933 - val_loss: 0.6796 - val_acc: 0.6350\n",
      "Epoch 4/20\n",
      "600/600 [==============================] - 0s 52us/step - loss: 0.6404 - acc: 0.8150 - val_loss: 0.6723 - val_acc: 0.6800\n",
      "Epoch 5/20\n",
      "600/600 [==============================] - 0s 78us/step - loss: 0.6218 - acc: 0.8600 - val_loss: 0.6638 - val_acc: 0.7050\n",
      "Epoch 6/20\n",
      "600/600 [==============================] - 0s 52us/step - loss: 0.6020 - acc: 0.8783 - val_loss: 0.6556 - val_acc: 0.7200\n",
      "Epoch 7/20\n",
      "600/600 [==============================] - 0s 52us/step - loss: 0.5807 - acc: 0.9000 - val_loss: 0.6454 - val_acc: 0.7500\n",
      "Epoch 8/20\n",
      "600/600 [==============================] - 0s 52us/step - loss: 0.5588 - acc: 0.8983 - val_loss: 0.6350 - val_acc: 0.7500\n",
      "Epoch 9/20\n",
      "600/600 [==============================] - 0s 78us/step - loss: 0.5365 - acc: 0.9117 - val_loss: 0.6246 - val_acc: 0.7600\n",
      "Epoch 10/20\n",
      "600/600 [==============================] - 0s 52us/step - loss: 0.5142 - acc: 0.9167 - val_loss: 0.6127 - val_acc: 0.7800\n",
      "Epoch 11/20\n",
      "600/600 [==============================] - 0s 52us/step - loss: 0.4915 - acc: 0.9333 - val_loss: 0.6024 - val_acc: 0.7900\n",
      "Epoch 12/20\n",
      "600/600 [==============================] - 0s 52us/step - loss: 0.4692 - acc: 0.9383 - val_loss: 0.5912 - val_acc: 0.8000\n",
      "Epoch 13/20\n",
      "600/600 [==============================] - 0s 52us/step - loss: 0.4473 - acc: 0.9417 - val_loss: 0.5813 - val_acc: 0.8050\n",
      "Epoch 14/20\n",
      "600/600 [==============================] - 0s 52us/step - loss: 0.4260 - acc: 0.9383 - val_loss: 0.5712 - val_acc: 0.8100\n",
      "Epoch 15/20\n",
      "600/600 [==============================] - 0s 52us/step - loss: 0.4054 - acc: 0.9467 - val_loss: 0.5588 - val_acc: 0.8100\n",
      "Epoch 16/20\n",
      "600/600 [==============================] - 0s 52us/step - loss: 0.3851 - acc: 0.9567 - val_loss: 0.5500 - val_acc: 0.8100\n",
      "Epoch 17/20\n",
      "600/600 [==============================] - 0s 78us/step - loss: 0.3659 - acc: 0.9567 - val_loss: 0.5394 - val_acc: 0.8250\n",
      "Epoch 18/20\n",
      "600/600 [==============================] - 0s 52us/step - loss: 0.3471 - acc: 0.9600 - val_loss: 0.5291 - val_acc: 0.8150\n",
      "Epoch 19/20\n",
      "600/600 [==============================] - 0s 52us/step - loss: 0.3292 - acc: 0.9583 - val_loss: 0.5206 - val_acc: 0.8150\n",
      "Epoch 20/20\n",
      "600/600 [==============================] - 0s 52us/step - loss: 0.3120 - acc: 0.9600 - val_loss: 0.5137 - val_acc: 0.8050\n"
     ]
    }
   ],
   "source": [
    "history = model.fit(x_train,                            #Input the x_train data\n",
    "                       y_train,                         #Input the y_train data (features)\n",
    "                       epochs=20,                       #Set our model to go through 20 epochs\n",
    "                       batch_size=64,                   #Set our epoch batch size to 64 data entires\n",
    "                       validation_data=(x_val, y_val))  #Have our model also go through the validation set, x_val, y_val\n",
    "\n",
    "#To prevent overfitting, will plot the model accuracy against the validation accuracy and see where divergence occurs\n",
    "\n",
    "#Will use the matplotlib.pyplot library to access the necessary plotting functions we will need to plot our output"
   ]
  },
  {
   "cell_type": "code",
   "execution_count": 15,
   "metadata": {},
   "outputs": [
    {
     "data": {
      "text/plain": [
       "<Figure size 640x480 with 1 Axes>"
      ]
     },
     "metadata": {},
     "output_type": "display_data"
    }
   ],
   "source": [
    "import matplotlib.pyplot as plt\n",
    "\n",
    "#Plot the model accuracy by calling history.history['acc']\n",
    "plt.plot(history.history['acc'], label = \"Model Accuracy\")\n",
    "\n",
    "#Add the validation accurayc to our plot by calling history.history['val_acc']\n",
    "plt.plot(history.history['val_acc'], label = \"Validation Accuracy\")\n",
    "\n",
    "#Add a grid to the plot for neatness in analysis\n",
    "plt.grid()\n",
    "\n",
    "#Add a legend to our plot\n",
    "plt.legend()\n",
    "\n",
    "#Adding a label to the x-axis \n",
    "plt.xlabel(\"Epochs\")\n",
    "\n",
    "#Adding a label to the y-axis\n",
    "plt.ylabel(\"% Accuracy\")\n",
    "\n",
    "#Adding a limit to the x-axis range, want to make sure we get the full 0-20 epoch range\n",
    "plt.xlim(0,20)\n",
    "\n",
    "plt.show()"
   ]
  },
  {
   "cell_type": "markdown",
   "metadata": {},
   "source": [
    "### Model Testing\n",
    "\n",
    "Now that we have tried to prevent overfitting the data and have trained it, let's see how well it does on our test data set."
   ]
  },
  {
   "cell_type": "code",
   "execution_count": 16,
   "metadata": {},
   "outputs": [
    {
     "name": "stdout",
     "output_type": "stream",
     "text": [
      "200/200 [==============================] - 0s 0us/step\n",
      "Accuracy: 79.0%\n"
     ]
    }
   ],
   "source": [
    "#This step is as simple as calling the evaluate function from the keras models library with our x_test and y_test data sets\n",
    "#as parameters to pass in\n",
    "results = model.evaluate(x_test, y_test)\n",
    "\n",
    "#We've tested it, now let's print out how accurate our model is on the testing data set\n",
    "print (\"Accuracy:\", f\"{(results[1]) * 100}%\")"
   ]
  },
  {
   "cell_type": "code",
   "execution_count": null,
   "metadata": {},
   "outputs": [],
   "source": []
  }
 ],
 "metadata": {
  "kernelspec": {
   "display_name": "Python 3",
   "language": "python",
   "name": "python3"
  },
  "language_info": {
   "codemirror_mode": {
    "name": "ipython",
    "version": 3
   },
   "file_extension": ".py",
   "mimetype": "text/x-python",
   "name": "python",
   "nbconvert_exporter": "python",
   "pygments_lexer": "ipython3",
   "version": "3.6.8"
  }
 },
 "nbformat": 4,
 "nbformat_minor": 2
}
